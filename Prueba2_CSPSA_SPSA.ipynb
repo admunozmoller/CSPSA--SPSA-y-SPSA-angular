{
 "cells": [
  {
   "cell_type": "code",
   "execution_count": 1,
   "metadata": {
    "ExecuteTime": {
     "end_time": "2020-08-02T03:58:24.675680Z",
     "start_time": "2020-08-02T03:58:23.495238Z"
    }
   },
   "outputs": [],
   "source": [
    "import numpy as np\n",
    "import matplotlib.pyplot as plt\n",
    "import time\n",
    "import multiprocessing \n",
    "%run Funciones_CSPSA_SPSA.ipynb\n",
    "%matplotlib inline"
   ]
  },
  {
   "cell_type": "code",
   "execution_count": 2,
   "metadata": {
    "ExecuteTime": {
     "end_time": "2020-08-02T03:58:24.690177Z",
     "start_time": "2020-08-02T03:58:24.680268Z"
    }
   },
   "outputs": [],
   "source": [
    "# Ganancias estandar\n",
    "\n",
    "#s = 0.602\n",
    "#t = 0.101\n",
    "#A = 0\n",
    "#a = 3\n",
    "#b = 0.1\n",
    "\n",
    "\n",
    "# Ganancias asintoticas\n",
    "\n",
    "s = 1\n",
    "t = 0.166\n",
    "A = 0\n",
    "a = 3\n",
    "b = 0.1\n"
   ]
  },
  {
   "cell_type": "code",
   "execution_count": 3,
   "metadata": {
    "ExecuteTime": {
     "end_time": "2020-08-02T03:58:25.770950Z",
     "start_time": "2020-08-02T03:58:24.696052Z"
    }
   },
   "outputs": [],
   "source": [
    "d = 2\n",
    "nu_par = 1\n",
    "NU_IT = 500\n",
    "\n",
    "#A = np.sqrt(0.3)\n",
    "#B = np.sqrt(0.2)\n",
    "#C = np.sqrt(0.5)\n",
    "A = 1\n",
    "B = 3\n",
    "C = 5"
   ]
  },
  {
   "cell_type": "code",
   "execution_count": 4,
   "metadata": {
    "ExecuteTime": {
     "end_time": "2020-08-02T03:58:25.875474Z",
     "start_time": "2020-08-02T03:58:25.774100Z"
    }
   },
   "outputs": [],
   "source": [
    "psi_est = estado(d,nu_par)\n",
    "\n",
    "#psi_bloch = est_bloch(psi_est)[0]\n",
    "#phase = float(est_bloch(psi_est)[1])\n",
    "#theta = float(est_bloch(psi_est)[2])"
   ]
  },
  {
   "cell_type": "code",
   "execution_count": 5,
   "metadata": {
    "ExecuteTime": {
     "end_time": "2020-08-02T03:58:25.941861Z",
     "start_time": "2020-08-02T03:58:25.881098Z"
    }
   },
   "outputs": [],
   "source": [
    "H = H_paul(A,B,C)"
   ]
  },
  {
   "cell_type": "code",
   "execution_count": 6,
   "metadata": {
    "ExecuteTime": {
     "end_time": "2020-08-02T03:58:26.012171Z",
     "start_time": "2020-08-02T03:58:25.950034Z"
    }
   },
   "outputs": [],
   "source": [
    "fun = lambda x : exp_H(x, H)"
   ]
  },
  {
   "cell_type": "code",
   "execution_count": 7,
   "metadata": {
    "ExecuteTime": {
     "end_time": "2020-08-02T03:58:26.120241Z",
     "start_time": "2020-08-02T03:58:26.019426Z"
    }
   },
   "outputs": [
    {
     "name": "stdout",
     "output_type": "stream",
     "text": [
      "-5.916079783099616\n"
     ]
    }
   ],
   "source": [
    "# Ground-state Teórico\n",
    "\n",
    "E = A**2 + B**2 + C**2\n",
    "\n",
    "const1 = np.sqrt(1/2) * np.sqrt((A**2+B**2)/(E-C*(np.sqrt(E))))\n",
    "const2 = (C-np.sqrt(E))/(A+1j*B)\n",
    "\n",
    "#psi_teo = const1*np.matrix([[const2], [1]])\n",
    "#fun(psi_teo)\n",
    "\n",
    "Ground_teo = -(np.sqrt(A**2 + B**2 + C**2))\n",
    "print(Ground_teo)"
   ]
  },
  {
   "cell_type": "code",
   "execution_count": 8,
   "metadata": {
    "ExecuteTime": {
     "end_time": "2020-08-02T03:58:26.782371Z",
     "start_time": "2020-08-02T03:58:26.130619Z"
    }
   },
   "outputs": [],
   "source": [
    "Result_CSPSA = CSPSA(psi_est, NU_IT, fun, fun, s, t, a, A, b)"
   ]
  },
  {
   "cell_type": "code",
   "execution_count": 9,
   "metadata": {
    "ExecuteTime": {
     "end_time": "2020-08-02T03:58:26.811843Z",
     "start_time": "2020-08-02T03:58:26.800139Z"
    }
   },
   "outputs": [],
   "source": [
    "#Result_SPSA = SPSA(psi_est, NU_IT, fun, fun, s, t, a, A, b)"
   ]
  },
  {
   "cell_type": "code",
   "execution_count": 10,
   "metadata": {
    "ExecuteTime": {
     "end_time": "2020-08-02T03:58:27.354862Z",
     "start_time": "2020-08-02T03:58:26.822608Z"
    }
   },
   "outputs": [],
   "source": [
    "#Result_SPSA_ang = SPSA_ang(psi_est, NU_IT, fun, fun, s, t, a, A, b)"
   ]
  },
  {
   "cell_type": "code",
   "execution_count": 11,
   "metadata": {
    "ExecuteTime": {
     "end_time": "2020-08-02T03:58:27.456960Z",
     "start_time": "2020-08-02T03:58:27.359275Z"
    }
   },
   "outputs": [],
   "source": [
    "#error_CSPSA = abs(Result_CSPSA - Ground_teo)\n",
    "#error_SPSA = abs(Result_SPSA - Ground_teo)\n",
    "#error_SPSA_ang = abs(Result_SPSA_ang - Ground_teo)"
   ]
  },
  {
   "cell_type": "code",
   "execution_count": 12,
   "metadata": {
    "ExecuteTime": {
     "end_time": "2020-08-02T03:58:27.530725Z",
     "start_time": "2020-08-02T03:58:27.465300Z"
    }
   },
   "outputs": [],
   "source": [
    "#plt.loglog(np.array(error_CSPSA[:]).T, label='CSPSA')\n",
    "#plt.loglog(np.array(error_SPSA[:]).T, label='SPSA')\n",
    "#plt.loglog(np.array(error_SPSA_ang[:]).T, label='SPSA_ang')\n",
    "#plt.legend()"
   ]
  },
  {
   "cell_type": "code",
   "execution_count": 13,
   "metadata": {
    "ExecuteTime": {
     "end_time": "2020-08-02T03:58:27.606365Z",
     "start_time": "2020-08-02T03:58:27.533732Z"
    }
   },
   "outputs": [],
   "source": [
    "#plt.plot(np.array(Result_CSPSA[:]).T)\n",
    "#plt.loglog(np.array(error_CSPSA[:]).T)"
   ]
  },
  {
   "cell_type": "code",
   "execution_count": 14,
   "metadata": {
    "ExecuteTime": {
     "end_time": "2020-08-02T03:58:27.683598Z",
     "start_time": "2020-08-02T03:58:27.609509Z"
    }
   },
   "outputs": [],
   "source": [
    "#plt.plot(np.array(Result_SPSA[:]).T)\n",
    "#plt.loglog(np.array(error_SPSA[:]).T)"
   ]
  },
  {
   "cell_type": "code",
   "execution_count": 15,
   "metadata": {
    "ExecuteTime": {
     "end_time": "2020-08-02T03:58:27.790409Z",
     "start_time": "2020-08-02T03:58:27.688067Z"
    }
   },
   "outputs": [],
   "source": [
    "#plt.plot(np.array(Result_SPSA_ang[:]).T)\n",
    "#plt.loglog(np.array(error_SPSA_ang[:]).T)"
   ]
  },
  {
   "cell_type": "code",
   "execution_count": 16,
   "metadata": {
    "ExecuteTime": {
     "end_time": "2020-08-02T03:58:27.872208Z",
     "start_time": "2020-08-02T03:58:27.793258Z"
    }
   },
   "outputs": [],
   "source": [
    "#plt.plot(np.array(Result_SPSA_ang[:]).T, label='SPSA_ang')\n",
    "#plt.plot(np.array(Result_CSPSA[:]).T,label='CSPSA')\n",
    "#plt.xlim(0,100)\n",
    "#plt.ylim(-7,-4)\n",
    "#plt.legend()"
   ]
  },
  {
   "cell_type": "code",
   "execution_count": 17,
   "metadata": {
    "ExecuteTime": {
     "end_time": "2020-08-02T03:58:27.956707Z",
     "start_time": "2020-08-02T03:58:27.875202Z"
    }
   },
   "outputs": [],
   "source": [
    "# numero de realizaciones para promediar\n",
    "\n",
    "num = 3\n",
    "\n",
    "\n",
    "x = range(0,num)\n",
    "y = len(x)\n",
    "\n",
    "\n",
    "psi_est_ar = np.empty((0,d,1), dtype=np.cdouble)\n",
    "Result_CSPSA_ar = np.empty((0,1,NU_IT), dtype=np.single)\n",
    "Result_SPSA_ar = np.empty((0,1,NU_IT), dtype=np.single)\n",
    "Result_SPSA_ang_ar = np.empty((0,1,NU_IT), dtype=np.single)\n",
    "\n",
    "error_CSPSA_ar = np.empty((0,1,NU_IT), dtype=np.single)\n",
    "error_SPSA_ar = np.empty((0,1,NU_IT), dtype=np.single)\n",
    "error_SPSA_ang_ar = np.empty((0,1,NU_IT), dtype=np.single)\n"
   ]
  },
  {
   "cell_type": "code",
   "execution_count": 33,
   "metadata": {
    "ExecuteTime": {
     "end_time": "2020-08-02T04:01:38.379729Z",
     "start_time": "2020-08-02T04:01:38.362386Z"
    }
   },
   "outputs": [],
   "source": [
    "# Crear ensamble de estados inciales\n",
    "\n",
    "for i in x:\n",
    "    psi_est = estado(d,nu_par)\n",
    "    psi_est_ar = np.insert(psi_est_ar, 0, psi_est, axis=0)"
   ]
  },
  {
   "cell_type": "code",
   "execution_count": 56,
   "metadata": {
    "ExecuteTime": {
     "end_time": "2020-08-02T04:03:58.228279Z",
     "start_time": "2020-08-02T04:03:53.423780Z"
    }
   },
   "outputs": [],
   "source": [
    "for i in x:\n",
    "    psi_est = psi_est_ar[i]\n",
    "    Result_CSPSA = CSPSA(psi_est, NU_IT, fun, fun, s, t, a, A, b)\n",
    "    Result_SPSA = SPSA(psi_est, NU_IT, fun, fun, s, t, a, A, b)\n",
    "    Result_SPSA_ang = SPSA_ang(psi_est, NU_IT, fun, fun, s, t, a, A, b)\n",
    "    \n",
    "    error_CSPSA = abs(Result_CSPSA - Ground_teo)\n",
    "    error_SPSA = abs(Result_SPSA - Ground_teo)\n",
    "    error_SPSA_ang = abs(Result_SPSA_ang - Ground_teo)\n",
    "    \n",
    "    Result_CSPSA_ar = np.insert(Result_CSPSA_ar, 0, Result_CSPSA, axis=0)\n",
    "    Result_SPSA_ar = np.insert(Result_SPSA_ar, 0, Result_SPSA, axis=0)\n",
    "    Result_SPSA_ang_ar = np.insert(Result_SPSA_ang_ar, 0, Result_SPSA_ang, axis=0)\n",
    "    \n",
    "    error_CSPSA_ar = np.insert(error_CSPSA_ar, 0, error_CSPSA, axis=0)\n",
    "    error_SPSA_ar = np.insert(error_SPSA_ar, 0, error_SPSA, axis=0)\n",
    "    error_SPSA_ang_ar = np.insert(error_SPSA_ang_ar, 0, error_SPSA_ang, axis=0)"
   ]
  },
  {
   "cell_type": "code",
   "execution_count": null,
   "metadata": {
    "ExecuteTime": {
     "end_time": "2020-08-02T03:57:43.961721Z",
     "start_time": "2020-08-02T03:57:43.948874Z"
    }
   },
   "outputs": [],
   "source": [
    "def multiprocessing_func(i):\n",
    "    Result_CSPSA_ar[i] = CSPSA(psi_est_ar[i], NU_IT, fun, fun, s, t, a, A, b)\n",
    "    Result_SPSA_ar[i] = SPSA(psi_est_ar[i], NU_IT, fun, fun, s, t, a, A, b)\n",
    "    Result_SPSA_ang_ar[i] = SPSA_ang(psi_est_ar[i], NU_IT, fun, fun, s, t, a, A, b)\n",
    "    \n",
    "    error_CSPSA_ar[i] = abs(Result_CSPSA_ar[i] - Ground_teo)\n",
    "    error_SPSA_ar[i] = abs(Result_SPSA_ar[i] - Ground_teo)\n",
    "    error_SPSA_ang_ar[i] = abs(Result_SPSA_ang_ar[i] - Ground_teo)\n",
    "    print('Result_CSPSA_ar[i]')"
   ]
  },
  {
   "cell_type": "code",
   "execution_count": null,
   "metadata": {
    "ExecuteTime": {
     "end_time": "2020-08-02T02:44:12.350554Z",
     "start_time": "2020-08-02T02:44:03.977622Z"
    }
   },
   "outputs": [],
   "source": [
    "if __name__ == '__main__':\n",
    "    processes = []\n",
    "    for i in x:\n",
    "        p = multiprocessing.Process(target=multiprocessing_func, args=(i,))\n",
    "        processes.append(p)\n",
    "        p.start()\n",
    "        \n",
    "    for process in processes:\n",
    "        process.join()"
   ]
  },
  {
   "cell_type": "code",
   "execution_count": 57,
   "metadata": {
    "ExecuteTime": {
     "end_time": "2020-08-02T04:03:58.262381Z",
     "start_time": "2020-08-02T04:03:58.234470Z"
    }
   },
   "outputs": [],
   "source": [
    "Result_CSPSA_pro = np.sum(Result_CSPSA_ar, axis=0)/y\n",
    "Result_SPSA_pro = np.sum(Result_SPSA_ar, axis=0)/y\n",
    "Result_SPSA_ang_pro = np.sum(Result_SPSA_ang_ar, axis=0)/y\n",
    "\n",
    "error_CSPSA_pro = np.sum(error_CSPSA_ar, axis=0)/y\n",
    "error_SPSA_pro = np.sum(error_SPSA_ar, axis=0)/y\n",
    "error_SPSA_ang_pro = np.sum(error_SPSA_ang_ar, axis=0)/y\n"
   ]
  },
  {
   "cell_type": "code",
   "execution_count": 58,
   "metadata": {
    "ExecuteTime": {
     "end_time": "2020-08-02T04:03:58.368167Z",
     "start_time": "2020-08-02T04:03:58.266428Z"
    }
   },
   "outputs": [],
   "source": [
    "#plt.loglog(np.array(error_CSPSA_pro[:]).T)"
   ]
  },
  {
   "cell_type": "code",
   "execution_count": 59,
   "metadata": {
    "ExecuteTime": {
     "end_time": "2020-08-02T04:03:59.281056Z",
     "start_time": "2020-08-02T04:03:58.374495Z"
    }
   },
   "outputs": [],
   "source": [
    "#plt.loglog(np.array(error_SPSA_pro[:]).T)"
   ]
  },
  {
   "cell_type": "code",
   "execution_count": 60,
   "metadata": {
    "ExecuteTime": {
     "end_time": "2020-08-02T04:03:59.383391Z",
     "start_time": "2020-08-02T04:03:59.290498Z"
    }
   },
   "outputs": [],
   "source": [
    "#plt.loglog(np.array(error_SPSA_ang_pro[:]).T)"
   ]
  },
  {
   "cell_type": "code",
   "execution_count": 61,
   "metadata": {
    "ExecuteTime": {
     "end_time": "2020-08-02T04:04:01.881292Z",
     "start_time": "2020-08-02T04:03:59.388966Z"
    }
   },
   "outputs": [
    {
     "data": {
      "text/plain": [
       "<matplotlib.legend.Legend at 0x7f9a97882400>"
      ]
     },
     "execution_count": 61,
     "metadata": {},
     "output_type": "execute_result"
    },
    {
     "data": {
      "image/png": "[encoded data removed]",
      "text/plain": [
       "<Figure size 432x288 with 1 Axes>"
      ]
     },
     "metadata": {
      "needs_background": "light"
     },
     "output_type": "display_data"
    }
   ],
   "source": [
    "plt.loglog(np.array(error_CSPSA_pro[:]).T, label='CSPSA')\n",
    "plt.loglog(np.array(error_SPSA_pro[:]).T, label='SPSA')\n",
    "plt.loglog(np.array(error_SPSA_ang_pro[:]).T, label='SPSA_ang')\n",
    "plt.legend()"
   ]
  },
  {
   "cell_type": "code",
   "execution_count": 62,
   "metadata": {
    "ExecuteTime": {
     "end_time": "2020-08-02T04:04:02.454847Z",
     "start_time": "2020-08-02T04:04:01.884629Z"
    }
   },
   "outputs": [
    {
     "data": {
      "text/plain": [
       "<matplotlib.legend.Legend at 0x7f9a975fa240>"
      ]
     },
     "execution_count": 62,
     "metadata": {},
     "output_type": "execute_result"
    },
    {
     "data": {
      "image/png": "[encoded data removed]",
      "text/plain": [
       "<Figure size 432x288 with 1 Axes>"
      ]
     },
     "metadata": {
      "needs_background": "light"
     },
     "output_type": "display_data"
    }
   ],
   "source": [
    "plt.plot(np.array(Result_CSPSA_pro[:]).T,label='CSPSA')\n",
    "plt.plot(np.array(Result_SPSA_pro[:]).T, label='SPSA')\n",
    "plt.plot(np.array(Result_SPSA_ang_pro[:]).T, label='SPSA_ang')\n",
    "\n",
    "#plt.xlim(0,90)\n",
    "#plt.ylim(-6.5,-4)\n",
    "plt.legend()"
   ]
  },
  {
   "cell_type": "code",
   "execution_count": 63,
   "metadata": {
    "ExecuteTime": {
     "end_time": "2020-08-02T04:04:02.469263Z",
     "start_time": "2020-08-02T04:04:02.461284Z"
    },
    "scrolled": true
   },
   "outputs": [],
   "source": [
    "#np.savetxt('prueba.txt', Result_SPSA, delimiter=',')\n",
    "#print(Result_SPSA)"
   ]
  },
  {
   "cell_type": "code",
   "execution_count": 27,
   "metadata": {
    "ExecuteTime": {
     "end_time": "2020-08-02T03:58:37.007305Z",
     "start_time": "2020-08-02T03:58:36.881076Z"
    }
   },
   "outputs": [],
   "source": [
    "#np.savetxt('prueba.txt', Result_CSPSA, delimiter=',')\n",
    "#print(Result_CSPSA)"
   ]
  },
  {
   "cell_type": "code",
   "execution_count": 28,
   "metadata": {
    "ExecuteTime": {
     "end_time": "2020-08-02T03:58:37.135795Z",
     "start_time": "2020-08-02T03:58:37.019509Z"
    }
   },
   "outputs": [],
   "source": [
    "#np.savetxt('prueba.txt', Result_SPSA_ang, delimiter=',')\n",
    "#print(Result_SPSA_ang)"
   ]
  }
 ],
 "metadata": {
  "kernelspec": {
   "display_name": "Python 3",
   "language": "python",
   "name": "python3"
  },
  "language_info": {
   "codemirror_mode": {
    "name": "ipython",
    "version": 3
   },
   "file_extension": ".py",
   "mimetype": "text/x-python",
   "name": "python",
   "nbconvert_exporter": "python",
   "pygments_lexer": "ipython3",
   "version": "3.6.10"
  }
 },
 "nbformat": 4,
 "nbformat_minor": 4
}
