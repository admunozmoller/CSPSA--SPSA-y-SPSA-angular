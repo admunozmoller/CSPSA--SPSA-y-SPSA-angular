{
 "cells": [
  {
   "cell_type": "code",
   "execution_count": 1,
   "metadata": {
    "ExecuteTime": {
     "end_time": "2020-08-11T04:35:26.737567Z",
     "start_time": "2020-08-11T04:35:26.052670Z"
    }
   },
   "outputs": [],
   "source": [
    "import numpy as np\n",
    "import matplotlib.pyplot as plt\n",
    "import multiprocessing \n",
    "#from joblib import Parallel, delayed\n",
    "%run Funciones_CSPSA_SPSA.ipynb\n",
    "%matplotlib inline"
   ]
  },
  {
   "cell_type": "code",
   "execution_count": 2,
   "metadata": {
    "ExecuteTime": {
     "end_time": "2020-08-11T04:35:27.052937Z",
     "start_time": "2020-08-11T04:35:26.744324Z"
    }
   },
   "outputs": [],
   "source": [
    "# Dimension estado d\n",
    "d = 2\n",
    "nu_par = 1\n",
    "\n",
    "\n",
    "# Numero de iteraciones\n",
    "NU_IT = 300\n",
    "\n",
    "\n",
    "# Parametros Hamiltoniano\n",
    "\n",
    "A = 1\n",
    "B = 3\n",
    "C = 5\n",
    "\n",
    "\n",
    "# Definir estado\n",
    "\n",
    "psi_est = estado(d,nu_par)\n",
    "\n",
    "\n",
    "# Definir Hamiltoniano\n",
    "\n",
    "H = H_paul(A,B,C)\n",
    "\n",
    "\n",
    "# Funcion Valor de Expectacion\n",
    "\n",
    "fun = lambda x : exp_H(x, H)\n",
    "\n",
    "\n",
    "# Ground-state Teórico\n",
    "\n",
    "Ground_teo = -(np.sqrt(A**2 + B**2 + C**2))"
   ]
  },
  {
   "cell_type": "code",
   "execution_count": 3,
   "metadata": {
    "ExecuteTime": {
     "end_time": "2020-08-11T04:35:27.298582Z",
     "start_time": "2020-08-11T04:35:27.056878Z"
    }
   },
   "outputs": [],
   "source": [
    "# Autovalores Teórico\n",
    "\n",
    "E = A**2 + B**2 + C**2\n",
    "\n",
    "Emas = np.sqrt(E)\n",
    "\n",
    "Emen = -np.sqrt(E)\n",
    "\n",
    "# Autovectores\n",
    "\n",
    "#c1mas = np.sqrt(1/2) * np.sqrt((A**2+B**2)/(E+C*(np.sqrt(E))))\n",
    "c2mas = (C+np.sqrt(E))/(A+1j*B)\n",
    "\n",
    "#c1men = np.sqrt(1/2) * np.sqrt((A**2+B**2)/(E-C*(np.sqrt(E))))\n",
    "c2men = (C-np.sqrt(E))/(A+1j*B)\n",
    "\n",
    "Pma = np.matrix([[c2mas], [1]])\n",
    "Pme = np.matrix([[c2men], [1]])\n",
    "\n",
    "Pmas = Pma/np.linalg.norm(Pma, axis=0)\n",
    "Pmen = Pme/np.linalg.norm(Pme, axis=0)\n",
    "\n",
    "Pmas_dag = Pmas.getH()\n",
    "Pmen_dag = Pmen.getH()\n",
    "\n",
    "# Haniltonian diagonalizado\n",
    "\n",
    "diag_H = Emas*Pmas*Pmas_dag + Emen*Pmen*Pmen_dag"
   ]
  },
  {
   "cell_type": "code",
   "execution_count": 4,
   "metadata": {
    "ExecuteTime": {
     "end_time": "2020-08-11T04:35:27.382752Z",
     "start_time": "2020-08-11T04:35:27.302211Z"
    }
   },
   "outputs": [],
   "source": [
    "fun2 = lambda x : diag_expH(x, Emas, Emen, Pmas, Pmen)"
   ]
  },
  {
   "cell_type": "code",
   "execution_count": 5,
   "metadata": {
    "ExecuteTime": {
     "end_time": "2020-08-11T04:35:27.467500Z",
     "start_time": "2020-08-11T04:35:27.386958Z"
    }
   },
   "outputs": [],
   "source": [
    "# Ganancias asintoticas [s, t, b]\n",
    "\n",
    "gan0 = [1, 0.166,0.1]\n",
    "gan1 = [1, 0.166,0.01]\n",
    "\n",
    "\n",
    "# Ganancias estandar [s, t, b]\n",
    "\n",
    "#gan2 = [0.602, 0.101,0.1]\n",
    "#gan3 = [0.602, 0.101,0.01]\n",
    "\n",
    "Gan = [gan0, gan1]\n",
    "\n",
    "a = 1\n",
    "A1 = 5\n",
    "\n",
    "#a = 3\n",
    "#A1 = 0"
   ]
  },
  {
   "cell_type": "code",
   "execution_count": 6,
   "metadata": {
    "ExecuteTime": {
     "end_time": "2020-08-11T04:35:27.534806Z",
     "start_time": "2020-08-11T04:35:27.474984Z"
    }
   },
   "outputs": [],
   "source": [
    "# Estados en el ensamble\n",
    "\n",
    "num = 200\n",
    "\n",
    "\n",
    "x = range(0,num)\n",
    "y = len(x)"
   ]
  },
  {
   "cell_type": "code",
   "execution_count": 7,
   "metadata": {
    "ExecuteTime": {
     "end_time": "2020-08-11T04:35:27.957392Z",
     "start_time": "2020-08-11T04:35:27.538560Z"
    }
   },
   "outputs": [],
   "source": [
    "def calculo_ensamble(i):\n",
    "    \n",
    "    Result_CSPSA_ar = np.empty((0,1,NU_IT), dtype=np.longdouble)\n",
    "    Result_SPSA_ar = np.empty((0,1,NU_IT), dtype=np.longdouble)\n",
    "    Result_SPSA_ang_ar = np.empty((0,1,NU_IT), dtype=np.longdouble)\n",
    "\n",
    "    error_CSPSA_ar = np.empty((0,1,NU_IT), dtype=np.longdouble)\n",
    "    error_SPSA_ar = np.empty((0,1,NU_IT), dtype=np.longdouble)\n",
    "    error_SPSA_ang_ar = np.empty((0,1,NU_IT), dtype=np.longdouble)\n",
    "     \n",
    "    psi_est = estado(d,nu_par)\n",
    "    Result_CSPSA = CSPSA(psi_est, NU_IT, fun2, fun2, s, t, a, A1, b)\n",
    "    Result_SPSA = SPSA(psi_est, NU_IT, fun2, fun2, s, t, a, A1, b)\n",
    "    Result_SPSA_ang = SPSA_ang(psi_est, NU_IT, fun2, fun2, s, t, a, A1, b)\n",
    "    \n",
    "    error_CSPSA = abs(Result_CSPSA - Ground_teo)\n",
    "    error_SPSA = abs(Result_SPSA - Ground_teo)\n",
    "    error_SPSA_ang = abs(Result_SPSA_ang - Ground_teo)\n",
    "    \n",
    "    Result_CSPSA_ar = np.insert(Result_CSPSA_ar, 0, Result_CSPSA, axis=0)\n",
    "    Result_SPSA_ar = np.insert(Result_SPSA_ar, 0, Result_SPSA, axis=0)\n",
    "    Result_SPSA_ang_ar = np.insert(Result_SPSA_ang_ar, 0, Result_SPSA_ang, axis=0)\n",
    "    \n",
    "    error_CSPSA_ar = np.insert(error_CSPSA_ar, 0, error_CSPSA, axis=0)\n",
    "    error_SPSA_ar = np.insert(error_SPSA_ar, 0, error_SPSA, axis=0)\n",
    "    error_SPSA_ang_ar = np.insert(error_SPSA_ang_ar, 0, error_SPSA_ang, axis=0)\n",
    "    \n",
    "    return Result_CSPSA_ar, Result_SPSA_ar, Result_SPSA_ang_ar, error_CSPSA_ar, error_SPSA_ar, error_SPSA_ang_ar"
   ]
  },
  {
   "cell_type": "code",
   "execution_count": 8,
   "metadata": {
    "ExecuteTime": {
     "end_time": "2020-08-11T04:35:28.052328Z",
     "start_time": "2020-08-11T04:35:27.963904Z"
    }
   },
   "outputs": [],
   "source": [
    "def ord_res(p):\n",
    "    \n",
    "    # Ordenar resultados\n",
    "\n",
    "    Results = np.array(p)\n",
    "\n",
    "    Result_CSPSA_ar = Results[:,0,:,:,:]\n",
    "    Result_SPSA_ar = Results[:,1,:,:,:]\n",
    "    Result_SPSA_ang_ar = Results[:,2,:,:,:]\n",
    "\n",
    "    error_CSPSA_ar = Results[:,3,:,:,:]\n",
    "    error_SPSA_ar = Results[:,4,:,:,:]\n",
    "    error_SPSA_ang_ar = Results[:,5,:,:,:]\n",
    "    \n",
    "    # Calculo de promedios\n",
    "\n",
    "    Result_CSPSA_pro = np.sum(Result_CSPSA_ar, axis=0)/y\n",
    "    Result_SPSA_pro = np.sum(Result_SPSA_ar, axis=0)/y\n",
    "    Result_SPSA_ang_pro = np.sum(Result_SPSA_ang_ar, axis=0)/y\n",
    "\n",
    "    error_CSPSA_pro = np.sum(error_CSPSA_ar, axis=0)/y\n",
    "    error_SPSA_pro = np.sum(error_SPSA_ar, axis=0)/y\n",
    "    error_SPSA_ang_pro = np.sum(error_SPSA_ang_ar, axis=0)/y\n",
    "\n",
    "    Result_CSPSA = Result_CSPSA_pro[0,0,:]\n",
    "    Result_SPSA = Result_SPSA_pro[0,0,:]\n",
    "    Result_SPSA_ang = Result_SPSA_ang_pro[0,0,:]\n",
    "    \n",
    "    error_CSPSA = error_CSPSA_pro[0,0,:]\n",
    "    error_SPSA = error_SPSA_pro[0,0,:]\n",
    "    error_SPSA_ang = error_SPSA_ang_pro[0,0,:]\n",
    "    \n",
    "    return error_CSPSA, error_SPSA, error_SPSA_ang, Result_CSPSA, Result_SPSA, Result_SPSA_ang"
   ]
  },
  {
   "cell_type": "code",
   "execution_count": 9,
   "metadata": {
    "ExecuteTime": {
     "end_time": "2020-08-11T04:39:29.668852Z",
     "start_time": "2020-08-11T04:35:28.059459Z"
    }
   },
   "outputs": [],
   "source": [
    "Loop = []\n",
    "for ganancia in Gan:\n",
    "    s = ganancia[0]\n",
    "    t = ganancia[1]\n",
    "    b = ganancia[2]\n",
    "    if __name__ == '__main__':\n",
    "        pool = multiprocessing.Pool(2)\n",
    "        p = pool.map(calculo_ensamble, x, 2)\n",
    "        pool.close()\n",
    "        pool.join()\n",
    "    p = np.array(p)\n",
    "    Loop.append(p)"
   ]
  },
  {
   "cell_type": "code",
   "execution_count": 10,
   "metadata": {
    "ExecuteTime": {
     "end_time": "2020-08-11T04:39:29.729135Z",
     "start_time": "2020-08-11T04:39:29.672479Z"
    }
   },
   "outputs": [],
   "source": [
    "Resultados = []\n",
    "for i in range(0,len(Gan)):\n",
    "    R = np.array(Loop[i])\n",
    "    Resultado = ord_res(R)\n",
    "    Resultados.append(Resultado)"
   ]
  },
  {
   "cell_type": "code",
   "execution_count": 11,
   "metadata": {
    "ExecuteTime": {
     "end_time": "2020-08-11T04:39:30.811467Z",
     "start_time": "2020-08-11T04:39:29.738852Z"
    }
   },
   "outputs": [],
   "source": [
    "g0 = Resultados[0]\n",
    "a0 = a\n",
    "b0 = gan0[2]\n",
    "\n",
    "g1 = Resultados[1]\n",
    "a1 = a\n",
    "b1 = gan1[2]\n",
    "\n",
    "#g2 = Resultados[2]\n",
    "#a2 = a\n",
    "#b2 = gan2[2]\n",
    "\n",
    "#g3 = Resultados[3]\n",
    "#a3 = a\n",
    "#b3 = gan3[2]\n",
    "\n",
    "\n",
    "asin = str('Asintoticas')\n",
    "#stan = str('Estandar')"
   ]
  },
  {
   "cell_type": "code",
   "execution_count": 12,
   "metadata": {
    "ExecuteTime": {
     "end_time": "2020-08-11T04:39:30.914164Z",
     "start_time": "2020-08-11T04:39:30.816053Z"
    }
   },
   "outputs": [],
   "source": [
    "def graf_errores(g0, g1, g2, tipo, gan_a, gan_b):\n",
    "    plt.loglog(np.array(g0).T, label='CSPSA')\n",
    "    plt.loglog(np.array(g1).T, label='SPSA')\n",
    "    plt.loglog(np.array(g2).T, label='SPSA_ang')\n",
    "    plt.ylabel('Error')\n",
    "    plt.xlabel('Iteraciones')\n",
    "    plt.title('Ganancias_' + tipo + ', a='+ str(gan_a) +', b=' + str(gan_b))\n",
    "    plt.legend()\n",
    "    plt.grid()\n",
    "    plt.savefig(tipo +'Errores_a=' + str(gan_a) + '_b=' + str(gan_b) + '.png')"
   ]
  },
  {
   "cell_type": "code",
   "execution_count": 13,
   "metadata": {
    "ExecuteTime": {
     "end_time": "2020-08-11T04:39:31.009000Z",
     "start_time": "2020-08-11T04:39:30.918359Z"
    }
   },
   "outputs": [],
   "source": [
    "def graf_E0(g3, g4, g5, tipo, gan_a, gan_b):\n",
    "    plt.plot(np.array(g3).T,label='CSPSA')\n",
    "    plt.plot(np.array(g4).T, label='SPSA')\n",
    "    plt.plot(np.array(g5).T, label='SPSA_ang')\n",
    "    plt.ylabel('Ground State')\n",
    "    plt.xlabel('Iteraciones')\n",
    "    plt.title('Ganancias_' + tipo + ', a='+ str(gan_a) +', b=' + str(gan_b))\n",
    "    plt.legend()\n",
    "    plt.grid()\n",
    "    plt.savefig(tipo +'Ground State_a=' + str(gan_a) + '_b=' + str(gan_b) + '.png')"
   ]
  },
  {
   "cell_type": "code",
   "execution_count": 14,
   "metadata": {
    "ExecuteTime": {
     "end_time": "2020-08-11T04:39:32.922582Z",
     "start_time": "2020-08-11T04:39:31.012247Z"
    }
   },
   "outputs": [
    {
     "data": {
      "image/png": "[encoded data removed]",
      "text/plain": [
       "<Figure size 432x288 with 1 Axes>"
      ]
     },
     "metadata": {
      "needs_background": "light"
     },
     "output_type": "display_data"
    }
   ],
   "source": [
    "graf_errores(g0[0], g0[1], g0[2], asin, a0, b0)"
   ]
  },
  {
   "cell_type": "code",
   "execution_count": 15,
   "metadata": {
    "ExecuteTime": {
     "end_time": "2020-08-11T04:39:34.056683Z",
     "start_time": "2020-08-11T04:39:32.925410Z"
    }
   },
   "outputs": [
    {
     "data": {
      "image/png": "[encoded data removed]",
      "text/plain": [
       "<Figure size 432x288 with 1 Axes>"
      ]
     },
     "metadata": {
      "needs_background": "light"
     },
     "output_type": "display_data"
    }
   ],
   "source": [
    "graf_errores(g1[0], g1[1], g1[2], asin, a1, b1)"
   ]
  },
  {
   "cell_type": "code",
   "execution_count": 16,
   "metadata": {
    "ExecuteTime": {
     "end_time": "2020-08-11T04:39:34.069167Z",
     "start_time": "2020-08-11T04:39:34.059551Z"
    }
   },
   "outputs": [],
   "source": [
    "#graf_errores(g2[0], g2[1], g2[2], stan, a2, b2)"
   ]
  },
  {
   "cell_type": "code",
   "execution_count": 17,
   "metadata": {
    "ExecuteTime": {
     "end_time": "2020-08-11T04:39:34.175659Z",
     "start_time": "2020-08-11T04:39:34.071548Z"
    }
   },
   "outputs": [],
   "source": [
    "#graf_errores(g3[0], g3[1], g3[2], stan, a3, b3)"
   ]
  },
  {
   "cell_type": "code",
   "execution_count": 18,
   "metadata": {
    "ExecuteTime": {
     "end_time": "2020-08-11T04:39:34.713425Z",
     "start_time": "2020-08-11T04:39:34.184992Z"
    }
   },
   "outputs": [
    {
     "data": {
      "image/png": "[encoded data removed]",
      "text/plain": [
       "<Figure size 432x288 with 1 Axes>"
      ]
     },
     "metadata": {
      "needs_background": "light"
     },
     "output_type": "display_data"
    }
   ],
   "source": [
    "graf_E0(g0[3], g0[4], g0[5], asin, a0, b0)"
   ]
  },
  {
   "cell_type": "code",
   "execution_count": 19,
   "metadata": {
    "ExecuteTime": {
     "end_time": "2020-08-11T04:39:35.215705Z",
     "start_time": "2020-08-11T04:39:34.720558Z"
    }
   },
   "outputs": [
    {
     "data": {
      "image/png": "[encoded data removed]",
      "text/plain": [
       "<Figure size 432x288 with 1 Axes>"
      ]
     },
     "metadata": {
      "needs_background": "light"
     },
     "output_type": "display_data"
    }
   ],
   "source": [
    "graf_E0(g1[3], g1[4], g1[5], asin, a1, b1)"
   ]
  },
  {
   "cell_type": "code",
   "execution_count": 20,
   "metadata": {
    "ExecuteTime": {
     "end_time": "2020-08-11T04:39:35.228347Z",
     "start_time": "2020-08-11T04:39:35.218707Z"
    }
   },
   "outputs": [],
   "source": [
    "#graf_E0(g2[3], g2[4], g0[5], stan, a2, b2)"
   ]
  },
  {
   "cell_type": "code",
   "execution_count": 21,
   "metadata": {
    "ExecuteTime": {
     "end_time": "2020-08-11T04:39:35.297602Z",
     "start_time": "2020-08-11T04:39:35.230956Z"
    }
   },
   "outputs": [],
   "source": [
    "#graf_E0(g3[3], g3[4], g3[5], stan, a3, b3)"
   ]
  }
 ],
 "metadata": {
  "kernelspec": {
   "display_name": "Python 3",
   "language": "python",
   "name": "python3"
  },
  "language_info": {
   "codemirror_mode": {
    "name": "ipython",
    "version": 3
   },
   "file_extension": ".py",
   "mimetype": "text/x-python",
   "name": "python",
   "nbconvert_exporter": "python",
   "pygments_lexer": "ipython3",
   "version": "3.6.10"
  }
 },
 "nbformat": 4,
 "nbformat_minor": 4
}
