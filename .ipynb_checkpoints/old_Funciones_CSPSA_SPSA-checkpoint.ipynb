{
 "cells": [
  {
   "cell_type": "code",
   "execution_count": 1,
   "metadata": {
    "ExecuteTime": {
     "end_time": "2020-08-25T16:03:42.413249Z",
     "start_time": "2020-08-25T16:03:41.320084Z"
    }
   },
   "outputs": [],
   "source": [
    "import numpy as np\n",
    "import matplotlib.pyplot as plt\n",
    "%matplotlib inline"
   ]
  },
  {
   "cell_type": "code",
   "execution_count": 1,
   "metadata": {
    "ExecuteTime": {
     "end_time": "2020-09-07T01:36:28.590816Z",
     "start_time": "2020-09-07T01:36:28.572930Z"
    }
   },
   "outputs": [],
   "source": [
    "def old_CSPSA(psi_est, nu_ite, fun_teor, fun, s, t, a, A, b):\n",
    "    \"\"\"\n",
    "    CSPSA\n",
    "    IN\n",
    "        psi_est: dim x n_par matrix. dim is de dimension of each vector, and n_par\n",
    "                the number of guesses in parallel.\n",
    "        nu_ite: int. Number of iterations of CSPSA.\n",
    "        fun_teor: function. It is the known function, for example, the theoretical\n",
    "                 fidelity between the unknown state of the system and the guess.\n",
    "        fun: function. CSPSA uses this function for the optimization.\n",
    "        s, t, a, A, b: parametros CSPSA\n",
    "    OUT\n",
    "        valor_optimo: real. Optimal value of fun finded by CSPSA.\n",
    "    \"\"\"\n",
    "\n",
    "    n_par = int(psi_est.size/psi_est.shape[0])\n",
    "    valor_optimo = np.zeros((n_par, nu_ite))\n",
    "    valor_optimo[:,0] = fun_teor(psi_est)\n",
    "\n",
    "    for k in range(0,nu_ite-1):\n",
    "        valor_optimo[:,k+1], psi_est = (old_itCSPSA(psi_est/np.linalg.norm(psi_est, axis = 0),\n",
    "                                       k, s, t, a, A, b, fun, fun_teor ))\n",
    "\n",
    "    return valor_optimo"
   ]
  },
  {
   "cell_type": "code",
   "execution_count": 2,
   "metadata": {
    "ExecuteTime": {
     "end_time": "2020-09-07T01:36:29.207493Z",
     "start_time": "2020-09-07T01:36:28.975307Z"
    }
   },
   "outputs": [],
   "source": [
    "def old_itCSPSA(z_k,  k, s, t, a, A, b, fun, fun_teor):\n",
    "    \"\"\"iteracion de CSPSA\n",
    "    IN\n",
    "        z_k: dim x n_rep. Cada columna es un estimador de dimension dim.\n",
    "        k: iteracion\n",
    "        s, t, a, A, b: parametros CSPSA\n",
    "        fun: funcion a optimizar\n",
    "    OUT\n",
    "        z_k: dim x n_rep. Estimador actualizado\n",
    "        z_value: real. valor de fun en el estimador z_k\n",
    "    \"\"\"\n",
    "    dim = z_k.shape[0]\n",
    "    rep = int(z_k.size/z_k.shape[0])\n",
    "    alpha = a/(k+1+A)**s\n",
    "    beta = b/(k+1)**t\n",
    "    delta = (1j)**(np.random.randint(1,5,(dim, rep))).reshape(2,rep)\n",
    "    z_k_mas = z_k + beta*delta\n",
    "    z_k_menos = z_k - beta*delta\n",
    "    fun_k_mas = fun(z_k_mas)\n",
    "    fun_k_menos = fun(z_k_menos)\n",
    "    grad = np.divide(fun_k_mas - fun_k_menos, 2*beta*delta.conj())\n",
    "    z_k = z_k - alpha*grad\n",
    "    z_value = fun_teor(z_k)\n",
    "    return z_value, z_k"
   ]
  },
  {
   "cell_type": "code",
   "execution_count": null,
   "metadata": {},
   "outputs": [],
   "source": [
    "def old_CSPSAv2(psi_est, NU_IT, fun_teor, fun, s, t, a, A, b, teo_val):\n",
    "    \"\"\"\n",
    "    CSPSA\n",
    "    IN\n",
    "        psi_est: dim x n_par matrix. dim is de dimension of each vector, and n_par\n",
    "                the number of guesses in parallel.\n",
    "        nu_ite: int. Number of iterations of CSPSA.\n",
    "        fun_teor: function. It is the known function, for example, the theoretical\n",
    "                 fidelity between the unknown state of the system and the guess.\n",
    "        fun: function. CSPSA uses this function for the optimization.\n",
    "        s, t, a, A, b: parametros CSPSA\n",
    "    OUT\n",
    "        valor_optimo: real. Optimal value of fun finded by CSPSA.\n",
    "    \"\"\"\n",
    "\n",
    "    n_par = int(psi_est.size/psi_est.shape[0])\n",
    "    valor_optimo = np.zeros((n_par, NU_IT))\n",
    "    valor_optimo[:,0] = fun_teor(psi_est)\n",
    "    error = np.zeros((n_par, NU_IT))\n",
    "    error[:,0] = abs(fun(psi_est)-teo_val)\n",
    "    #psi_optimo = np.zeros((NU_IT,dim,n_par), dtype='c16')\n",
    "    #psi_optimo[0,:,:] = psi_est\n",
    "\n",
    "    for k in range(0,NU_IT-1):\n",
    "        valor_optimo[:,k+1], error[:,k+1], psi_est = (old_itCSPSAv2(psi_est/np.linalg.norm(psi_est, axis = 0),\n",
    "                                       k, s, t, a, A, b, fun, fun_teor, teo_val ))\n",
    "        psi_optimo[k+1,:,:] = psi_est\n",
    "\n",
    "    return valor_optimo, error, psi_optimo"
   ]
  },
  {
   "cell_type": "code",
   "execution_count": null,
   "metadata": {},
   "outputs": [],
   "source": [
    "def old_itCSPSAv2(z_k,  k, s, t, a, A, b, fun, fun_teor, teo_val):\n",
    "    \"\"\"iteracion de CSPSA\n",
    "    IN\n",
    "        z_k: dim x n_rep. Cada columna es un estimador de dimension dim.\n",
    "        k: iteracion\n",
    "        s, t, a, A, b: parametros CSPSA\n",
    "        fun: funcion a optimizar\n",
    "    OUT\n",
    "        z_k: dim x n_rep. Estimador actualizado\n",
    "        z_value: real. valor de fun en el estimador z_k\n",
    "    \"\"\"\n",
    "    dim = z_k.shape[0]\n",
    "    rep = int(z_k.size/z_k.shape[0])\n",
    "    alpha = a/(k+1+A)**s\n",
    "    beta = b/(k+1)**t\n",
    "    delta = (1j)**(np.random.randint(1,5,(dim, rep))).reshape(2,rep)\n",
    "    z_k_mas = z_k + beta*delta\n",
    "    z_k_menos = z_k - beta*delta\n",
    "    fun_k_mas = fun(z_k_mas)\n",
    "    fun_k_menos = fun(z_k_menos)\n",
    "    grad = np.divide(fun_k_mas - fun_k_menos, 2*beta*delta.conj())\n",
    "    z_k = z_k - alpha*grad\n",
    "    z_value = fun_teor(z_k)\n",
    "    error = abs(float(z_value)-teo_val)\n",
    "    return z_value, error, z_k"
   ]
  },
  {
   "cell_type": "code",
   "execution_count": 8,
   "metadata": {
    "ExecuteTime": {
     "end_time": "2020-08-25T16:03:44.065022Z",
     "start_time": "2020-08-25T16:03:43.972151Z"
    }
   },
   "outputs": [],
   "source": [
    "# Definir Estado\n",
    "\n",
    "def old_estado(dim, n_par):\n",
    "    psi = (np.random.normal(loc=0.0, scale=1.0,\n",
    "           size=(dim, n_par))\n",
    "           + np.random.normal(loc=0.0, scale=1.0,\n",
    "           size=(dim, n_par))*1j)\n",
    "    psi = psi/np.linalg.norm(psi, axis=0)\n",
    "    return psi"
   ]
  },
  {
   "cell_type": "code",
   "execution_count": 10,
   "metadata": {
    "ExecuteTime": {
     "end_time": "2020-08-25T16:03:44.211389Z",
     "start_time": "2020-08-25T16:03:44.136554Z"
    }
   },
   "outputs": [],
   "source": [
    "# Definir Hamiltoniano\n",
    "\n",
    "def old_H_paul (A,B,C):\n",
    "    pauli_x = np.array((((0, 1), (1, 0))))\n",
    "    pauli_y = np.array((((0, -1j), (1j, 0))))\n",
    "    pauli_z = np.array((((1, 0), (0, -1))))\n",
    "    H_paul = A*pauli_x + B*pauli_y + C*pauli_z\n",
    "    return H_paul"
   ]
  },
  {
   "cell_type": "code",
   "execution_count": 11,
   "metadata": {
    "ExecuteTime": {
     "end_time": "2020-08-25T16:03:44.341575Z",
     "start_time": "2020-08-25T16:03:44.220217Z"
    }
   },
   "outputs": [],
   "source": [
    "# Definir Valor de expectacion\n",
    "\n",
    "def old_exp_H (psi_est, H):\n",
    "    psi = np.matrix(psi_est)\n",
    "    psi = psi/np.linalg.norm(psi, axis=0)\n",
    "    psi_dagger = psi.getH()\n",
    "    H = np.matrix(H)\n",
    "    exp_H = psi_dagger*H*psi\n",
    "    \n",
    "    # calculamos valor absoluto, para eliminar parte imaginaria producto de errores\n",
    "    exp_H = np.real(exp_H)\n",
    "    \n",
    "    return exp_H"
   ]
  },
  {
   "cell_type": "code",
   "execution_count": 12,
   "metadata": {
    "ExecuteTime": {
     "end_time": "2020-08-25T16:03:44.428415Z",
     "start_time": "2020-08-25T16:03:44.357082Z"
    }
   },
   "outputs": [],
   "source": [
    "# Calculo de probabilidades\n",
    "\n",
    "def old_prob (autoestado, psi_est):\n",
    "    psi = np.matrix(psi_est)\n",
    "    psi = psi/np.linalg.norm(psi, axis=0)\n",
    "    \n",
    "    autoestado = np.matrix(autoestado)\n",
    "    autoestado = autoestado/np.linalg.norm(autoestado, axis=0) \n",
    "    \n",
    "    auto_dagg = autoestado.getH()\n",
    "    \n",
    "    prob = abs(auto_dagg*psi)**2\n",
    "    \n",
    "    return prob"
   ]
  },
  {
   "cell_type": "code",
   "execution_count": 13,
   "metadata": {
    "ExecuteTime": {
     "end_time": "2020-08-25T16:03:44.517112Z",
     "start_time": "2020-08-25T16:03:44.431143Z"
    }
   },
   "outputs": [],
   "source": [
    "# Valor de expectacion, pero usando el Hamiltoniano diagonalizado\n",
    "\n",
    "def old_diag_expH(psi_est, val_p1, val_p2, vec_p1, vec_p2):\n",
    "    prob1 = old_prob(vec_p1, psi_est)\n",
    "    prob2 = old_prob(vec_p2, psi_est)\n",
    "    exp_H = val_p1 * prob1 + val_p2 * prob2\n",
    "    \n",
    "    return exp_H"
   ]
  },
  {
   "cell_type": "code",
   "execution_count": 14,
   "metadata": {
    "ExecuteTime": {
     "end_time": "2020-08-25T16:03:44.610439Z",
     "start_time": "2020-08-25T16:03:44.532363Z"
    }
   },
   "outputs": [],
   "source": [
    "# Valor de expectacion, pero usando el Hamiltoniano diagonalizado, y usando N samples\n",
    "\n",
    "def old_sim_expH(psi_est, val_p1, val_p2, vec_p1, vec_p2, N):\n",
    "    \n",
    "    prob1 = prob(vec_p1, psi_est)\n",
    "    prob1 = float(prob1)\n",
    "    \n",
    "    prob2 = prob(vec_p2, psi_est)\n",
    "    prob2 = float(prob2)\n",
    "    \n",
    "    binomial = np.random.binomial(n=N, p=prob1)\n",
    "    p1 = binomial/N\n",
    "    p2 = 1.0-p1\n",
    "    \n",
    "    exp_H = val_p1 * p1 + val_p2 * p2\n",
    "    \n",
    "    return exp_H"
   ]
  },
  {
   "cell_type": "code",
   "execution_count": 15,
   "metadata": {
    "ExecuteTime": {
     "end_time": "2020-08-25T16:03:44.693283Z",
     "start_time": "2020-08-25T16:03:44.622597Z"
    }
   },
   "outputs": [],
   "source": [
    "def old_ganancia_a_CSPSA(z_k, l, fun, t, b):\n",
    "    \n",
    "    \n",
    "    dim = z_k.shape[0]\n",
    "    rep = int(z_k.size/z_k.shape[0])\n",
    "    beta = b/(1)**t\n",
    "    diff = np.empty((l,1,1), dtype=np.single)\n",
    "    \n",
    "    for i in range(0,l):\n",
    "    \n",
    "        delta = (1j)**(np.random.randint(1,5,(dim, rep))).reshape(2,rep)\n",
    "        z_k_mas = z_k + beta*delta\n",
    "        z_k_menos = z_k - beta*delta\n",
    "        \n",
    "        fun_k_mas = fun(z_k_mas)\n",
    "        fun_k_menos = fun(z_k_menos)\n",
    "        \n",
    "        diff[i] = abs(fun_k_mas-fun_k_menos)    \n",
    "        \n",
    "    prom = np.sum(diff, axis=0)/l\n",
    "    \n",
    "    a_arr = np.divide(2*np.pi*b, 5*prom)\n",
    "    a_CSPSA = float(a_arr[0])\n",
    "    \n",
    "    return a_CSPSA"
   ]
  },
  {
   "cell_type": "code",
   "execution_count": null,
   "metadata": {
    "ExecuteTime": {
     "start_time": "2020-08-25T16:03:43.175Z"
    }
   },
   "outputs": [],
   "source": [
    "def old_CSPSA2(psi_est, nu_ite, fun_teor, fun, s, t, A, b):\n",
    "    \"\"\"\n",
    "    CSPSA2\n",
    "    IN\n",
    "        psi_est: dim x n_par matrix. dim is de dimension of each vector, and n_par\n",
    "                the number of guesses in parallel.\n",
    "        nu_ite: int. Number of iterations of CSPSA.\n",
    "        fun_teor: function. It is the known function, for example, the theoretical\n",
    "                 fidelity between the unknown state of the system and the guess.\n",
    "        fun: function. CSPSA uses this function for the optimization.\n",
    "        s, t, a, A, b: parametros CSPSA\n",
    "    OUT\n",
    "        valor_optimo: real. Optimal value of fun finded by CSPSA.\n",
    "    \"\"\"\n",
    "\n",
    "    n_par = int(psi_est.size/psi_est.shape[0])\n",
    "    valor_optimo = np.zeros((n_par, nu_ite))\n",
    "    valor_optimo[:,0] = fun_teor(psi_est)\n",
    "    \n",
    "    a = old_ganancia_a_CSPSA(psi_est, 25, fun, t, b)\n",
    "\n",
    "    for k in range(0,nu_ite-1):\n",
    "        valor_optimo[:,k+1], psi_est = (old_itCSPSA(psi_est/np.linalg.norm(psi_est, axis = 0),\n",
    "                                       k, s, t, a, A, b, fun, fun_teor ))   \n",
    "    error = np.zeros((n_par, NU_IT))\n",
    "    error[:,0] = abs(fun(psi_est)-teo_val)\n",
    "    \n",
    "    \n",
    "    psi_optimo = np.zeros((NU_IT,dim,n_par), dtype='c16')\n",
    "    psi_optimo[0,:,:] = psi_est\n",
    "\n",
    "    for k in range(0,NU_IT-1):\n",
    "        valor_optimo[:,k+1], psi_optimo[k+1,:,:], error[:,k+1] = (itCSPSA(psi_est/np.linalg.norm(psi_est, axis = 0),\n",
    "                                       k, s, t, a, A, b, fun, teo_val))\n",
    "\n",
    "    return valor_optimo"
   ]
  }
 ],
 "metadata": {
  "kernelspec": {
   "display_name": "Python 3",
   "language": "python",
   "name": "python3"
  },
  "language_info": {
   "codemirror_mode": {
    "name": "ipython",
    "version": 3
   },
   "file_extension": ".py",
   "mimetype": "text/x-python",
   "name": "python",
   "nbconvert_exporter": "python",
   "pygments_lexer": "ipython3",
   "version": "3.6.10"
  }
 },
 "nbformat": 4,
 "nbformat_minor": 4
}
