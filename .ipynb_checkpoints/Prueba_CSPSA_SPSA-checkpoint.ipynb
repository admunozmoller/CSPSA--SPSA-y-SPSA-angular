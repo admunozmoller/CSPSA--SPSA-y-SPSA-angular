{
 "cells": [
  {
   "cell_type": "code",
   "execution_count": 1,
   "metadata": {
    "ExecuteTime": {
     "end_time": "2020-08-04T07:25:56.804171Z",
     "start_time": "2020-08-04T07:25:55.977088Z"
    }
   },
   "outputs": [],
   "source": [
    "import numpy as np\n",
    "import matplotlib.pyplot as plt\n",
    "%run Funciones_CSPSA_SPSA.ipynb\n",
    "%matplotlib inline"
   ]
  },
  {
   "cell_type": "code",
   "execution_count": 2,
   "metadata": {
    "ExecuteTime": {
     "end_time": "2020-08-04T07:25:56.811884Z",
     "start_time": "2020-08-04T07:25:56.806493Z"
    }
   },
   "outputs": [],
   "source": [
    "# Ganancias estandar considerando posibles fluctuaciones de la energia\n",
    "\n",
    "s = 0.602\n",
    "t = 0.101\n",
    "A = 0\n",
    "#a = 3\n",
    "b = 0.01\n",
    "\n",
    "# Ganancias estandar sin fluctuaciones de la energia\n",
    "\n",
    "#s = 0.602\n",
    "#t = 0.101\n",
    "#A = 0\n",
    "#a = 3\n",
    "#b = 0.01\n",
    "\n",
    "\n",
    "\n",
    "# Ganancias asintoticas\n",
    "\n",
    "#s = 1\n",
    "#t = 0.166\n",
    "#A = 0\n",
    "#a = 3\n",
    "#b = 0.01\n",
    "\n",
    "\n",
    "#Ganancias estandar\n",
    "\n",
    "#s = 0.602\n",
    "#t = 0.101\n",
    "#A = 0\n",
    "#b = 0.1\n",
    "\n"
   ]
  },
  {
   "cell_type": "code",
   "execution_count": 3,
   "metadata": {
    "ExecuteTime": {
     "end_time": "2020-08-04T07:25:57.218719Z",
     "start_time": "2020-08-04T07:25:56.815262Z"
    }
   },
   "outputs": [],
   "source": [
    "d = 2\n",
    "nu_par = 1\n",
    "NU_IT = 500\n",
    "\n",
    "#A = np.sqrt(0.3)\n",
    "#B = np.sqrt(0.2)\n",
    "#C = np.sqrt(0.5)\n",
    "A = 1\n",
    "B = 3\n",
    "C = 5"
   ]
  },
  {
   "cell_type": "code",
   "execution_count": 4,
   "metadata": {
    "ExecuteTime": {
     "end_time": "2020-08-04T07:25:57.286747Z",
     "start_time": "2020-08-04T07:25:57.224353Z"
    }
   },
   "outputs": [],
   "source": [
    "psi_est = estado(d,nu_par)\n",
    "\n",
    "#psi_bloch = est_bloch(psi_est)[0]\n",
    "#phase = float(est_bloch(psi_est)[1])\n",
    "#theta = float(est_bloch(psi_est)[2])"
   ]
  },
  {
   "cell_type": "code",
   "execution_count": 5,
   "metadata": {
    "ExecuteTime": {
     "end_time": "2020-08-04T07:25:57.356400Z",
     "start_time": "2020-08-04T07:25:57.295443Z"
    }
   },
   "outputs": [],
   "source": [
    "H = H_paul(A,B,C)"
   ]
  },
  {
   "cell_type": "code",
   "execution_count": 6,
   "metadata": {
    "ExecuteTime": {
     "end_time": "2020-08-04T07:25:57.424418Z",
     "start_time": "2020-08-04T07:25:57.359956Z"
    }
   },
   "outputs": [],
   "source": [
    "fun = lambda x : exp_H(x, H)"
   ]
  },
  {
   "cell_type": "code",
   "execution_count": 7,
   "metadata": {
    "ExecuteTime": {
     "end_time": "2020-08-04T07:25:58.094500Z",
     "start_time": "2020-08-04T07:25:57.428504Z"
    }
   },
   "outputs": [],
   "source": [
    "a_CSPSA = ganancia_a_CSPSA(psi_est,25,fun,t,b)\n",
    "a_SPSA = ganancia_a_SPSA(psi_est,25,fun,t,b)\n",
    "a_SPSA_ang = ganancia_a_SPSA_ang(psi_est,25,fun,t,b)"
   ]
  },
  {
   "cell_type": "code",
   "execution_count": 8,
   "metadata": {
    "ExecuteTime": {
     "end_time": "2020-08-04T07:25:58.150156Z",
     "start_time": "2020-08-04T07:25:58.105109Z"
    }
   },
   "outputs": [
    {
     "name": "stdout",
     "output_type": "stream",
     "text": [
      "-5.916079783099616\n"
     ]
    }
   ],
   "source": [
    "# Ground-state Teórico\n",
    "\n",
    "E = A**2 + B**2 + C**2\n",
    "\n",
    "const1 = np.sqrt(1/2) * np.sqrt((A**2+B**2)/(E-C*(np.sqrt(E))))\n",
    "const2 = (C-np.sqrt(E))/(A+1j*B)\n",
    "\n",
    "#psi_teo = const1*np.matrix([[const2], [1]])\n",
    "#fun(psi_teo)\n",
    "\n",
    "Ground_teo = -(np.sqrt(A**2 + B**2 + C**2))\n",
    "print(Ground_teo)"
   ]
  },
  {
   "cell_type": "code",
   "execution_count": 38,
   "metadata": {
    "ExecuteTime": {
     "end_time": "2020-08-04T07:31:47.254416Z",
     "start_time": "2020-08-04T07:31:47.035224Z"
    }
   },
   "outputs": [
    {
     "data": {
      "text/plain": [
       "numpy.float64"
      ]
     },
     "execution_count": 38,
     "metadata": {},
     "output_type": "execute_result"
    }
   ],
   "source": [
    "Result_CSPSA = CSPSA(psi_est, NU_IT, fun, fun, s, t, A, b)"
   ]
  },
  {
   "cell_type": "code",
   "execution_count": 10,
   "metadata": {
    "ExecuteTime": {
     "end_time": "2020-08-04T07:25:58.280374Z",
     "start_time": "2020-08-04T07:25:58.215888Z"
    }
   },
   "outputs": [],
   "source": [
    "#Result_SPSA = SPSA(psi_est, NU_IT, fun, fun, s, t, a, A, b)"
   ]
  },
  {
   "cell_type": "code",
   "execution_count": 11,
   "metadata": {
    "ExecuteTime": {
     "end_time": "2020-08-04T07:25:58.350035Z",
     "start_time": "2020-08-04T07:25:58.283115Z"
    }
   },
   "outputs": [],
   "source": [
    "#Result_SPSA_ang = SPSA_ang(psi_est, NU_IT, fun, fun, s, t, a, A, b)"
   ]
  },
  {
   "cell_type": "code",
   "execution_count": 39,
   "metadata": {
    "ExecuteTime": {
     "end_time": "2020-08-04T07:32:03.908554Z",
     "start_time": "2020-08-04T07:32:03.890532Z"
    }
   },
   "outputs": [
    {
     "data": {
      "text/plain": [
       "array([[1.36372240e+00, 1.37676506e+00, 4.97845583e-01, 4.69381330e-04,\n",
       "        9.87480022e-05, 4.38403114e-05, 1.17820462e-05, 1.18699616e-05,\n",
       "        1.20897363e-06, 1.20954392e-06, 1.58527534e-07, 1.77800397e-08,\n",
       "        1.75168173e-08, 7.74695241e-09, 1.27873880e-08, 8.97156927e-09,\n",
       "        2.04413269e-08, 2.11566640e-08, 2.62641704e-08, 4.06260749e-08,\n",
       "        5.14962739e-08, 5.04148554e-08, 4.95044521e-08, 2.90226572e-08,\n",
       "        4.10011278e-08, 1.83363920e-08, 9.10890208e-09, 9.03541242e-09,\n",
       "        1.64062897e-08, 4.07675582e-09, 1.00733555e-09, 2.84653190e-10,\n",
       "        1.10889786e-09, 3.91501498e-09, 2.69960232e-09, 3.87031296e-09,\n",
       "        3.72246234e-09, 2.21880825e-09, 1.79365234e-09, 1.49289825e-09,\n",
       "        1.43779122e-09, 2.15334417e-10, 3.35017347e-10, 3.48885010e-09,\n",
       "        8.18696222e-10, 1.60236269e-11, 4.10513401e-10, 7.48402229e-10,\n",
       "        8.55645332e-10, 3.02152348e-09, 4.27631264e-10, 8.33670022e-10,\n",
       "        2.60942024e-09, 2.04753103e-09, 1.89757809e-09, 7.47562012e-11,\n",
       "        3.13386561e-09, 3.29270300e-09, 3.18866711e-10, 8.15327361e-10,\n",
       "        3.79598575e-10, 7.88231702e-10, 1.64757186e-09, 2.04989625e-09,\n",
       "        2.11255635e-09, 2.15923635e-09, 2.19257679e-09, 5.40586242e-10,\n",
       "        8.22029556e-10, 1.32883926e-09, 8.18318746e-10, 3.74609765e-09,\n",
       "        3.38557005e-09, 6.91231072e-10, 3.47413742e-09, 2.55657806e-09,\n",
       "        5.73118708e-09, 5.79523096e-09, 5.84946669e-09, 8.79810269e-09,\n",
       "        3.23565974e-09, 1.33395872e-09, 1.25217436e-09, 1.41769707e-09,\n",
       "        5.68604719e-10, 1.68291159e-09, 9.24827326e-10, 2.32731345e-09,\n",
       "        1.89942462e-09, 1.78210691e-09, 2.65286637e-09, 2.43128362e-09,\n",
       "        1.92185734e-09, 1.92263006e-09, 4.39673986e-09, 2.25640040e-09,\n",
       "        4.18067003e-09, 3.89127930e-09, 6.26597441e-09, 8.47604742e-09,\n",
       "        1.07743183e-08, 1.27820581e-08, 1.09948779e-08, 1.29777797e-08,\n",
       "        1.10122143e-08, 6.47409504e-09, 5.33815037e-09, 7.47547713e-09,\n",
       "        5.42948975e-09, 4.74130513e-09, 4.67459405e-09, 4.61801442e-09,\n",
       "        4.56043114e-09, 2.58384336e-09, 2.66009081e-09, 2.66254041e-09,\n",
       "        3.79440035e-09, 2.48073739e-09, 2.05844142e-09, 1.05490106e-09,\n",
       "        1.03588693e-09, 9.54824664e-10, 2.00127204e-09, 1.49590296e-09,\n",
       "        3.19541371e-09, 2.65330780e-09, 1.52283874e-09, 1.48407064e-09,\n",
       "        1.45052415e-09, 9.24438304e-10, 2.50055354e-09, 1.27659572e-09,\n",
       "        8.22216073e-10, 8.42521608e-10, 9.35997946e-10, 1.53197277e-09,\n",
       "        1.64799285e-09, 8.79786022e-10, 1.82893078e-09, 1.40389655e-09,\n",
       "        2.87708524e-09, 2.70870171e-09, 2.68448996e-09, 2.64667133e-09,\n",
       "        2.64770872e-09, 3.21152616e-09, 1.89011562e-09, 1.15723342e-09,\n",
       "        5.99323258e-10, 5.78851633e-10, 3.36393136e-10, 9.15884257e-10,\n",
       "        5.64964964e-10, 9.38571887e-10, 4.84890350e-10, 1.77710291e-10,\n",
       "        8.37996339e-11, 4.92077490e-11, 6.16803497e-10, 1.12463638e-09,\n",
       "        9.52133483e-10, 4.40270043e-10, 4.42622827e-10, 2.31216823e-10,\n",
       "        9.52995016e-10, 8.44616821e-10, 7.71247066e-10, 3.69399622e-10,\n",
       "        2.16652474e-10, 1.29871225e-10, 2.37037057e-11, 2.76783041e-11,\n",
       "        4.02300415e-11, 1.12343912e-10, 8.72102390e-11, 1.66311409e-10,\n",
       "        1.45502277e-10, 9.69979652e-12, 6.70157263e-11, 2.35291786e-10,\n",
       "        3.29731797e-10, 3.52400775e-10, 3.73791664e-10, 3.94489774e-10,\n",
       "        3.68538977e-10, 8.77242279e-10, 5.82462967e-10, 5.12257792e-10,\n",
       "        4.83977303e-10, 1.76563653e-10, 1.52414970e-10, 8.52405257e-10,\n",
       "        8.31671620e-10, 9.08756626e-10, 1.89333793e-09, 1.69620584e-09,\n",
       "        6.33338715e-10, 2.14313900e-10, 5.58477709e-11, 8.16804402e-11,\n",
       "        7.67688135e-11, 3.57234242e-11, 5.47091261e-11, 3.46410012e-10,\n",
       "        1.84734006e-10, 5.83266768e-11, 4.83062479e-11, 2.24004815e-10,\n",
       "        1.74997794e-10, 6.23795238e-10, 1.39163081e-09, 1.25439659e-09,\n",
       "        1.17760024e-09, 1.07178266e-09, 4.67066386e-10, 2.90014235e-10,\n",
       "        2.05258033e-10, 1.93852934e-10, 1.83492332e-10, 3.29025696e-11,\n",
       "        3.48068241e-11, 4.84030593e-11, 3.63842290e-11, 2.67030842e-11,\n",
       "        2.38114417e-10, 6.13055384e-10, 6.49172271e-10, 7.13828996e-10,\n",
       "        6.99325930e-10, 7.60744356e-10, 6.54782006e-10, 5.63544766e-10,\n",
       "        6.63484379e-10, 7.65924213e-10, 1.14830634e-09, 9.95197702e-10,\n",
       "        9.85726167e-10, 9.77841808e-10, 1.42411594e-09, 1.43478474e-09,\n",
       "        1.93690308e-09, 2.03537365e-09, 1.80886595e-09, 1.58388058e-09,\n",
       "        1.38778145e-09, 4.51394477e-10, 2.95293567e-10, 1.64172675e-10,\n",
       "        8.46753778e-11, 8.63895622e-11, 1.96560102e-10, 1.88074445e-10,\n",
       "        2.49673171e-10, 7.93788146e-10, 4.91441554e-10, 6.60118182e-10,\n",
       "        4.58583393e-10, 9.75419745e-10, 7.54161178e-10, 1.46144163e-09,\n",
       "        9.65973967e-10, 1.68263536e-09, 2.48689691e-09, 2.42149678e-09,\n",
       "        1.84648652e-09, 1.24836319e-09, 1.12209442e-09, 1.89449256e-09,\n",
       "        1.33706646e-09, 8.49283310e-10, 6.21582785e-10, 5.43888490e-10,\n",
       "        2.96375369e-10, 6.65079547e-10, 6.42872422e-10, 6.22612184e-10,\n",
       "        1.20311405e-09, 9.99712313e-10, 1.60153935e-09, 1.31585143e-09,\n",
       "        2.04672013e-09, 2.74212564e-09, 2.58116728e-09, 2.13834994e-09,\n",
       "        2.06397655e-09, 1.91251992e-09, 2.53973820e-09, 2.10486739e-09,\n",
       "        1.79712867e-09, 1.71549175e-09, 1.64151803e-09, 1.43088386e-09,\n",
       "        2.14775753e-09, 1.68048064e-09, 1.64524661e-09, 1.62407243e-09,\n",
       "        2.34028619e-09, 3.04043901e-09, 3.02601233e-09, 3.20912807e-09,\n",
       "        2.39318698e-09, 2.41898679e-09, 3.10283532e-09, 2.30553443e-09,\n",
       "        1.66378467e-09, 1.70829839e-09, 2.00303241e-09, 1.40002587e-09,\n",
       "        9.60569402e-10, 6.43598064e-10, 3.78668652e-10, 9.02028674e-10,\n",
       "        1.53821578e-09, 1.78933490e-09, 1.94644922e-09, 1.40214240e-09,\n",
       "        1.44659129e-09, 1.44547574e-09, 1.72072845e-09, 1.32309541e-09,\n",
       "        1.30657085e-09, 9.08348952e-10, 9.59350821e-10, 9.62906199e-10,\n",
       "        1.16197807e-09, 7.99255773e-10, 9.59571089e-10, 6.27107255e-10,\n",
       "        3.82822662e-10, 2.11954898e-10, 1.36237688e-10, 1.95848671e-10,\n",
       "        1.13457688e-10, 4.02309297e-11, 3.00300229e-10, 4.76812367e-10,\n",
       "        3.18148174e-10, 3.32934569e-10, 1.82762250e-10, 1.11327836e-10,\n",
       "        1.16872734e-10, 5.48174839e-11, 1.02780007e-11, 1.09187326e-10,\n",
       "        9.55431290e-11, 1.03507425e-10, 5.87441207e-12, 6.94200253e-12,\n",
       "        2.06797246e-10, 1.35638167e-10, 5.82653925e-11, 3.50294016e-10,\n",
       "        2.00874872e-10, 1.07408304e-10, 6.24051921e-11, 6.21414031e-11,\n",
       "        3.63709063e-11, 8.26450020e-12, 9.64046620e-11, 7.13162862e-11,\n",
       "        1.15571552e-10, 9.92281812e-11, 1.48654422e-11, 1.59685598e-11,\n",
       "        1.49666946e-11, 3.68620690e-11, 7.22595317e-11, 7.20623561e-11,\n",
       "        1.15637278e-10, 1.78044246e-11, 1.82987847e-10, 1.72431847e-10,\n",
       "        4.28992841e-10, 2.75120371e-10, 6.34956976e-10, 1.10588338e-09,\n",
       "        1.01298703e-09, 6.41121822e-10, 6.18168627e-10, 5.82075721e-10,\n",
       "        3.40932615e-10, 7.22250704e-10, 6.38247677e-10, 6.00885564e-10,\n",
       "        4.84503104e-10, 4.55870008e-10, 2.47786680e-10, 2.36820341e-10,\n",
       "        1.76533455e-10, 1.69149139e-10, 4.99804642e-11, 5.06119591e-11,\n",
       "        2.83650436e-10, 1.60098601e-10, 1.60505387e-10, 1.14346754e-10,\n",
       "        3.56093821e-10, 3.42908812e-10, 7.13376025e-10, 4.79884577e-10,\n",
       "        4.38088676e-10, 2.91128899e-10, 1.75409021e-10, 1.45701229e-10,\n",
       "        1.28049571e-10, 1.19391608e-10, 8.48725534e-11, 8.30349123e-11,\n",
       "        2.33439934e-11, 3.40403261e-11, 1.13882237e-10, 3.52403440e-10,\n",
       "        2.39144704e-10, 2.37036168e-10, 1.50387258e-10, 1.04254383e-10,\n",
       "        1.04980025e-10, 1.32900801e-10, 4.38265424e-10, 5.68383562e-10,\n",
       "        5.64178926e-10, 9.88561233e-10, 6.97212954e-10, 6.95404623e-10,\n",
       "        8.71643202e-10, 6.86353196e-10, 4.98459052e-10, 8.83838780e-10,\n",
       "        6.24601704e-10, 6.16861229e-10, 6.10094197e-10, 6.48700649e-10,\n",
       "        5.08563858e-10, 3.67509578e-10, 3.38812534e-10, 4.47555770e-10,\n",
       "        4.44286385e-10, 8.32098834e-10, 6.22714325e-10, 6.19713170e-10,\n",
       "        6.55441923e-10, 5.00470776e-10, 4.93019847e-10, 5.19336574e-10,\n",
       "        3.37076145e-10, 2.00591543e-10, 1.37455380e-10, 9.28013222e-11,\n",
       "        1.28672184e-10, 7.58841878e-11, 1.02923003e-10, 5.06057418e-11,\n",
       "        2.22024177e-10, 2.19475993e-10, 5.30436139e-10, 6.45759002e-10,\n",
       "        6.36075193e-10, 4.43759696e-10, 2.97944780e-10, 2.06065387e-10,\n",
       "        2.19681162e-10, 1.45440104e-10, 9.15738596e-11, 5.36637401e-11,\n",
       "        2.24540386e-11, 9.58992885e-11, 8.23892066e-11, 6.71587230e-11,\n",
       "        7.04414305e-11, 6.93551883e-11, 6.30295816e-11, 1.81277215e-12,\n",
       "        3.25162119e-12, 4.79083440e-12, 7.33315630e-11, 3.39630546e-11,\n",
       "        1.41389123e-11, 3.34781092e-11, 6.07105477e-11, 3.58530983e-11,\n",
       "        2.18953744e-11, 4.78284079e-12, 4.75974815e-12, 1.59579017e-11,\n",
       "        4.34114966e-11, 2.16706653e-11, 1.07291953e-11, 1.53563384e-10,\n",
       "        4.26175539e-10, 4.41072956e-10, 3.17416315e-10, 3.17634807e-10,\n",
       "        1.91675120e-10, 1.28809852e-10, 1.42466483e-10, 1.41509915e-10,\n",
       "        8.74020856e-11, 1.82190263e-10, 1.49181112e-10, 3.44024365e-10]])"
      ]
     },
     "execution_count": 39,
     "metadata": {},
     "output_type": "execute_result"
    }
   ],
   "source": [
    "#error_CSPSA = abs(Result_CSPSA - Ground_teo)\n",
    "#error_SPSA = abs(Result_SPSA - Ground_teo)\n",
    "#error_SPSA_ang = abs(Result_SPSA_ang - Ground_teo)"
   ]
  },
  {
   "cell_type": "code",
   "execution_count": 13,
   "metadata": {
    "ExecuteTime": {
     "end_time": "2020-08-04T07:25:58.503983Z",
     "start_time": "2020-08-04T07:25:58.427960Z"
    }
   },
   "outputs": [],
   "source": [
    "#plt.loglog(np.array(error_CSPSA[:]).T, label='CSPSA')\n",
    "#plt.loglog(np.array(error_SPSA[:]).T, label='SPSA')\n",
    "#plt.loglog(np.array(error_SPSA_ang[:]).T, label='SPSA_ang')\n",
    "#plt.legend()"
   ]
  },
  {
   "cell_type": "code",
   "execution_count": 14,
   "metadata": {
    "ExecuteTime": {
     "end_time": "2020-08-04T07:25:58.577540Z",
     "start_time": "2020-08-04T07:25:58.507850Z"
    }
   },
   "outputs": [],
   "source": [
    "#plt.plot(np.array(Result_SPSA[:]).T)\n",
    "#plt.loglog(np.array(error_SPSA[:]).T)"
   ]
  },
  {
   "cell_type": "code",
   "execution_count": 15,
   "metadata": {
    "ExecuteTime": {
     "end_time": "2020-08-04T07:25:58.659177Z",
     "start_time": "2020-08-04T07:25:58.580208Z"
    }
   },
   "outputs": [],
   "source": [
    "#plt.plot(np.array(Result_SPSA_ang[:]).T)\n",
    "#plt.loglog(np.array(error_SPSA_ang[:]).T)"
   ]
  },
  {
   "cell_type": "code",
   "execution_count": 16,
   "metadata": {
    "ExecuteTime": {
     "end_time": "2020-08-04T07:25:58.739079Z",
     "start_time": "2020-08-04T07:25:58.662571Z"
    }
   },
   "outputs": [],
   "source": [
    "#plt.plot(np.array(Result_SPSA_ang[:]).T, label='SPSA_ang')\n",
    "#plt.plot(np.array(Result_CSPSA[:]).T,label='CSPSA')\n",
    "#plt.xlim(0,100)\n",
    "#plt.ylim(-7,-4)\n",
    "#plt.legend()"
   ]
  },
  {
   "cell_type": "code",
   "execution_count": 17,
   "metadata": {
    "ExecuteTime": {
     "end_time": "2020-08-04T07:25:58.821303Z",
     "start_time": "2020-08-04T07:25:58.741808Z"
    }
   },
   "outputs": [],
   "source": [
    "# numero de realizaciones para apromediar\n",
    "\n",
    "num = 5\n",
    "\n",
    "\n",
    "x = range(0,num)\n",
    "y = len(x)\n",
    "\n",
    "\n",
    "psi_est_ar = np.empty((y,d,1), dtype=np.float64)\n",
    "Result_CSPSA_ar = np.empty((y,1,NU_IT), dtype=np.float64)\n",
    "Result_SPSA_ar = np.empty((y,1,NU_IT), dtype=np.float64)\n",
    "Result_SPSA_ang_ar = np.empty((y,1,NU_IT), dtype=np.float64)\n",
    "error_CSPSA_ar = np.empty((y,1,NU_IT), dtype=np.float64)\n",
    "error_SPSA_ar = np.empty((y,1,NU_IT), dtype=np.float64)\n",
    "error_SPSA_ang_ar = np.empty((y,1,NU_IT), dtype=np.float64)\n"
   ]
  },
  {
   "cell_type": "code",
   "execution_count": 18,
   "metadata": {
    "ExecuteTime": {
     "end_time": "2020-08-04T07:25:58.930414Z",
     "start_time": "2020-08-04T07:25:58.826018Z"
    }
   },
   "outputs": [],
   "source": [
    "# Crear ensamble de estados inciales\n",
    "\n",
    "for i in x:\n",
    "    psi_est_ar[i] = estado(d,nu_par)"
   ]
  },
  {
   "cell_type": "code",
   "execution_count": 19,
   "metadata": {
    "ExecuteTime": {
     "end_time": "2020-08-04T07:25:59.011502Z",
     "start_time": "2020-08-04T07:25:58.932983Z"
    }
   },
   "outputs": [],
   "source": [
    "def multiprocessing_func(i):\n",
    "    Result_CSPSA_ar[i] = CSPSA2(psi_est_ar[i], NU_IT, fun, fun, s, t, A, b)\n",
    "    Result_SPSA_ar[i] = SPSA2(psi_est_ar[i], NU_IT, fun, fun, s, t, A, b)\n",
    "    Result_SPSA_ang_ar[i] = SPSA_ang2(psi_est_ar[i], NU_IT, fun, fun, s, t, A, b)\n",
    "    \n",
    "    error_CSPSA_ar[i] = abs(Result_CSPSA_ar[i] - Ground_teo)\n",
    "    error_SPSA_ar[i] = abs(Result_SPSA_ar[i] - Ground_teo)\n",
    "    error_SPSA_ang_ar[i] = abs(Result_SPSA_ang_ar[i] - Ground_teo)"
   ]
  },
  {
   "cell_type": "code",
   "execution_count": 20,
   "metadata": {
    "ExecuteTime": {
     "end_time": "2020-08-04T07:26:03.168162Z",
     "start_time": "2020-08-04T07:25:59.014538Z"
    }
   },
   "outputs": [],
   "source": [
    "for i in x: \n",
    "    multiprocessing_func(i)\n",
    "    "
   ]
  },
  {
   "cell_type": "code",
   "execution_count": 34,
   "metadata": {
    "ExecuteTime": {
     "end_time": "2020-08-04T07:28:20.699429Z",
     "start_time": "2020-08-04T07:28:20.679789Z"
    }
   },
   "outputs": [
    {
     "data": {
      "text/plain": [
       "array([[-1.5186359, -5.515311 , -5.85451  , -5.8671265, -5.883705 ,\n",
       "        -5.884292 , -5.913612 , -5.9152164, -5.915487 , -5.9154973,\n",
       "        -5.915498 , -5.9160633, -5.9160633, -5.916074 , -5.9160786,\n",
       "        -5.9160786, -5.9160795, -5.9160795, -5.9160795, -5.9160795,\n",
       "        -5.9160795, -5.91608  , -5.91608  , -5.91608  , -5.91608  ,\n",
       "        -5.91608  , -5.91608  , -5.91608  , -5.91608  , -5.91608  ,\n",
       "        -5.91608  , -5.91608  , -5.91608  , -5.91608  , -5.91608  ,\n",
       "        -5.91608  , -5.91608  , -5.91608  , -5.91608  , -5.91608  ,\n",
       "        -5.91608  , -5.91608  , -5.91608  , -5.91608  , -5.91608  ,\n",
       "        -5.91608  , -5.91608  , -5.91608  , -5.91608  , -5.91608  ,\n",
       "        -5.91608  , -5.91608  , -5.91608  , -5.91608  , -5.91608  ,\n",
       "        -5.91608  , -5.91608  , -5.91608  , -5.91608  , -5.91608  ,\n",
       "        -5.91608  , -5.91608  , -5.91608  , -5.91608  , -5.91608  ,\n",
       "        -5.91608  , -5.91608  , -5.91608  , -5.91608  , -5.91608  ,\n",
       "        -5.91608  , -5.91608  , -5.91608  , -5.91608  , -5.91608  ,\n",
       "        -5.91608  , -5.91608  , -5.91608  , -5.91608  , -5.91608  ,\n",
       "        -5.91608  , -5.91608  , -5.91608  , -5.91608  , -5.91608  ,\n",
       "        -5.91608  , -5.91608  , -5.91608  , -5.91608  , -5.91608  ,\n",
       "        -5.91608  , -5.91608  , -5.91608  , -5.91608  , -5.91608  ,\n",
       "        -5.91608  , -5.91608  , -5.91608  , -5.91608  , -5.91608  ,\n",
       "        -5.91608  , -5.91608  , -5.91608  , -5.91608  , -5.91608  ,\n",
       "        -5.91608  , -5.91608  , -5.91608  , -5.91608  , -5.91608  ,\n",
       "        -5.91608  , -5.91608  , -5.91608  , -5.91608  , -5.91608  ,\n",
       "        -5.91608  , -5.91608  , -5.91608  , -5.91608  , -5.91608  ,\n",
       "        -5.91608  , -5.91608  , -5.91608  , -5.91608  , -5.91608  ,\n",
       "        -5.91608  , -5.91608  , -5.91608  , -5.91608  , -5.91608  ,\n",
       "        -5.91608  , -5.91608  , -5.91608  , -5.91608  , -5.91608  ,\n",
       "        -5.91608  , -5.91608  , -5.91608  , -5.91608  , -5.91608  ,\n",
       "        -5.91608  , -5.91608  , -5.91608  , -5.91608  , -5.91608  ,\n",
       "        -5.91608  , -5.91608  , -5.91608  , -5.91608  , -5.91608  ,\n",
       "        -5.91608  , -5.91608  , -5.91608  , -5.91608  , -5.91608  ,\n",
       "        -5.91608  , -5.91608  , -5.91608  , -5.91608  , -5.91608  ,\n",
       "        -5.91608  , -5.91608  , -5.91608  , -5.91608  , -5.91608  ,\n",
       "        -5.91608  , -5.91608  , -5.91608  , -5.91608  , -5.91608  ,\n",
       "        -5.91608  , -5.91608  , -5.91608  , -5.91608  , -5.91608  ,\n",
       "        -5.91608  , -5.91608  , -5.91608  , -5.91608  , -5.91608  ,\n",
       "        -5.91608  , -5.91608  , -5.91608  , -5.91608  , -5.91608  ,\n",
       "        -5.91608  , -5.91608  , -5.91608  , -5.91608  , -5.91608  ,\n",
       "        -5.91608  , -5.91608  , -5.91608  , -5.91608  , -5.91608  ,\n",
       "        -5.91608  , -5.91608  , -5.91608  , -5.91608  , -5.91608  ,\n",
       "        -5.91608  , -5.91608  , -5.91608  , -5.91608  , -5.91608  ,\n",
       "        -5.91608  , -5.91608  , -5.91608  , -5.91608  , -5.91608  ,\n",
       "        -5.91608  , -5.91608  , -5.91608  , -5.91608  , -5.91608  ,\n",
       "        -5.91608  , -5.91608  , -5.91608  , -5.91608  , -5.91608  ,\n",
       "        -5.91608  , -5.91608  , -5.91608  , -5.91608  , -5.91608  ,\n",
       "        -5.91608  , -5.91608  , -5.91608  , -5.91608  , -5.91608  ,\n",
       "        -5.91608  , -5.91608  , -5.91608  , -5.91608  , -5.91608  ,\n",
       "        -5.91608  , -5.91608  , -5.91608  , -5.91608  , -5.91608  ,\n",
       "        -5.91608  , -5.91608  , -5.91608  , -5.91608  , -5.91608  ,\n",
       "        -5.91608  , -5.91608  , -5.91608  , -5.91608  , -5.91608  ,\n",
       "        -5.91608  , -5.91608  , -5.91608  , -5.91608  , -5.91608  ,\n",
       "        -5.91608  , -5.91608  , -5.91608  , -5.91608  , -5.91608  ,\n",
       "        -5.91608  , -5.91608  , -5.91608  , -5.91608  , -5.91608  ,\n",
       "        -5.91608  , -5.91608  , -5.91608  , -5.91608  , -5.91608  ,\n",
       "        -5.91608  , -5.91608  , -5.91608  , -5.91608  , -5.91608  ,\n",
       "        -5.91608  , -5.91608  , -5.91608  , -5.91608  , -5.91608  ,\n",
       "        -5.91608  , -5.91608  , -5.91608  , -5.91608  , -5.91608  ,\n",
       "        -5.91608  , -5.91608  , -5.91608  , -5.91608  , -5.91608  ,\n",
       "        -5.91608  , -5.91608  , -5.91608  , -5.91608  , -5.91608  ,\n",
       "        -5.91608  , -5.91608  , -5.91608  , -5.91608  , -5.91608  ,\n",
       "        -5.91608  , -5.91608  , -5.91608  , -5.91608  , -5.91608  ,\n",
       "        -5.91608  , -5.91608  , -5.91608  , -5.91608  , -5.91608  ,\n",
       "        -5.91608  , -5.91608  , -5.91608  , -5.91608  , -5.91608  ,\n",
       "        -5.91608  , -5.91608  , -5.91608  , -5.91608  , -5.91608  ,\n",
       "        -5.91608  , -5.91608  , -5.91608  , -5.91608  , -5.91608  ,\n",
       "        -5.91608  , -5.91608  , -5.91608  , -5.91608  , -5.91608  ,\n",
       "        -5.91608  , -5.91608  , -5.91608  , -5.91608  , -5.91608  ,\n",
       "        -5.91608  , -5.91608  , -5.91608  , -5.91608  , -5.91608  ,\n",
       "        -5.91608  , -5.91608  , -5.91608  , -5.91608  , -5.91608  ,\n",
       "        -5.91608  , -5.91608  , -5.91608  , -5.91608  , -5.91608  ,\n",
       "        -5.91608  , -5.91608  , -5.91608  , -5.91608  , -5.91608  ,\n",
       "        -5.91608  , -5.91608  , -5.91608  , -5.91608  , -5.91608  ,\n",
       "        -5.91608  , -5.91608  , -5.91608  , -5.91608  , -5.91608  ,\n",
       "        -5.91608  , -5.91608  , -5.91608  , -5.91608  , -5.91608  ,\n",
       "        -5.91608  , -5.91608  , -5.91608  , -5.91608  , -5.91608  ,\n",
       "        -5.91608  , -5.91608  , -5.91608  , -5.91608  , -5.91608  ,\n",
       "        -5.91608  , -5.91608  , -5.91608  , -5.91608  , -5.91608  ,\n",
       "        -5.91608  , -5.91608  , -5.91608  , -5.91608  , -5.91608  ,\n",
       "        -5.91608  , -5.91608  , -5.91608  , -5.91608  , -5.91608  ,\n",
       "        -5.91608  , -5.91608  , -5.91608  , -5.91608  , -5.91608  ,\n",
       "        -5.91608  , -5.91608  , -5.91608  , -5.91608  , -5.91608  ,\n",
       "        -5.91608  , -5.91608  , -5.91608  , -5.91608  , -5.91608  ,\n",
       "        -5.91608  , -5.91608  , -5.91608  , -5.91608  , -5.91608  ,\n",
       "        -5.91608  , -5.91608  , -5.91608  , -5.91608  , -5.91608  ,\n",
       "        -5.91608  , -5.91608  , -5.91608  , -5.91608  , -5.91608  ,\n",
       "        -5.91608  , -5.91608  , -5.91608  , -5.91608  , -5.91608  ,\n",
       "        -5.91608  , -5.91608  , -5.91608  , -5.91608  , -5.91608  ,\n",
       "        -5.91608  , -5.91608  , -5.91608  , -5.91608  , -5.91608  ,\n",
       "        -5.91608  , -5.91608  , -5.91608  , -5.91608  , -5.91608  ,\n",
       "        -5.91608  , -5.91608  , -5.91608  , -5.91608  , -5.91608  ,\n",
       "        -5.91608  , -5.91608  , -5.91608  , -5.91608  , -5.91608  ,\n",
       "        -5.91608  , -5.91608  , -5.91608  , -5.91608  , -5.91608  ,\n",
       "        -5.91608  , -5.91608  , -5.91608  , -5.91608  , -5.91608  ,\n",
       "        -5.91608  , -5.91608  , -5.91608  , -5.91608  , -5.91608  ,\n",
       "        -5.91608  , -5.91608  , -5.91608  , -5.91608  , -5.91608  ,\n",
       "        -5.91608  , -5.91608  , -5.91608  , -5.91608  , -5.91608  ,\n",
       "        -5.91608  , -5.91608  , -5.91608  , -5.91608  , -5.91608  ,\n",
       "        -5.91608  , -5.91608  , -5.91608  , -5.91608  , -5.91608  ,\n",
       "        -5.91608  , -5.91608  , -5.91608  , -5.91608  , -5.91608  ,\n",
       "        -5.91608  , -5.91608  , -5.91608  , -5.91608  , -5.91608  ]],\n",
       "      dtype=float32)"
      ]
     },
     "execution_count": 34,
     "metadata": {},
     "output_type": "execute_result"
    }
   ],
   "source": [
    "Result_CSPSA_ar[0]"
   ]
  },
  {
   "cell_type": "code",
   "execution_count": 21,
   "metadata": {
    "ExecuteTime": {
     "end_time": "2020-08-04T07:26:03.199139Z",
     "start_time": "2020-08-04T07:26:03.170999Z"
    }
   },
   "outputs": [],
   "source": [
    "Result_CSPSA_pro = np.sum(Result_CSPSA_ar, axis=0)/y\n",
    "Result_SPSA_pro = np.sum(Result_SPSA_ar, axis=0)/y\n",
    "Result_SPSA_ang_pro = np.sum(Result_SPSA_ang_ar, axis=0)/y\n",
    "error_CSPSA_pro = np.sum(error_CSPSA_ar, axis=0)/y\n",
    "error_SPSA_pro = np.sum(error_SPSA_ar, axis=0)/y\n",
    "error_SPSA_ang_pro = np.sum(error_SPSA_ang_ar, axis=0)/y\n"
   ]
  },
  {
   "cell_type": "code",
   "execution_count": 22,
   "metadata": {
    "ExecuteTime": {
     "end_time": "2020-08-04T07:26:03.547248Z",
     "start_time": "2020-08-04T07:26:03.206685Z"
    }
   },
   "outputs": [],
   "source": [
    "#plt.loglog(np.array(error_CSPSA_pro[:]).T)"
   ]
  },
  {
   "cell_type": "code",
   "execution_count": 23,
   "metadata": {
    "ExecuteTime": {
     "end_time": "2020-08-04T07:26:03.615132Z",
     "start_time": "2020-08-04T07:26:03.563037Z"
    }
   },
   "outputs": [],
   "source": [
    "#plt.loglog(np.array(error_SPSA_pro[:]).T)"
   ]
  },
  {
   "cell_type": "code",
   "execution_count": 24,
   "metadata": {
    "ExecuteTime": {
     "end_time": "2020-08-04T07:26:03.684053Z",
     "start_time": "2020-08-04T07:26:03.618978Z"
    }
   },
   "outputs": [],
   "source": [
    "#plt.loglog(np.array(error_SPSA_ang_pro[:]).T)"
   ]
  },
  {
   "cell_type": "code",
   "execution_count": 30,
   "metadata": {
    "ExecuteTime": {
     "end_time": "2020-08-04T07:26:25.713698Z",
     "start_time": "2020-08-04T07:26:25.063487Z"
    }
   },
   "outputs": [
    {
     "data": {
      "text/plain": [
       "<matplotlib.legend.Legend at 0x7fb2878d6da0>"
      ]
     },
     "execution_count": 30,
     "metadata": {},
     "output_type": "execute_result"
    },
    {
     "data": {
      "image/png": "[encoded data removed]",
      "text/plain": [
       "<Figure size 432x288 with 1 Axes>"
      ]
     },
     "metadata": {
      "needs_background": "light"
     },
     "output_type": "display_data"
    }
   ],
   "source": [
    "plt.loglog(np.array(error_CSPSA_pro[:]).T, label='CSPSA')\n",
    "plt.loglog(np.array(error_SPSA_pro[:]).T, label='SPSA')\n",
    "#plt.loglog(np.array(error_SPSA_ang_pro[:]).T, label='SPSA_ang')\n",
    "plt.legend()"
   ]
  },
  {
   "cell_type": "code",
   "execution_count": 26,
   "metadata": {
    "ExecuteTime": {
     "end_time": "2020-08-04T07:26:05.261205Z",
     "start_time": "2020-08-04T07:26:04.884857Z"
    }
   },
   "outputs": [
    {
     "data": {
      "text/plain": [
       "<matplotlib.legend.Legend at 0x7fb28792fbe0>"
      ]
     },
     "execution_count": 26,
     "metadata": {},
     "output_type": "execute_result"
    },
    {
     "data": {
      "image/png": "[encoded data removed]",
      "text/plain": [
       "<Figure size 432x288 with 1 Axes>"
      ]
     },
     "metadata": {
      "needs_background": "light"
     },
     "output_type": "display_data"
    }
   ],
   "source": [
    "plt.plot(np.array(Result_CSPSA_pro[:]).T,label='CSPSA')\n",
    "plt.plot(np.array(Result_SPSA_pro[:]).T, label='SPSA')\n",
    "plt.plot(np.array(Result_SPSA_ang_pro[:]).T, label='SPSA_ang')\n",
    "\n",
    "#plt.xlim(0,90)\n",
    "#plt.ylim(-6.5,-4)\n",
    "plt.legend()"
   ]
  },
  {
   "cell_type": "code",
   "execution_count": 27,
   "metadata": {
    "ExecuteTime": {
     "end_time": "2020-08-04T07:26:05.267488Z",
     "start_time": "2020-08-04T07:26:05.264018Z"
    },
    "scrolled": true
   },
   "outputs": [],
   "source": [
    "#np.savetxt('prueba.txt', Result_SPSA, delimiter=',')\n",
    "#print(Result_SPSA)"
   ]
  },
  {
   "cell_type": "code",
   "execution_count": 28,
   "metadata": {
    "ExecuteTime": {
     "end_time": "2020-08-04T07:26:05.360748Z",
     "start_time": "2020-08-04T07:26:05.273797Z"
    }
   },
   "outputs": [],
   "source": [
    "#np.savetxt('prueba.txt', Result_CSPSA, delimiter=',')\n",
    "#print(Result_CSPSA)"
   ]
  },
  {
   "cell_type": "code",
   "execution_count": 29,
   "metadata": {
    "ExecuteTime": {
     "end_time": "2020-08-04T07:26:05.430874Z",
     "start_time": "2020-08-04T07:26:05.363657Z"
    }
   },
   "outputs": [],
   "source": [
    "#np.savetxt('prueba.txt', Result_SPSA_ang, delimiter=',')\n",
    "#print(Result_SPSA_ang)"
   ]
  }
 ],
 "metadata": {
  "kernelspec": {
   "display_name": "Python 3",
   "language": "python",
   "name": "python3"
  },
  "language_info": {
   "codemirror_mode": {
    "name": "ipython",
    "version": 3
   },
   "file_extension": ".py",
   "mimetype": "text/x-python",
   "name": "python",
   "nbconvert_exporter": "python",
   "pygments_lexer": "ipython3",
   "version": "3.6.10"
  }
 },
 "nbformat": 4,
 "nbformat_minor": 4
}
