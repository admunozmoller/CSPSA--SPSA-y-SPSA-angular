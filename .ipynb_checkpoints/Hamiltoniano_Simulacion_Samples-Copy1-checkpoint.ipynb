{
 "cells": [
  {
   "cell_type": "code",
   "execution_count": 17,
   "metadata": {
    "ExecuteTime": {
     "end_time": "2020-08-22T06:46:56.864703Z",
     "start_time": "2020-08-22T06:46:56.689707Z"
    }
   },
   "outputs": [],
   "source": [
    "import numpy as np\n",
    "import matplotlib.pyplot as plt\n",
    "import time\n",
    "import multiprocessing \n",
    "%run Funciones_CSPSA_SPSA.ipynb\n",
    "%matplotlib inline"
   ]
  },
  {
   "cell_type": "code",
   "execution_count": 18,
   "metadata": {
    "ExecuteTime": {
     "end_time": "2020-08-22T06:46:57.006551Z",
     "start_time": "2020-08-22T06:46:56.916501Z"
    }
   },
   "outputs": [],
   "source": [
    "d = 2\n",
    "nu_par = 1\n",
    "NU_ITERACIONES = 300\n",
    "\n",
    "A = np.sqrt(0.3)\n",
    "B = np.sqrt(0.2)\n",
    "C = np.sqrt(0.5)\n",
    "#A = 1\n",
    "#B = 3\n",
    "#C = 5"
   ]
  },
  {
   "cell_type": "code",
   "execution_count": 19,
   "metadata": {
    "ExecuteTime": {
     "end_time": "2020-08-22T06:46:57.138047Z",
     "start_time": "2020-08-22T06:46:57.130793Z"
    }
   },
   "outputs": [],
   "source": [
    "psi_est = estado(d,nu_par)\n"
   ]
  },
  {
   "cell_type": "code",
   "execution_count": 20,
   "metadata": {
    "ExecuteTime": {
     "end_time": "2020-08-22T06:46:57.372493Z",
     "start_time": "2020-08-22T06:46:57.366433Z"
    },
    "scrolled": true
   },
   "outputs": [],
   "source": [
    "H = H_paul(A,B,C)\n"
   ]
  },
  {
   "cell_type": "code",
   "execution_count": 21,
   "metadata": {
    "ExecuteTime": {
     "end_time": "2020-08-22T06:46:57.604275Z",
     "start_time": "2020-08-22T06:46:57.593943Z"
    }
   },
   "outputs": [],
   "source": [
    "fun = lambda x : exp_H(x, H)"
   ]
  },
  {
   "cell_type": "code",
   "execution_count": 22,
   "metadata": {
    "ExecuteTime": {
     "end_time": "2020-08-22T06:46:57.827285Z",
     "start_time": "2020-08-22T06:46:57.797393Z"
    }
   },
   "outputs": [],
   "source": [
    "# Autovalores Teórico\n",
    "\n",
    "E = A**2 + B**2 + C**2\n",
    "\n",
    "Emas = np.sqrt(E)\n",
    "\n",
    "Emen = -np.sqrt(E)\n",
    "\n",
    "# Autovectores\n",
    "\n",
    "#c1mas = np.sqrt(1/2) * np.sqrt((A**2+B**2)/(E+C*(np.sqrt(E))))\n",
    "c2mas = (C+np.sqrt(E))/(A+1j*B)\n",
    "\n",
    "#c1men = np.sqrt(1/2) * np.sqrt((A**2+B**2)/(E-C*(np.sqrt(E))))\n",
    "c2men = (C-np.sqrt(E))/(A+1j*B)\n",
    "\n",
    "Pma = np.matrix([[c2mas], [1]])\n",
    "Pme = np.matrix([[c2men], [1]])\n",
    "\n",
    "Pmas = Pma/np.linalg.norm(Pma, axis=0)\n",
    "Pmen = Pme/np.linalg.norm(Pme, axis=0)\n",
    "\n",
    "Pmas_dag = Pmas.getH()\n",
    "Pmen_dag = Pmen.getH()\n",
    "\n",
    "# Haniltonian diagonalizado\n",
    "\n",
    "diag_H = Emas*Pmas*Pmas_dag + Emen*Pmen*Pmen_dag"
   ]
  },
  {
   "cell_type": "code",
   "execution_count": 48,
   "metadata": {
    "ExecuteTime": {
     "end_time": "2020-08-22T06:48:52.171662Z",
     "start_time": "2020-08-22T06:48:52.160620Z"
    }
   },
   "outputs": [],
   "source": [
    "# Numero de samples\n",
    "\n",
    "N = 100"
   ]
  },
  {
   "cell_type": "code",
   "execution_count": 49,
   "metadata": {
    "ExecuteTime": {
     "end_time": "2020-08-22T06:48:52.484716Z",
     "start_time": "2020-08-22T06:48:52.470255Z"
    }
   },
   "outputs": [],
   "source": [
    "fun2 = lambda x : diag_expH(x, Emas, Emen, Pmas, Pmen)"
   ]
  },
  {
   "cell_type": "code",
   "execution_count": 50,
   "metadata": {
    "ExecuteTime": {
     "end_time": "2020-08-22T06:48:53.568486Z",
     "start_time": "2020-08-22T06:48:52.773930Z"
    }
   },
   "outputs": [],
   "source": [
    "fun3 = lambda x : sim_expH(x, Emas, Emen, Pmas, Pmen, N)"
   ]
  },
  {
   "cell_type": "code",
   "execution_count": 51,
   "metadata": {
    "ExecuteTime": {
     "end_time": "2020-08-22T06:48:53.645947Z",
     "start_time": "2020-08-22T06:48:53.577754Z"
    }
   },
   "outputs": [
    {
     "data": {
      "text/plain": [
       "0.5719649858744312"
      ]
     },
     "execution_count": 51,
     "metadata": {},
     "output_type": "execute_result"
    }
   ],
   "source": [
    "float(fun(psi_est))"
   ]
  },
  {
   "cell_type": "code",
   "execution_count": 52,
   "metadata": {
    "ExecuteTime": {
     "end_time": "2020-08-22T06:48:53.714457Z",
     "start_time": "2020-08-22T06:48:53.656765Z"
    }
   },
   "outputs": [
    {
     "data": {
      "text/plain": [
       "0.5719649858744317"
      ]
     },
     "execution_count": 52,
     "metadata": {},
     "output_type": "execute_result"
    }
   ],
   "source": [
    "float(fun2(psi_est))"
   ]
  },
  {
   "cell_type": "code",
   "execution_count": 55,
   "metadata": {
    "ExecuteTime": {
     "end_time": "2020-08-22T06:48:58.207483Z",
     "start_time": "2020-08-22T06:48:58.189860Z"
    }
   },
   "outputs": [
    {
     "data": {
      "text/plain": [
       "0.5718399999999999"
      ]
     },
     "execution_count": 55,
     "metadata": {},
     "output_type": "execute_result"
    }
   ],
   "source": [
    "float(fun3(psi_est))"
   ]
  },
  {
   "cell_type": "code",
   "execution_count": null,
   "metadata": {},
   "outputs": [],
   "source": []
  }
 ],
 "metadata": {
  "kernelspec": {
   "display_name": "Python 3",
   "language": "python",
   "name": "python3"
  },
  "language_info": {
   "codemirror_mode": {
    "name": "ipython",
    "version": 3
   },
   "file_extension": ".py",
   "mimetype": "text/x-python",
   "name": "python",
   "nbconvert_exporter": "python",
   "pygments_lexer": "ipython3",
   "version": "3.6.10"
  }
 },
 "nbformat": 4,
 "nbformat_minor": 4
}
