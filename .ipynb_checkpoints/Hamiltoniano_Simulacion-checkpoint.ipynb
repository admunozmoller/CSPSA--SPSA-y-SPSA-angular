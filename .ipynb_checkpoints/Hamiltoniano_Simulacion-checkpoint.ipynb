{
 "cells": [
  {
   "cell_type": "code",
   "execution_count": 53,
   "metadata": {
    "ExecuteTime": {
     "end_time": "2020-08-11T03:01:45.262437Z",
     "start_time": "2020-08-11T03:01:45.124862Z"
    }
   },
   "outputs": [],
   "source": [
    "import numpy as np\n",
    "import matplotlib.pyplot as plt\n",
    "import time\n",
    "import multiprocessing \n",
    "%run Funciones_CSPSA_SPSA.ipynb\n",
    "%matplotlib inline"
   ]
  },
  {
   "cell_type": "code",
   "execution_count": 54,
   "metadata": {
    "ExecuteTime": {
     "end_time": "2020-08-11T03:01:45.754244Z",
     "start_time": "2020-08-11T03:01:45.739842Z"
    }
   },
   "outputs": [],
   "source": [
    "d = 2\n",
    "nu_par = 1\n",
    "NU_ITERACIONES = 300\n",
    "\n",
    "A = np.sqrt(0.3)\n",
    "B = np.sqrt(0.2)\n",
    "C = np.sqrt(0.5)\n",
    "#A = 1\n",
    "#B = 3\n",
    "#C = 5"
   ]
  },
  {
   "cell_type": "code",
   "execution_count": 55,
   "metadata": {
    "ExecuteTime": {
     "end_time": "2020-08-11T03:01:46.200263Z",
     "start_time": "2020-08-11T03:01:46.187050Z"
    }
   },
   "outputs": [],
   "source": [
    "psi_est = estado(d,nu_par)\n"
   ]
  },
  {
   "cell_type": "code",
   "execution_count": 56,
   "metadata": {
    "ExecuteTime": {
     "end_time": "2020-08-11T03:01:46.616615Z",
     "start_time": "2020-08-11T03:01:46.605796Z"
    },
    "scrolled": true
   },
   "outputs": [],
   "source": [
    "H = H_paul(A,B,C)\n"
   ]
  },
  {
   "cell_type": "code",
   "execution_count": 57,
   "metadata": {
    "ExecuteTime": {
     "end_time": "2020-08-11T03:01:47.094272Z",
     "start_time": "2020-08-11T03:01:47.082934Z"
    }
   },
   "outputs": [],
   "source": [
    "fun = lambda x : exp_H(x, H)"
   ]
  },
  {
   "cell_type": "code",
   "execution_count": 58,
   "metadata": {
    "ExecuteTime": {
     "end_time": "2020-08-11T03:01:48.100736Z",
     "start_time": "2020-08-11T03:01:48.033095Z"
    }
   },
   "outputs": [],
   "source": [
    "# Autovalores Teórico\n",
    "\n",
    "E = A**2 + B**2 + C**2\n",
    "\n",
    "Emas = np.sqrt(E)\n",
    "\n",
    "Emen = -np.sqrt(E)\n",
    "\n",
    "# Autovectores\n",
    "\n",
    "#c1mas = np.sqrt(1/2) * np.sqrt((A**2+B**2)/(E+C*(np.sqrt(E))))\n",
    "c2mas = (C+np.sqrt(E))/(A+1j*B)\n",
    "\n",
    "#c1men = np.sqrt(1/2) * np.sqrt((A**2+B**2)/(E-C*(np.sqrt(E))))\n",
    "c2men = (C-np.sqrt(E))/(A+1j*B)\n",
    "\n",
    "Pma = np.matrix([[c2mas], [1]])\n",
    "Pme = np.matrix([[c2men], [1]])\n",
    "\n",
    "Pmas = Pma/np.linalg.norm(Pma, axis=0)\n",
    "Pmen = Pme/np.linalg.norm(Pme, axis=0)\n",
    "\n",
    "Pmas_dag = Pmas.getH()\n",
    "Pmen_dag = Pmen.getH()\n",
    "\n",
    "# Haniltonian diagonalizado\n",
    "\n",
    "diag_H = Emas*Pmas*Pmas_dag + Emen*Pmen*Pmen_dag"
   ]
  },
  {
   "cell_type": "code",
   "execution_count": null,
   "metadata": {},
   "outputs": [],
   "source": [
    "fun2 = lambda x : diag_expH(x, Emas, Emen, Pmas, Pmen)"
   ]
  },
  {
   "cell_type": "code",
   "execution_count": 61,
   "metadata": {
    "ExecuteTime": {
     "end_time": "2020-08-11T03:02:24.310160Z",
     "start_time": "2020-08-11T03:02:24.294472Z"
    }
   },
   "outputs": [
    {
     "data": {
      "text/plain": [
       "matrix([[0.04226194]])"
      ]
     },
     "execution_count": 61,
     "metadata": {},
     "output_type": "execute_result"
    }
   ],
   "source": [
    "fun(psi_est)"
   ]
  },
  {
   "cell_type": "code",
   "execution_count": 62,
   "metadata": {
    "ExecuteTime": {
     "end_time": "2020-08-11T03:02:24.885657Z",
     "start_time": "2020-08-11T03:02:24.869021Z"
    }
   },
   "outputs": [
    {
     "data": {
      "text/plain": [
       "matrix([[0.04226194]])"
      ]
     },
     "execution_count": 62,
     "metadata": {},
     "output_type": "execute_result"
    }
   ],
   "source": [
    "fun2(psi_est)"
   ]
  },
  {
   "cell_type": "code",
   "execution_count": null,
   "metadata": {},
   "outputs": [],
   "source": []
  }
 ],
 "metadata": {
  "kernelspec": {
   "display_name": "Python 3",
   "language": "python",
   "name": "python3"
  },
  "language_info": {
   "codemirror_mode": {
    "name": "ipython",
    "version": 3
   },
   "file_extension": ".py",
   "mimetype": "text/x-python",
   "name": "python",
   "nbconvert_exporter": "python",
   "pygments_lexer": "ipython3",
   "version": "3.6.10"
  }
 },
 "nbformat": 4,
 "nbformat_minor": 4
}
