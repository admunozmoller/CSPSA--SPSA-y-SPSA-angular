{
 "cells": [
  {
   "cell_type": "code",
   "execution_count": 68,
   "metadata": {
    "ExecuteTime": {
     "end_time": "2020-08-04T02:55:41.790378Z",
     "start_time": "2020-08-04T02:55:41.521765Z"
    }
   },
   "outputs": [],
   "source": [
    "import numpy as np\n",
    "import matplotlib.pyplot as plt\n",
    "import time\n",
    "import multiprocessing \n",
    "%run Funciones_CSPSA_SPSA.ipynb\n",
    "%matplotlib inline"
   ]
  },
  {
   "cell_type": "code",
   "execution_count": 69,
   "metadata": {
    "ExecuteTime": {
     "end_time": "2020-08-04T02:55:41.882428Z",
     "start_time": "2020-08-04T02:55:41.860711Z"
    }
   },
   "outputs": [],
   "source": [
    "# Ganancias estandar\n",
    "\n",
    "#s = 0.602\n",
    "#t = 0.101\n",
    "#A = 0\n",
    "#a = 3\n",
    "#b = 0.1\n",
    "\n",
    "\n",
    "# Ganancias asintoticas\n",
    "\n",
    "s = 1\n",
    "t = 0.166\n",
    "A = 0\n",
    "a = 3\n",
    "b = 0.1\n"
   ]
  },
  {
   "cell_type": "code",
   "execution_count": 70,
   "metadata": {
    "ExecuteTime": {
     "end_time": "2020-08-04T02:55:42.325124Z",
     "start_time": "2020-08-04T02:55:42.304954Z"
    }
   },
   "outputs": [],
   "source": [
    "d = 2\n",
    "nu_par = 1\n",
    "NU_IT = 500\n",
    "\n",
    "#A = np.sqrt(0.3)\n",
    "#B = np.sqrt(0.2)\n",
    "#C = np.sqrt(0.5)\n",
    "A = 1\n",
    "B = 3\n",
    "C = 5"
   ]
  },
  {
   "cell_type": "code",
   "execution_count": 71,
   "metadata": {
    "ExecuteTime": {
     "end_time": "2020-08-04T02:55:42.744706Z",
     "start_time": "2020-08-04T02:55:42.740000Z"
    }
   },
   "outputs": [],
   "source": [
    "psi_est = estado(d,nu_par)\n",
    "\n",
    "#psi_bloch = est_bloch(psi_est)[0]\n",
    "#phase = float(est_bloch(psi_est)[1])\n",
    "#theta = float(est_bloch(psi_est)[2])"
   ]
  },
  {
   "cell_type": "code",
   "execution_count": 72,
   "metadata": {
    "ExecuteTime": {
     "end_time": "2020-08-04T02:55:43.847726Z",
     "start_time": "2020-08-04T02:55:43.832263Z"
    }
   },
   "outputs": [],
   "source": [
    "H = H_paul(A,B,C)"
   ]
  },
  {
   "cell_type": "code",
   "execution_count": 73,
   "metadata": {
    "ExecuteTime": {
     "end_time": "2020-08-04T02:55:44.277132Z",
     "start_time": "2020-08-04T02:55:44.262294Z"
    }
   },
   "outputs": [],
   "source": [
    "fun = lambda x : exp_H(x, H)"
   ]
  },
  {
   "cell_type": "code",
   "execution_count": 74,
   "metadata": {
    "ExecuteTime": {
     "end_time": "2020-08-04T02:55:44.890250Z",
     "start_time": "2020-08-04T02:55:44.846524Z"
    }
   },
   "outputs": [
    {
     "name": "stdout",
     "output_type": "stream",
     "text": [
      "-5.916079783099616\n"
     ]
    }
   ],
   "source": [
    "# Ground-state Teórico\n",
    "\n",
    "E = A**2 + B**2 + C**2\n",
    "\n",
    "const1 = np.sqrt(1/2) * np.sqrt((A**2+B**2)/(E-C*(np.sqrt(E))))\n",
    "const2 = (C-np.sqrt(E))/(A+1j*B)\n",
    "\n",
    "#psi_teo = const1*np.matrix([[const2], [1]])\n",
    "#fun(psi_teo)\n",
    "\n",
    "Ground_teo = -(np.sqrt(A**2 + B**2 + C**2))\n",
    "print(Ground_teo)"
   ]
  },
  {
   "cell_type": "code",
   "execution_count": 75,
   "metadata": {
    "ExecuteTime": {
     "end_time": "2020-08-04T02:55:45.404039Z",
     "start_time": "2020-08-04T02:55:45.392489Z"
    }
   },
   "outputs": [],
   "source": [
    "#Result_CSPSA = CSPSA(psi_est, NU_IT, fun, fun, s, t, a, A, b)"
   ]
  },
  {
   "cell_type": "code",
   "execution_count": 76,
   "metadata": {
    "ExecuteTime": {
     "end_time": "2020-08-04T02:55:45.918343Z",
     "start_time": "2020-08-04T02:55:45.901111Z"
    }
   },
   "outputs": [],
   "source": [
    "#Result_SPSA = SPSA(psi_est, NU_IT, fun, fun, s, t, a, A, b)"
   ]
  },
  {
   "cell_type": "code",
   "execution_count": 77,
   "metadata": {
    "ExecuteTime": {
     "end_time": "2020-08-04T02:55:46.370058Z",
     "start_time": "2020-08-04T02:55:46.362293Z"
    }
   },
   "outputs": [],
   "source": [
    "#Result_SPSA_ang = SPSA_ang(psi_est, NU_IT, fun, fun, s, t, a, A, b)"
   ]
  },
  {
   "cell_type": "code",
   "execution_count": 78,
   "metadata": {
    "ExecuteTime": {
     "end_time": "2020-08-04T02:55:46.925559Z",
     "start_time": "2020-08-04T02:55:46.913287Z"
    }
   },
   "outputs": [],
   "source": [
    "#error_CSPSA = abs(Result_CSPSA - Ground_teo)\n",
    "#error_SPSA = abs(Result_SPSA - Ground_teo)\n",
    "#error_SPSA_ang = abs(Result_SPSA_ang - Ground_teo)"
   ]
  },
  {
   "cell_type": "code",
   "execution_count": 79,
   "metadata": {
    "ExecuteTime": {
     "end_time": "2020-08-04T02:55:47.157290Z",
     "start_time": "2020-08-04T02:55:47.144525Z"
    }
   },
   "outputs": [],
   "source": [
    "#plt.loglog(np.array(error_CSPSA[:]).T, label='CSPSA')\n",
    "#plt.loglog(np.array(error_SPSA[:]).T, label='SPSA')\n",
    "#plt.loglog(np.array(error_SPSA_ang[:]).T, label='SPSA_ang')\n",
    "#plt.legend()"
   ]
  },
  {
   "cell_type": "code",
   "execution_count": 80,
   "metadata": {
    "ExecuteTime": {
     "end_time": "2020-08-04T02:55:47.364924Z",
     "start_time": "2020-08-04T02:55:47.355856Z"
    }
   },
   "outputs": [],
   "source": [
    "#plt.plot(np.array(Result_CSPSA[:]).T)\n",
    "#plt.loglog(np.array(error_CSPSA[:]).T)"
   ]
  },
  {
   "cell_type": "code",
   "execution_count": 81,
   "metadata": {
    "ExecuteTime": {
     "end_time": "2020-08-04T02:55:47.607089Z",
     "start_time": "2020-08-04T02:55:47.585765Z"
    }
   },
   "outputs": [],
   "source": [
    "#plt.plot(np.array(Result_SPSA[:]).T)\n",
    "#plt.loglog(np.array(error_SPSA[:]).T)"
   ]
  },
  {
   "cell_type": "code",
   "execution_count": 82,
   "metadata": {
    "ExecuteTime": {
     "end_time": "2020-08-04T02:55:48.042980Z",
     "start_time": "2020-08-04T02:55:48.031257Z"
    }
   },
   "outputs": [],
   "source": [
    "#plt.plot(np.array(Result_SPSA_ang[:]).T)\n",
    "#plt.loglog(np.array(error_SPSA_ang[:]).T)"
   ]
  },
  {
   "cell_type": "code",
   "execution_count": 83,
   "metadata": {
    "ExecuteTime": {
     "end_time": "2020-08-04T02:55:48.569619Z",
     "start_time": "2020-08-04T02:55:48.558550Z"
    }
   },
   "outputs": [],
   "source": [
    "#plt.plot(np.array(Result_SPSA_ang[:]).T, label='SPSA_ang')\n",
    "#plt.plot(np.array(Result_CSPSA[:]).T,label='CSPSA')\n",
    "#plt.xlim(0,100)\n",
    "#plt.ylim(-7,-4)\n",
    "#plt.legend()"
   ]
  },
  {
   "cell_type": "code",
   "execution_count": 84,
   "metadata": {
    "ExecuteTime": {
     "end_time": "2020-08-04T02:55:48.957473Z",
     "start_time": "2020-08-04T02:55:48.941693Z"
    }
   },
   "outputs": [],
   "source": [
    "# numero de realizaciones para promediar\n",
    "\n",
    "num = 100\n",
    "\n",
    "\n",
    "x = range(0,num)\n",
    "y = len(x)\n"
   ]
  },
  {
   "cell_type": "code",
   "execution_count": 85,
   "metadata": {
    "ExecuteTime": {
     "end_time": "2020-08-04T02:55:49.744898Z",
     "start_time": "2020-08-04T02:55:49.692771Z"
    }
   },
   "outputs": [],
   "source": [
    "def multiprocessing_func(i):\n",
    "    \n",
    "    Result_CSPSA_ar = np.empty((0,1,NU_IT), dtype=np.single)\n",
    "    Result_SPSA_ar = np.empty((0,1,NU_IT), dtype=np.single)\n",
    "    Result_SPSA_ang_ar = np.empty((0,1,NU_IT), dtype=np.single)\n",
    "\n",
    "    error_CSPSA_ar = np.empty((0,1,NU_IT), dtype=np.single)\n",
    "    error_SPSA_ar = np.empty((0,1,NU_IT), dtype=np.single)\n",
    "    error_SPSA_ang_ar = np.empty((0,1,NU_IT), dtype=np.single)\n",
    "     \n",
    "    psi_est = estado(d,nu_par)\n",
    "    Result_CSPSA = CSPSA(psi_est, NU_IT, fun, fun, s, t, a, A, b)\n",
    "    Result_SPSA = SPSA(psi_est, NU_IT, fun, fun, s, t, a, A, b)\n",
    "    Result_SPSA_ang = SPSA_ang(psi_est, NU_IT, fun, fun, s, t, a, A, b)\n",
    "    \n",
    "    error_CSPSA = abs(Result_CSPSA - Ground_teo)\n",
    "    error_SPSA = abs(Result_SPSA - Ground_teo)\n",
    "    error_SPSA_ang = abs(Result_SPSA_ang - Ground_teo)\n",
    "    \n",
    "    Result_CSPSA_ar = np.insert(Result_CSPSA_ar, 0, Result_CSPSA, axis=0)\n",
    "    Result_SPSA_ar = np.insert(Result_SPSA_ar, 0, Result_SPSA, axis=0)\n",
    "    Result_SPSA_ang_ar = np.insert(Result_SPSA_ang_ar, 0, Result_SPSA_ang, axis=0)\n",
    "    \n",
    "    error_CSPSA_ar = np.insert(error_CSPSA_ar, 0, error_CSPSA, axis=0)\n",
    "    error_SPSA_ar = np.insert(error_SPSA_ar, 0, error_SPSA, axis=0)\n",
    "    error_SPSA_ang_ar = np.insert(error_SPSA_ang_ar, 0, error_SPSA_ang, axis=0)\n",
    "    \n",
    "    return Result_CSPSA_ar, Result_SPSA_ar, Result_SPSA_ang_ar, error_CSPSA_ar, error_SPSA_ar, error_SPSA_ang_ar"
   ]
  },
  {
   "cell_type": "code",
   "execution_count": 86,
   "metadata": {
    "ExecuteTime": {
     "end_time": "2020-08-04T02:55:50.698785Z",
     "start_time": "2020-08-04T02:55:50.614385Z"
    }
   },
   "outputs": [
    {
     "name": "stderr",
     "output_type": "stream",
     "text": [
      "Process ForkPoolWorker-300:\n",
      "Traceback (most recent call last):\n",
      "  File \"/home/dmunoz/anaconda3/lib/python3.6/multiprocessing/process.py\", line 258, in _bootstrap\n",
      "    self.run()\n",
      "  File \"/home/dmunoz/anaconda3/lib/python3.6/multiprocessing/process.py\", line 93, in run\n",
      "    self._target(*self._args, **self._kwargs)\n",
      "  File \"/home/dmunoz/anaconda3/lib/python3.6/multiprocessing/pool.py\", line 119, in worker\n",
      "    result = (True, func(*args, **kwds))\n",
      "Process ForkPoolWorker-299:\n",
      "  File \"<ipython-input-85-ab3c94cde3b0>\", line 13, in multiprocessing_func\n",
      "    Result_SPSA = SPSA(psi_est, NU_IT, fun, fun, s, t, a, A, b)\n",
      "  File \"<ipython-input-68-5a98d0cd6ba0>\", line 22, in SPSA\n",
      "    k, s, t, a, A, b, fun, fun_teor ))\n",
      "Traceback (most recent call last):\n",
      "  File \"<ipython-input-68-a76dfe03c544>\", line 44, in itSPSA\n",
      "    grad = np.divide(fun_k_mas - fun_k_menos, 2*beta*delta)\n",
      "  File \"/home/dmunoz/anaconda3/lib/python3.6/multiprocessing/process.py\", line 258, in _bootstrap\n",
      "    self.run()\n",
      "  File \"/home/dmunoz/anaconda3/lib/python3.6/site-packages/numpy/matrixlib/defmatrix.py\", line 167, in __array_finalize__\n",
      "    def __array_finalize__(self, obj):\n",
      "  File \"/home/dmunoz/anaconda3/lib/python3.6/multiprocessing/process.py\", line 93, in run\n",
      "    self._target(*self._args, **self._kwargs)\n",
      "KeyboardInterrupt\n",
      "  File \"/home/dmunoz/anaconda3/lib/python3.6/multiprocessing/pool.py\", line 119, in worker\n",
      "    result = (True, func(*args, **kwds))\n",
      "  File \"<ipython-input-85-ab3c94cde3b0>\", line 13, in multiprocessing_func\n",
      "    Result_SPSA = SPSA(psi_est, NU_IT, fun, fun, s, t, a, A, b)\n",
      "  File \"<ipython-input-68-5a98d0cd6ba0>\", line 22, in SPSA\n",
      "    k, s, t, a, A, b, fun, fun_teor ))\n",
      "  File \"<ipython-input-68-a76dfe03c544>\", line 47, in itSPSA\n",
      "    z_k = z_k - alpha*grad - 1j*alpha*grad_i\n",
      "  File \"/home/dmunoz/anaconda3/lib/python3.6/site-packages/numpy/matrixlib/defmatrix.py\", line 224, in __rmul__\n",
      "    return N.dot(other, self)\n",
      "  File \"<__array_function__ internals>\", line 6, in dot\n",
      "  File \"/home/dmunoz/anaconda3/lib/python3.6/site-packages/numpy/matrixlib/defmatrix.py\", line 167, in __array_finalize__\n",
      "    def __array_finalize__(self, obj):\n",
      "KeyboardInterrupt\n"
     ]
    }
   ],
   "source": [
    "if __name__ == '__main__':\n",
    "    \n",
    "    pool = multiprocessing.Pool(2)\n",
    "    p = pool.imap_unordered(multiprocessing_func, x)\n",
    "    pool.close()\n",
    "    "
   ]
  },
  {
   "cell_type": "code",
   "execution_count": 91,
   "metadata": {
    "ExecuteTime": {
     "end_time": "2020-08-04T02:56:43.795785Z",
     "start_time": "2020-08-04T02:56:43.760703Z"
    }
   },
   "outputs": [
    {
     "data": {
      "text/plain": [
       "()"
      ]
     },
     "execution_count": 91,
     "metadata": {},
     "output_type": "execute_result"
    }
   ],
   "source": [
    "Results = np.array(p)\n",
    "np.shape(Results)"
   ]
  },
  {
   "cell_type": "code",
   "execution_count": 88,
   "metadata": {
    "ExecuteTime": {
     "end_time": "2020-08-04T02:55:52.124082Z",
     "start_time": "2020-08-04T02:55:52.002556Z"
    }
   },
   "outputs": [
    {
     "ename": "IndexError",
     "evalue": "too many indices for array: array is 0-dimensional, but 5 were indexed",
     "output_type": "error",
     "traceback": [
      "\u001b[0;31m---------------------------------------------------------------------------\u001b[0m",
      "\u001b[0;31mIndexError\u001b[0m                                Traceback (most recent call last)",
      "\u001b[0;32m<ipython-input-88-862c24a14705>\u001b[0m in \u001b[0;36m<module>\u001b[0;34m\u001b[0m\n\u001b[0;32m----> 1\u001b[0;31m \u001b[0mResult_CSPSA_ar\u001b[0m \u001b[0;34m=\u001b[0m \u001b[0mResults\u001b[0m\u001b[0;34m[\u001b[0m\u001b[0;34m:\u001b[0m\u001b[0;34m,\u001b[0m\u001b[0;36m0\u001b[0m\u001b[0;34m,\u001b[0m\u001b[0;34m:\u001b[0m\u001b[0;34m,\u001b[0m\u001b[0;34m:\u001b[0m\u001b[0;34m,\u001b[0m\u001b[0;34m:\u001b[0m\u001b[0;34m]\u001b[0m\u001b[0;34m\u001b[0m\u001b[0;34m\u001b[0m\u001b[0m\n\u001b[0m\u001b[1;32m      2\u001b[0m \u001b[0mResult_SPSA_ar\u001b[0m \u001b[0;34m=\u001b[0m \u001b[0mResults\u001b[0m\u001b[0;34m[\u001b[0m\u001b[0;34m:\u001b[0m\u001b[0;34m,\u001b[0m\u001b[0;36m1\u001b[0m\u001b[0;34m,\u001b[0m\u001b[0;34m:\u001b[0m\u001b[0;34m,\u001b[0m\u001b[0;34m:\u001b[0m\u001b[0;34m,\u001b[0m\u001b[0;34m:\u001b[0m\u001b[0;34m]\u001b[0m\u001b[0;34m\u001b[0m\u001b[0;34m\u001b[0m\u001b[0m\n\u001b[1;32m      3\u001b[0m \u001b[0mResult_SPSA_ang_ar\u001b[0m \u001b[0;34m=\u001b[0m \u001b[0mResults\u001b[0m\u001b[0;34m[\u001b[0m\u001b[0;34m:\u001b[0m\u001b[0;34m,\u001b[0m\u001b[0;36m2\u001b[0m\u001b[0;34m,\u001b[0m\u001b[0;34m:\u001b[0m\u001b[0;34m,\u001b[0m\u001b[0;34m:\u001b[0m\u001b[0;34m,\u001b[0m\u001b[0;34m:\u001b[0m\u001b[0;34m]\u001b[0m\u001b[0;34m\u001b[0m\u001b[0;34m\u001b[0m\u001b[0m\n\u001b[1;32m      4\u001b[0m \u001b[0;34m\u001b[0m\u001b[0m\n\u001b[1;32m      5\u001b[0m \u001b[0merror_CSPSA_ar\u001b[0m \u001b[0;34m=\u001b[0m \u001b[0mResults\u001b[0m\u001b[0;34m[\u001b[0m\u001b[0;34m:\u001b[0m\u001b[0;34m,\u001b[0m\u001b[0;36m3\u001b[0m\u001b[0;34m,\u001b[0m\u001b[0;34m:\u001b[0m\u001b[0;34m,\u001b[0m\u001b[0;34m:\u001b[0m\u001b[0;34m,\u001b[0m\u001b[0;34m:\u001b[0m\u001b[0;34m]\u001b[0m\u001b[0;34m\u001b[0m\u001b[0;34m\u001b[0m\u001b[0m\n",
      "\u001b[0;31mIndexError\u001b[0m: too many indices for array: array is 0-dimensional, but 5 were indexed"
     ]
    }
   ],
   "source": [
    "Result_CSPSA_ar = Results[:,0,:,:,:]\n",
    "Result_SPSA_ar = Results[:,1,:,:,:]\n",
    "Result_SPSA_ang_ar = Results[:,2,:,:,:]\n",
    "\n",
    "error_CSPSA_ar = Results[:,3,:,:,:]\n",
    "error_SPSA_ar = Results[:,4,:,:,:]\n",
    "error_SPSA_ang_ar = Results[:,5,:,:,:]"
   ]
  },
  {
   "cell_type": "code",
   "execution_count": 89,
   "metadata": {
    "ExecuteTime": {
     "end_time": "2020-08-04T02:55:52.664710Z",
     "start_time": "2020-08-04T02:55:52.564728Z"
    }
   },
   "outputs": [],
   "source": [
    "Result_CSPSA_pro = np.sum(Result_CSPSA_ar, axis=0)/y\n",
    "Result_SPSA_pro = np.sum(Result_SPSA_ar, axis=0)/y\n",
    "Result_SPSA_ang_pro = np.sum(Result_SPSA_ang_ar, axis=0)/y\n",
    "error_CSPSA_pro = np.sum(error_CSPSA_ar, axis=0)/y\n",
    "error_SPSA_pro = np.sum(error_SPSA_ar, axis=0)/y\n",
    "error_SPSA_ang_pro = np.sum(error_SPSA_ang_ar, axis=0)/y\n"
   ]
  },
  {
   "cell_type": "code",
   "execution_count": 23,
   "metadata": {
    "ExecuteTime": {
     "end_time": "2020-08-04T01:51:15.181112Z",
     "start_time": "2020-08-04T01:51:15.104803Z"
    }
   },
   "outputs": [],
   "source": [
    "Result_CSPSA = Result_CSPSA_pro[0,0,:]\n",
    "Result_SPSA = Result_SPSA_pro[0,0,:]\n",
    "Result_SPSA_ang = Result_SPSA_ang_pro[0,0,:]\n",
    "error_CSPSA = error_CSPSA_pro[0,0,:]\n",
    "error_SPSA = error_SPSA_pro[0,0,:]\n",
    "error_SPSA_ang = error_SPSA_ang_pro[0,0,:]"
   ]
  },
  {
   "cell_type": "code",
   "execution_count": 24,
   "metadata": {
    "ExecuteTime": {
     "end_time": "2020-08-04T01:51:15.247938Z",
     "start_time": "2020-08-04T01:51:15.185348Z"
    }
   },
   "outputs": [],
   "source": [
    "#plt.loglog(np.array(error_CSPSA_pro[:]).T)"
   ]
  },
  {
   "cell_type": "code",
   "execution_count": 25,
   "metadata": {
    "ExecuteTime": {
     "end_time": "2020-08-04T01:51:15.316789Z",
     "start_time": "2020-08-04T01:51:15.251085Z"
    }
   },
   "outputs": [],
   "source": [
    "#plt.loglog(np.array(error_SPSA_pro[:]).T)"
   ]
  },
  {
   "cell_type": "code",
   "execution_count": 26,
   "metadata": {
    "ExecuteTime": {
     "end_time": "2020-08-04T01:51:15.385468Z",
     "start_time": "2020-08-04T01:51:15.320829Z"
    }
   },
   "outputs": [],
   "source": [
    "#plt.loglog(np.array(error_SPSA_ang_pro[:]).T)"
   ]
  },
  {
   "cell_type": "code",
   "execution_count": 27,
   "metadata": {
    "ExecuteTime": {
     "end_time": "2020-08-04T01:51:17.142508Z",
     "start_time": "2020-08-04T01:51:15.389082Z"
    }
   },
   "outputs": [
    {
     "data": {
      "text/plain": [
       "<matplotlib.legend.Legend at 0x7f32740791d0>"
      ]
     },
     "execution_count": 27,
     "metadata": {},
     "output_type": "execute_result"
    },
    {
     "data": {
      "image/png": "[encoded data removed]",
      "text/plain": [
       "<Figure size 432x288 with 1 Axes>"
      ]
     },
     "metadata": {
      "needs_background": "light"
     },
     "output_type": "display_data"
    }
   ],
   "source": [
    "plt.loglog(np.array(error_CSPSA[:]).T, label='CSPSA')\n",
    "plt.loglog(np.array(error_SPSA[:]).T, label='SPSA')\n",
    "plt.loglog(np.array(error_SPSA_ang[:]).T, label='SPSA_ang')\n",
    "plt.legend()"
   ]
  },
  {
   "cell_type": "code",
   "execution_count": 28,
   "metadata": {
    "ExecuteTime": {
     "end_time": "2020-08-04T01:51:17.544004Z",
     "start_time": "2020-08-04T01:51:17.152618Z"
    }
   },
   "outputs": [
    {
     "data": {
      "text/plain": [
       "<matplotlib.legend.Legend at 0x7f3268a80f60>"
      ]
     },
     "execution_count": 28,
     "metadata": {},
     "output_type": "execute_result"
    },
    {
     "data": {
      "image/png": "[encoded data removed]",
      "text/plain": [
       "<Figure size 432x288 with 1 Axes>"
      ]
     },
     "metadata": {
      "needs_background": "light"
     },
     "output_type": "display_data"
    }
   ],
   "source": [
    "plt.plot(np.array(Result_CSPSA[:]).T,label='CSPSA')\n",
    "plt.plot(np.array(Result_SPSA[:]).T, label='SPSA')\n",
    "plt.plot(np.array(Result_SPSA_ang[:]).T, label='SPSA_ang')\n",
    "\n",
    "#plt.xlim(0,90)\n",
    "#plt.ylim(-6.5,-4)\n",
    "plt.legend()"
   ]
  },
  {
   "cell_type": "code",
   "execution_count": 29,
   "metadata": {
    "ExecuteTime": {
     "end_time": "2020-08-04T01:51:18.188100Z",
     "start_time": "2020-08-04T01:51:17.546991Z"
    },
    "scrolled": true
   },
   "outputs": [],
   "source": [
    "#np.savetxt('prueba.txt', Result_SPSA, delimiter=',')\n",
    "#print(Result_SPSA)"
   ]
  },
  {
   "cell_type": "code",
   "execution_count": 30,
   "metadata": {
    "ExecuteTime": {
     "end_time": "2020-08-04T01:51:18.273412Z",
     "start_time": "2020-08-04T01:51:18.192000Z"
    }
   },
   "outputs": [],
   "source": [
    "#np.savetxt('prueba.txt', Result_CSPSA, delimiter=',')\n",
    "#print(Result_CSPSA)"
   ]
  },
  {
   "cell_type": "code",
   "execution_count": 31,
   "metadata": {
    "ExecuteTime": {
     "end_time": "2020-08-04T01:51:18.341209Z",
     "start_time": "2020-08-04T01:51:18.277469Z"
    }
   },
   "outputs": [],
   "source": [
    "#np.savetxt('prueba.txt', Result_SPSA_ang, delimiter=',')\n",
    "#print(Result_SPSA_ang)"
   ]
  }
 ],
 "metadata": {
  "kernelspec": {
   "display_name": "Python 3",
   "language": "python",
   "name": "python3"
  },
  "language_info": {
   "codemirror_mode": {
    "name": "ipython",
    "version": 3
   },
   "file_extension": ".py",
   "mimetype": "text/x-python",
   "name": "python",
   "nbconvert_exporter": "python",
   "pygments_lexer": "ipython3",
   "version": "3.6.10"
  }
 },
 "nbformat": 4,
 "nbformat_minor": 4
}
