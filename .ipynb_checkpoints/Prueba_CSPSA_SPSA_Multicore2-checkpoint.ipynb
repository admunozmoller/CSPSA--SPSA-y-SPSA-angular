{
 "cells": [
  {
   "cell_type": "code",
   "execution_count": 1,
   "metadata": {
    "ExecuteTime": {
     "end_time": "2020-08-02T06:44:24.236007Z",
     "start_time": "2020-08-02T06:44:22.980876Z"
    }
   },
   "outputs": [],
   "source": [
    "import numpy as np\n",
    "import matplotlib.pyplot as plt\n",
    "import time\n",
    "import multiprocessing \n",
    "%run Funciones_CSPSA_SPSA.ipynb\n",
    "%matplotlib inline"
   ]
  },
  {
   "cell_type": "code",
   "execution_count": 2,
   "metadata": {
    "ExecuteTime": {
     "end_time": "2020-08-02T06:44:24.249023Z",
     "start_time": "2020-08-02T06:44:24.239587Z"
    }
   },
   "outputs": [],
   "source": [
    "# Ganancias estandar\n",
    "\n",
    "#s = 0.602\n",
    "#t = 0.101\n",
    "#A = 0\n",
    "#a = 3\n",
    "#b = 0.1\n",
    "\n",
    "\n",
    "# Ganancias asintoticas\n",
    "\n",
    "s = 1\n",
    "t = 0.166\n",
    "A = 0\n",
    "a = 3\n",
    "b = 0.1\n"
   ]
  },
  {
   "cell_type": "code",
   "execution_count": 3,
   "metadata": {
    "ExecuteTime": {
     "end_time": "2020-08-02T06:44:24.965064Z",
     "start_time": "2020-08-02T06:44:24.255929Z"
    }
   },
   "outputs": [],
   "source": [
    "d = 2\n",
    "nu_par = 1\n",
    "NU_IT = 500\n",
    "\n",
    "#A = np.sqrt(0.3)\n",
    "#B = np.sqrt(0.2)\n",
    "#C = np.sqrt(0.5)\n",
    "A = 1\n",
    "B = 3\n",
    "C = 5"
   ]
  },
  {
   "cell_type": "code",
   "execution_count": 4,
   "metadata": {
    "ExecuteTime": {
     "end_time": "2020-08-02T06:44:25.033702Z",
     "start_time": "2020-08-02T06:44:24.969348Z"
    }
   },
   "outputs": [],
   "source": [
    "psi_est = estado(d,nu_par)\n",
    "\n",
    "#psi_bloch = est_bloch(psi_est)[0]\n",
    "#phase = float(est_bloch(psi_est)[1])\n",
    "#theta = float(est_bloch(psi_est)[2])"
   ]
  },
  {
   "cell_type": "code",
   "execution_count": 5,
   "metadata": {
    "ExecuteTime": {
     "end_time": "2020-08-02T06:44:25.101894Z",
     "start_time": "2020-08-02T06:44:25.037201Z"
    }
   },
   "outputs": [],
   "source": [
    "H = H_paul(A,B,C)"
   ]
  },
  {
   "cell_type": "code",
   "execution_count": 6,
   "metadata": {
    "ExecuteTime": {
     "end_time": "2020-08-02T06:44:25.169790Z",
     "start_time": "2020-08-02T06:44:25.105756Z"
    }
   },
   "outputs": [],
   "source": [
    "fun = lambda x : exp_H(x, H)"
   ]
  },
  {
   "cell_type": "code",
   "execution_count": 7,
   "metadata": {
    "ExecuteTime": {
     "end_time": "2020-08-02T06:44:25.586324Z",
     "start_time": "2020-08-02T06:44:25.173643Z"
    }
   },
   "outputs": [
    {
     "name": "stdout",
     "output_type": "stream",
     "text": [
      "-5.916079783099616\n"
     ]
    }
   ],
   "source": [
    "# Ground-state Teórico\n",
    "\n",
    "E = A**2 + B**2 + C**2\n",
    "\n",
    "const1 = np.sqrt(1/2) * np.sqrt((A**2+B**2)/(E-C*(np.sqrt(E))))\n",
    "const2 = (C-np.sqrt(E))/(A+1j*B)\n",
    "\n",
    "#psi_teo = const1*np.matrix([[const2], [1]])\n",
    "#fun(psi_teo)\n",
    "\n",
    "Ground_teo = -(np.sqrt(A**2 + B**2 + C**2))\n",
    "print(Ground_teo)"
   ]
  },
  {
   "cell_type": "code",
   "execution_count": 8,
   "metadata": {
    "ExecuteTime": {
     "end_time": "2020-08-02T06:44:25.683145Z",
     "start_time": "2020-08-02T06:44:25.592142Z"
    }
   },
   "outputs": [],
   "source": [
    "#Result_CSPSA = CSPSA(psi_est, NU_IT, fun, fun, s, t, a, A, b)"
   ]
  },
  {
   "cell_type": "code",
   "execution_count": 9,
   "metadata": {
    "ExecuteTime": {
     "end_time": "2020-08-02T06:44:25.802743Z",
     "start_time": "2020-08-02T06:44:25.692168Z"
    }
   },
   "outputs": [],
   "source": [
    "#Result_SPSA = SPSA(psi_est, NU_IT, fun, fun, s, t, a, A, b)"
   ]
  },
  {
   "cell_type": "code",
   "execution_count": 10,
   "metadata": {
    "ExecuteTime": {
     "end_time": "2020-08-02T06:44:26.289429Z",
     "start_time": "2020-08-02T06:44:25.810833Z"
    }
   },
   "outputs": [],
   "source": [
    "#Result_SPSA_ang = SPSA_ang(psi_est, NU_IT, fun, fun, s, t, a, A, b)"
   ]
  },
  {
   "cell_type": "code",
   "execution_count": 11,
   "metadata": {
    "ExecuteTime": {
     "end_time": "2020-08-02T06:44:26.413594Z",
     "start_time": "2020-08-02T06:44:26.295297Z"
    }
   },
   "outputs": [],
   "source": [
    "#error_CSPSA = abs(Result_CSPSA - Ground_teo)\n",
    "#error_SPSA = abs(Result_SPSA - Ground_teo)\n",
    "#error_SPSA_ang = abs(Result_SPSA_ang - Ground_teo)"
   ]
  },
  {
   "cell_type": "code",
   "execution_count": 12,
   "metadata": {
    "ExecuteTime": {
     "end_time": "2020-08-02T06:44:26.581019Z",
     "start_time": "2020-08-02T06:44:26.422492Z"
    }
   },
   "outputs": [],
   "source": [
    "#plt.loglog(np.array(error_CSPSA[:]).T, label='CSPSA')\n",
    "#plt.loglog(np.array(error_SPSA[:]).T, label='SPSA')\n",
    "#plt.loglog(np.array(error_SPSA_ang[:]).T, label='SPSA_ang')\n",
    "#plt.legend()"
   ]
  },
  {
   "cell_type": "code",
   "execution_count": 13,
   "metadata": {
    "ExecuteTime": {
     "end_time": "2020-08-02T06:44:26.661869Z",
     "start_time": "2020-08-02T06:44:26.589612Z"
    }
   },
   "outputs": [],
   "source": [
    "#plt.plot(np.array(Result_CSPSA[:]).T)\n",
    "#plt.loglog(np.array(error_CSPSA[:]).T)"
   ]
  },
  {
   "cell_type": "code",
   "execution_count": 14,
   "metadata": {
    "ExecuteTime": {
     "end_time": "2020-08-02T06:44:26.789414Z",
     "start_time": "2020-08-02T06:44:26.665664Z"
    }
   },
   "outputs": [],
   "source": [
    "#plt.plot(np.array(Result_SPSA[:]).T)\n",
    "#plt.loglog(np.array(error_SPSA[:]).T)"
   ]
  },
  {
   "cell_type": "code",
   "execution_count": 15,
   "metadata": {
    "ExecuteTime": {
     "end_time": "2020-08-02T06:44:26.916579Z",
     "start_time": "2020-08-02T06:44:26.792936Z"
    }
   },
   "outputs": [],
   "source": [
    "#plt.plot(np.array(Result_SPSA_ang[:]).T)\n",
    "#plt.loglog(np.array(error_SPSA_ang[:]).T)"
   ]
  },
  {
   "cell_type": "code",
   "execution_count": 16,
   "metadata": {
    "ExecuteTime": {
     "end_time": "2020-08-02T06:44:26.997883Z",
     "start_time": "2020-08-02T06:44:26.925143Z"
    }
   },
   "outputs": [],
   "source": [
    "#plt.plot(np.array(Result_SPSA_ang[:]).T, label='SPSA_ang')\n",
    "#plt.plot(np.array(Result_CSPSA[:]).T,label='CSPSA')\n",
    "#plt.xlim(0,100)\n",
    "#plt.ylim(-7,-4)\n",
    "#plt.legend()"
   ]
  },
  {
   "cell_type": "code",
   "execution_count": 17,
   "metadata": {
    "ExecuteTime": {
     "end_time": "2020-08-02T06:44:27.079157Z",
     "start_time": "2020-08-02T06:44:27.005306Z"
    }
   },
   "outputs": [],
   "source": [
    "# numero de realizaciones para promediar\n",
    "\n",
    "num = 1000\n",
    "\n",
    "\n",
    "x = range(0,num)\n",
    "y = len(x)\n"
   ]
  },
  {
   "cell_type": "code",
   "execution_count": 18,
   "metadata": {
    "ExecuteTime": {
     "end_time": "2020-08-02T06:44:27.254436Z",
     "start_time": "2020-08-02T06:44:27.082433Z"
    }
   },
   "outputs": [],
   "source": [
    "def multiprocessing_func(i):\n",
    "    \n",
    "    Result_CSPSA_ar = np.empty((0,1,NU_IT), dtype=np.single)\n",
    "    Result_SPSA_ar = np.empty((0,1,NU_IT), dtype=np.single)\n",
    "    Result_SPSA_ang_ar = np.empty((0,1,NU_IT), dtype=np.single)\n",
    "\n",
    "    error_CSPSA_ar = np.empty((0,1,NU_IT), dtype=np.single)\n",
    "    error_SPSA_ar = np.empty((0,1,NU_IT), dtype=np.single)\n",
    "    error_SPSA_ang_ar = np.empty((0,1,NU_IT), dtype=np.single)\n",
    "     \n",
    "    psi_est = estado(d,nu_par)\n",
    "    Result_CSPSA = CSPSA(psi_est, NU_IT, fun, fun, s, t, a, A, b)\n",
    "    Result_SPSA = SPSA(psi_est, NU_IT, fun, fun, s, t, a, A, b)\n",
    "    Result_SPSA_ang = SPSA_ang(psi_est, NU_IT, fun, fun, s, t, a, A, b)\n",
    "    \n",
    "    error_CSPSA = abs(Result_CSPSA - Ground_teo)\n",
    "    error_SPSA = abs(Result_SPSA - Ground_teo)\n",
    "    error_SPSA_ang = abs(Result_SPSA_ang - Ground_teo)\n",
    "    \n",
    "    Result_CSPSA_ar = np.insert(Result_CSPSA_ar, 0, Result_CSPSA, axis=0)\n",
    "    Result_SPSA_ar = np.insert(Result_SPSA_ar, 0, Result_SPSA, axis=0)\n",
    "    Result_SPSA_ang_ar = np.insert(Result_SPSA_ang_ar, 0, Result_SPSA_ang, axis=0)\n",
    "    \n",
    "    error_CSPSA_ar = np.insert(error_CSPSA_ar, 0, error_CSPSA, axis=0)\n",
    "    error_SPSA_ar = np.insert(error_SPSA_ar, 0, error_SPSA, axis=0)\n",
    "    error_SPSA_ang_ar = np.insert(error_SPSA_ang_ar, 0, error_SPSA_ang, axis=0)\n",
    "    \n",
    "    return Result_CSPSA_ar, Result_SPSA_ar, Result_SPSA_ang_ar, error_CSPSA_ar, error_SPSA_ar, error_SPSA_ang_ar"
   ]
  },
  {
   "cell_type": "code",
   "execution_count": 19,
   "metadata": {
    "ExecuteTime": {
     "end_time": "2020-08-02T06:44:32.278028Z",
     "start_time": "2020-08-02T06:44:27.258116Z"
    }
   },
   "outputs": [],
   "source": [
    "if __name__ == '__main__':\n",
    "    \n",
    "    pool = multiprocessing.Pool()\n",
    "    p = pool.map(multiprocessing_func, x)\n",
    "    pool.close()\n",
    "    "
   ]
  },
  {
   "cell_type": "code",
   "execution_count": 20,
   "metadata": {
    "ExecuteTime": {
     "end_time": "2020-08-02T06:44:32.290035Z",
     "start_time": "2020-08-02T06:44:32.283614Z"
    }
   },
   "outputs": [],
   "source": [
    "Results = np.array(p)"
   ]
  },
  {
   "cell_type": "code",
   "execution_count": 21,
   "metadata": {
    "ExecuteTime": {
     "end_time": "2020-08-02T06:44:32.598521Z",
     "start_time": "2020-08-02T06:44:32.295095Z"
    }
   },
   "outputs": [],
   "source": [
    "Result_CSPSA_ar = Results[:,0,:,:,:]\n",
    "Result_SPSA_ar = Results[:,1,:,:,:]\n",
    "Result_SPSA_ang_ar = Results[:,2,:,:,:]\n",
    "\n",
    "error_CSPSA_ar = Results[:,3,:,:,:]\n",
    "error_SPSA_ar = Results[:,4,:,:,:]\n",
    "error_SPSA_ang_ar = Results[:,5,:,:,:]"
   ]
  },
  {
   "cell_type": "code",
   "execution_count": 22,
   "metadata": {
    "ExecuteTime": {
     "end_time": "2020-08-02T06:44:32.667662Z",
     "start_time": "2020-08-02T06:44:32.605246Z"
    }
   },
   "outputs": [],
   "source": [
    "Result_CSPSA_pro = np.sum(Result_CSPSA_ar, axis=0)/y\n",
    "Result_SPSA_pro = np.sum(Result_SPSA_ar, axis=0)/y\n",
    "Result_SPSA_ang_pro = np.sum(Result_SPSA_ang_ar, axis=0)/y\n",
    "error_CSPSA_pro = np.sum(error_CSPSA_ar, axis=0)/y\n",
    "error_SPSA_pro = np.sum(error_SPSA_ar, axis=0)/y\n",
    "error_SPSA_ang_pro = np.sum(error_SPSA_ang_ar, axis=0)/y\n"
   ]
  },
  {
   "cell_type": "code",
   "execution_count": 23,
   "metadata": {
    "ExecuteTime": {
     "end_time": "2020-08-02T06:44:32.753912Z",
     "start_time": "2020-08-02T06:44:32.678581Z"
    }
   },
   "outputs": [],
   "source": [
    "Result_CSPSA = Result_CSPSA_pro[0,0,:]\n",
    "Result_SPSA = Result_SPSA_pro[0,0,:]\n",
    "Result_SPSA_ang = Result_SPSA_ang_pro[0,0,:]\n",
    "error_CSPSA = error_CSPSA_pro[0,0,:]\n",
    "error_SPSA = error_SPSA_pro[0,0,:]\n",
    "error_SPSA_ang = error_SPSA_ang_pro[0,0,:]"
   ]
  },
  {
   "cell_type": "code",
   "execution_count": 24,
   "metadata": {
    "ExecuteTime": {
     "end_time": "2020-08-02T06:44:32.837924Z",
     "start_time": "2020-08-02T06:44:32.758079Z"
    }
   },
   "outputs": [],
   "source": [
    "#plt.loglog(np.array(error_CSPSA_pro[:]).T)"
   ]
  },
  {
   "cell_type": "code",
   "execution_count": 25,
   "metadata": {
    "ExecuteTime": {
     "end_time": "2020-08-02T06:44:32.906176Z",
     "start_time": "2020-08-02T06:44:32.842372Z"
    }
   },
   "outputs": [],
   "source": [
    "#plt.loglog(np.array(error_SPSA_pro[:]).T)"
   ]
  },
  {
   "cell_type": "code",
   "execution_count": 26,
   "metadata": {
    "ExecuteTime": {
     "end_time": "2020-08-02T06:44:32.974250Z",
     "start_time": "2020-08-02T06:44:32.910363Z"
    }
   },
   "outputs": [],
   "source": [
    "#plt.loglog(np.array(error_SPSA_ang_pro[:]).T)"
   ]
  },
  {
   "cell_type": "code",
   "execution_count": 27,
   "metadata": {
    "ExecuteTime": {
     "end_time": "2020-08-02T06:44:36.791020Z",
     "start_time": "2020-08-02T06:44:32.978199Z"
    }
   },
   "outputs": [
    {
     "data": {
      "text/plain": [
       "<matplotlib.legend.Legend at 0x7f4f88f9f780>"
      ]
     },
     "execution_count": 27,
     "metadata": {},
     "output_type": "execute_result"
    },
    {
     "data": {
      "image/png": "[encoded data removed]",
      "text/plain": [
       "<Figure size 432x288 with 1 Axes>"
      ]
     },
     "metadata": {
      "needs_background": "light"
     },
     "output_type": "display_data"
    }
   ],
   "source": [
    "plt.loglog(np.array(error_CSPSA[:]).T, label='CSPSA')\n",
    "plt.loglog(np.array(error_SPSA[:]).T, label='SPSA')\n",
    "plt.loglog(np.array(error_SPSA_ang[:]).T, label='SPSA_ang')\n",
    "plt.legend()"
   ]
  },
  {
   "cell_type": "code",
   "execution_count": 28,
   "metadata": {
    "ExecuteTime": {
     "end_time": "2020-08-02T06:44:37.344100Z",
     "start_time": "2020-08-02T06:44:36.801906Z"
    }
   },
   "outputs": [
    {
     "data": {
      "text/plain": [
       "<matplotlib.legend.Legend at 0x7f4f88cb8ba8>"
      ]
     },
     "execution_count": 28,
     "metadata": {},
     "output_type": "execute_result"
    },
    {
     "data": {
      "image/png": "[encoded data removed]",
      "text/plain": [
       "<Figure size 432x288 with 1 Axes>"
      ]
     },
     "metadata": {
      "needs_background": "light"
     },
     "output_type": "display_data"
    }
   ],
   "source": [
    "plt.plot(np.array(Result_CSPSA[:]).T,label='CSPSA')\n",
    "plt.plot(np.array(Result_SPSA[:]).T, label='SPSA')\n",
    "plt.plot(np.array(Result_SPSA_ang[:]).T, label='SPSA_ang')\n",
    "\n",
    "#plt.xlim(0,90)\n",
    "#plt.ylim(-6.5,-4)\n",
    "plt.legend()"
   ]
  },
  {
   "cell_type": "code",
   "execution_count": 29,
   "metadata": {
    "ExecuteTime": {
     "end_time": "2020-08-02T06:44:37.533359Z",
     "start_time": "2020-08-02T06:44:37.355359Z"
    },
    "scrolled": true
   },
   "outputs": [],
   "source": [
    "#np.savetxt('prueba.txt', Result_SPSA, delimiter=',')\n",
    "#print(Result_SPSA)"
   ]
  },
  {
   "cell_type": "code",
   "execution_count": 30,
   "metadata": {
    "ExecuteTime": {
     "end_time": "2020-08-02T06:44:37.662626Z",
     "start_time": "2020-08-02T06:44:37.540009Z"
    }
   },
   "outputs": [],
   "source": [
    "#np.savetxt('prueba.txt', Result_CSPSA, delimiter=',')\n",
    "#print(Result_CSPSA)"
   ]
  },
  {
   "cell_type": "code",
   "execution_count": 31,
   "metadata": {
    "ExecuteTime": {
     "end_time": "2020-08-02T06:44:39.618537Z",
     "start_time": "2020-08-02T06:44:37.666273Z"
    }
   },
   "outputs": [],
   "source": [
    "#np.savetxt('prueba.txt', Result_SPSA_ang, delimiter=',')\n",
    "#print(Result_SPSA_ang)"
   ]
  }
 ],
 "metadata": {
  "kernelspec": {
   "display_name": "Python 3",
   "language": "python",
   "name": "python3"
  },
  "language_info": {
   "codemirror_mode": {
    "name": "ipython",
    "version": 3
   },
   "file_extension": ".py",
   "mimetype": "text/x-python",
   "name": "python",
   "nbconvert_exporter": "python",
   "pygments_lexer": "ipython3",
   "version": "3.6.10"
  }
 },
 "nbformat": 4,
 "nbformat_minor": 4
}
