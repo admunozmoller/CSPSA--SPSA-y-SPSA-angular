{
 "cells": [
  {
   "cell_type": "code",
   "execution_count": 3,
   "metadata": {
    "ExecuteTime": {
     "end_time": "2020-09-07T01:36:37.265716Z",
     "start_time": "2020-09-07T01:36:36.658761Z"
    }
   },
   "outputs": [],
   "source": [
    "import numpy as np\n",
    "import matplotlib.pyplot as plt\n",
    "%matplotlib inline"
   ]
  },
  {
   "cell_type": "code",
   "execution_count": 4,
   "metadata": {
    "ExecuteTime": {
     "end_time": "2020-09-07T01:36:37.809076Z",
     "start_time": "2020-09-07T01:36:37.277912Z"
    }
   },
   "outputs": [],
   "source": [
    "def CSPSA(psi_est, NU_IT, fun, teo_val, s, t, a, A, b):\n",
    "    \"\"\"\n",
    "    CSPSA\n",
    "    IN\n",
    "        psi_est: estado inicial\n",
    "        NU_IT: numero de iteraciones\n",
    "        fun: funcion a optimizar\n",
    "        teo_val: valor teorico\n",
    "        s, t, a, A, b: parametros CSPSA\n",
    "    OUT\n",
    "        valor_optimo: valor optimo de la funcion en la iteracion k\n",
    "        psi: estado resultante en la iteracion k\n",
    "        error: valor absoluto entre valor teorioco y valor optimo en la iteracion k\n",
    "    \"\"\"\n",
    "\n",
    "    n_par = int(psi_est.size/psi_est.shape[0])\n",
    "    dim = int(psi_est.shape[0])\n",
    "    \n",
    "    valor_optimo = np.zeros((n_par, NU_IT))\n",
    "    valor_optimo[:,0] = fun(psi_est)\n",
    "    \n",
    "    error = np.zeros((n_par, NU_IT))\n",
    "    error[:,0] = abs(fun(psi_est)-teo_val)\n",
    "    \n",
    "    \n",
    "    psi_optimo = np.zeros((NU_IT,dim,n_par), dtype='c16')\n",
    "    psi_optimo[0,:,:] = psi_est\n",
    "\n",
    "    for k in range(0,NU_IT-1):\n",
    "        valor_optimo[:,k+1], error[:,k+1], psi_est = (itCSPSA(psi_est/np.linalg.norm(psi_est, axis = 0),\n",
    "                                       k, s, t, a, A, b, fun, teo_val))\n",
    "        psi_optimo[k+1,:,:] = psi_est\n",
    "    return valor_optimo, error, psi_optimo"
   ]
  },
  {
   "cell_type": "code",
   "execution_count": 5,
   "metadata": {
    "ExecuteTime": {
     "end_time": "2020-09-07T01:36:37.895770Z",
     "start_time": "2020-09-07T01:36:37.812474Z"
    }
   },
   "outputs": [],
   "source": [
    "def itCSPSA(z_k,  k, s, t, a, A, b, fun, teo_val):\n",
    "    \"\"\"iteracion de CSPSA\n",
    "    IN\n",
    "        z_k: dim x n_rep. Cada columna es un estimador de dimension dim.\n",
    "        k: iteracion\n",
    "        s, t, a, A, b: parametros CSPSA\n",
    "        fun: funcion a optimizar\n",
    "        teo_val: valor teorico\n",
    "    OUT\n",
    "        z_k: dim x n_rep. Estimador actualizado\n",
    "        z_value: real. valor de fun en el estimador z_k\n",
    "        error:\n",
    "    \"\"\"\n",
    "    dim = z_k.shape[0]\n",
    "    rep = int(z_k.size/z_k.shape[0])\n",
    "    \n",
    "    alpha = a/(k+1+A)**s\n",
    "    beta = b/(k+1)**t\n",
    "    delta = (1j)**(np.random.randint(1,5,(dim, rep))).reshape(2,rep)\n",
    "    \n",
    "    z_k_mas = z_k + beta*delta\n",
    "    z_k_menos = z_k - beta*delta\n",
    "    \n",
    "    fun_k_mas = fun(z_k_mas)\n",
    "    fun_k_menos = fun(z_k_menos)\n",
    "    \n",
    "    grad = np.divide(fun_k_mas - fun_k_menos, 2*beta*delta.conj())\n",
    "    \n",
    "    z_k = z_k - alpha*grad\n",
    "    z_value = fun(z_k)\n",
    "    \n",
    "    error = abs(z_value-teo_val)\n",
    "    return z_value, error, z_k"
   ]
  },
  {
   "cell_type": "code",
   "execution_count": 6,
   "metadata": {
    "ExecuteTime": {
     "end_time": "2020-09-07T01:36:38.191562Z",
     "start_time": "2020-09-07T01:36:38.168770Z"
    }
   },
   "outputs": [],
   "source": [
    "def ganancia_a_CSPSA(z_k, l, fun, t, b):\n",
    "    \n",
    "    \n",
    "    dim = z_k.shape[0]\n",
    "    rep = int(z_k.size/z_k.shape[0])\n",
    "    beta = b/(1)**t\n",
    "    diff = np.empty((l,1,1), dtype=np.single)\n",
    "    \n",
    "    for i in range(0,l):\n",
    "    \n",
    "        delta = (1j)**(np.random.randint(1,5,(dim, rep))).reshape(2,rep)\n",
    "        z_k_mas = z_k + beta*delta\n",
    "        z_k_menos = z_k - beta*delta\n",
    "        \n",
    "        fun_k_mas = fun(z_k_mas)\n",
    "        fun_k_menos = fun(z_k_menos)\n",
    "        \n",
    "        diff[i] = abs(fun_k_mas-fun_k_menos)    \n",
    "        \n",
    "    prom = np.sum(diff, axis=0)/l\n",
    "    \n",
    "    a_arr = np.divide(2*np.pi*b, 5*prom)\n",
    "    a_CSPSA = float(a_arr[0])\n",
    "    \n",
    "    return a_CSPSA"
   ]
  },
  {
   "cell_type": "code",
   "execution_count": 7,
   "metadata": {
    "ExecuteTime": {
     "end_time": "2020-09-07T01:36:38.666013Z",
     "start_time": "2020-09-07T01:36:38.645835Z"
    }
   },
   "outputs": [],
   "source": [
    "def opt_CSPSA(psi_est, NU_IT, fun, teo_val, s, t, A, b):\n",
    "    \"\"\"\n",
    "    CSPSA\n",
    "    IN\n",
    "        psi_est: estado inicial\n",
    "        nu_ite: numero de iteraciones\n",
    "        fun: funcion a optimizar\n",
    "        s, t, a, A, b: parametros CSPSA\n",
    "    OUT\n",
    "        valor_optimo: valor optimo de la funcion en la iteracion k\n",
    "        psi: estado resultante en la iteracion k\n",
    "        error: valor absoluto entre valor teorioco y valor optimo en la iteracion k\n",
    "    \"\"\"\n",
    "\n",
    "    a = ganancia_a_CSPSA(psi_est, 25, fun, t, b)\n",
    "    \n",
    "    \n",
    "    n_par = int(psi_est.size/psi_est.shape[0])\n",
    "    dim = int(psi_est.shape[0])\n",
    "    \n",
    "    valor_optimo = np.zeros((n_par, NU_IT))\n",
    "    valor_optimo[:,0] = fun(psi_est)\n",
    "    \n",
    "    error = np.zeros((n_par, NU_IT))\n",
    "    error[:,0] = abs(fun(psi_est)-teo_val)\n",
    "    \n",
    "    \n",
    "    psi_optimo = np.zeros((NU_IT,dim,n_par), dtype='c16')\n",
    "    psi_optimo[0,:,:] = psi_est\n",
    "\n",
    "    for k in range(0,NU_IT-1):\n",
    "        valor_optimo[:,k+1], error[:,k+1], psi_est = (itCSPSA(psi_est/np.linalg.norm(psi_est, axis = 0),\n",
    "                                       k, s, t, a, A, b, fun, teo_val))\n",
    "        psi_optimo[k+1,:,:] = psi_est\n",
    "    return valor_optimo, error, psi_optimo"
   ]
  },
  {
   "cell_type": "code",
   "execution_count": null,
   "metadata": {},
   "outputs": [],
   "source": []
  }
 ],
 "metadata": {
  "kernelspec": {
   "display_name": "Python 3",
   "language": "python",
   "name": "python3"
  },
  "language_info": {
   "codemirror_mode": {
    "name": "ipython",
    "version": 3
   },
   "file_extension": ".py",
   "mimetype": "text/x-python",
   "name": "python",
   "nbconvert_exporter": "python",
   "pygments_lexer": "ipython3",
   "version": "3.6.10"
  }
 },
 "nbformat": 4,
 "nbformat_minor": 4
}
