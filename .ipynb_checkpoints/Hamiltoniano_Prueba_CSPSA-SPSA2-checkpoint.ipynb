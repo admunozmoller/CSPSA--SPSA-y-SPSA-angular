{
 "cells": [
  {
   "cell_type": "code",
   "execution_count": 1,
   "metadata": {},
   "outputs": [],
   "source": [
    "import numpy as np\n",
    "import matplotlib.pyplot as plt\n",
    "%matplotlib inline"
   ]
  },
  {
   "cell_type": "code",
   "execution_count": 2,
   "metadata": {},
   "outputs": [],
   "source": [
    "def CSPSA(psi_est, nu_ite, fun_teor, fun,\n",
    "          s=1, t=1/6, a=3, A=1, b = 0.1 ):\n",
    "    \"\"\"\n",
    "    CSPSA\n",
    "    IN\n",
    "        psi_est: dim x n_par matrix. dim is de dimension of each vector, and n_par\n",
    "                the number of guesses in parallel.\n",
    "        nu_ite: int. Number of iterations of CSPSA.\n",
    "        fun_teor: function. It is the known function, for example, the theoretical\n",
    "                 fidelity between the unknown state of the system and the guess.\n",
    "        fun: function. CSPSA uses this function for the optimization.\n",
    "        s, t, a, A, b: parametros CSPSA\n",
    "    OUT\n",
    "        valor_optimo: real. Optimal value of fun finded by CSPSA.\n",
    "    \"\"\"\n",
    "\n",
    "    n_par = int(psi_est.size/psi_est.shape[0])\n",
    "    valor_optimo = np.zeros((n_par, nu_ite))\n",
    "    valor_optimo[:,0] = fun_teor(psi_est)\n",
    "\n",
    "    for k in range(0,nu_ite-1):\n",
    "        valor_optimo[:,k+1], psi_est = (itCSPSA(psi_est/np.linalg.norm(psi_est, axis = 0),\n",
    "                                       k, s, t, a, A, b, fun, fun_teor ))\n",
    "\n",
    "\n",
    "    return valor_optimo"
   ]
  },
  {
   "cell_type": "code",
   "execution_count": 3,
   "metadata": {},
   "outputs": [],
   "source": [
    "def itCSPSA(z_k,  k, s, t, a, A, b, fun, fun_teor):\n",
    "    \"\"\"iteracion de CSPSA\n",
    "    IN\n",
    "        z_k: dim x n_rep. Cada columna es un estimador de dimension dim.\n",
    "        k: iteracion\n",
    "        s, t, a, A, b: parametros CSPSA\n",
    "        fun: funcion a optimizar\n",
    "    OUT\n",
    "        z_k: dim x n_rep. Estimador actualizado\n",
    "        z_value: real. valor de fun en el estimador z_k\n",
    "    \"\"\"\n",
    "    dim = z_k.shape[0]\n",
    "    rep = int(z_k.size/z_k.shape[0])\n",
    "    alpha = a/(k+1+A)**s\n",
    "    beta = b/(k+1)**t\n",
    "    delta = (1j)**(np.random.randint(1,5,(dim, rep))).reshape(2,rep)\n",
    "    z_k_mas = z_k + beta*delta\n",
    "    z_k_menos = z_k - beta*delta\n",
    "    fun_k_mas = fun(z_k_mas)\n",
    "    fun_k_menos = fun(z_k_menos)\n",
    "    grad = np.divide(fun_k_mas - fun_k_menos, 2*beta*delta.conj())\n",
    "    z_k = z_k - alpha*grad\n",
    "    z_value = fun_teor(z_k)\n",
    "    return z_value, z_k"
   ]
  },
  {
   "cell_type": "code",
   "execution_count": 4,
   "metadata": {},
   "outputs": [],
   "source": [
    "def SPSA(psi_est, nu_ite, fun_teor, fun,\n",
    "          s=1, t=1/6, a=3, A=1, b = 0.1 ):\n",
    "    \"\"\"\n",
    "    SPSA\n",
    "    IN\n",
    "        psi_est: dim x n_par matrix. dim is de dimension of each vector, and n_par\n",
    "                the number of guesses in parallel.\n",
    "        nu_ite: int. Number of iterations of SPSA.\n",
    "        fun_teor: function. It is the known function, for example, the theoretical\n",
    "                 fidelity between the unknown state of the system and the guess.\n",
    "        fun: function. SPSA uses this function for the optimization.\n",
    "        s, t, a, A, b: parametros SPSA\n",
    "    OUT\n",
    "        valor_optimo: real. Optimal value of fun finded by SPSA.\n",
    "    \"\"\"\n",
    "\n",
    "    n_par = int(psi_est.size/psi_est.shape[0])\n",
    "    valor_optimo = np.zeros((n_par, nu_ite))\n",
    "    valor_optimo[:,0] = fun_teor(psi_est)\n",
    "\n",
    "    for k in range(0,nu_ite-1):\n",
    "        valor_optimo[:,k+1], psi_est = (itSPSA(psi_est/np.linalg.norm(psi_est, axis = 0),\n",
    "                                       k, s, t, a, A, b, fun, fun_teor ))\n",
    "\n",
    "\n",
    "    return valor_optimo"
   ]
  },
  {
   "cell_type": "code",
   "execution_count": 5,
   "metadata": {},
   "outputs": [],
   "source": [
    "def itSPSA(z_k,  k, s, t, a, A, b, fun, fun_teor):\n",
    "    \"\"\"iteracion de SPSA\n",
    "    IN\n",
    "        z_k: dim x n_rep. Cada columna es un estimador de dimension dim.\n",
    "        k: iteracion\n",
    "        s, t, a, A, b: parametros SPSA\n",
    "        fun: funcion a optimizar\n",
    "    OUT\n",
    "        z_k: dim x n_rep. Estimador actualizado\n",
    "        z_value: real. valor de fun en el estimador z_k\n",
    "    \"\"\"\n",
    "    dim = z_k.shape[0]\n",
    "    rep = int(z_k.size/z_k.shape[0])\n",
    "    alpha = a/(k+1+A)**s\n",
    "    beta = b/(k+1)**t\n",
    "    \n",
    "    #Cambiamos un delta complejo por uno real (+1,-1)\n",
    "    \n",
    "    delta = (-1)**(np.random.randint(1,5,(dim, rep))).reshape(2,rep)\n",
    "    delta_i = (-1)**(np.random.randint(1,5,(dim, rep))).reshape(2,rep)\n",
    "    \n",
    "    #Definimos parte real e imaginaria\n",
    "    \n",
    "    z_k_mas_r = np.real(z_k) + beta*delta\n",
    "    z_k_menos_r = np.real(z_k) - beta*delta\n",
    "    \n",
    "    z_k_mas_i = np.imag(z_k) + beta*delta_i\n",
    "    z_k_menos_i = np.imag(z_k) - beta*delta_i\n",
    "    \n",
    "\n",
    "    #Nuevo estado, normalizado\n",
    "    \n",
    "    z_k_mas = z_k_mas_r +1j*z_k_mas_i\n",
    "    z_k_menos = z_k_menos_r+1j*z_k_menos_i\n",
    "    \n",
    "    z_k_mas = z_k_mas/np.linalg.norm(z_k_mas, axis=0)\n",
    "    z_k_menos = z_k_menos/np.linalg.norm(z_k_menos, axis=0)\n",
    "    \n",
    "    fun_k_mas = fun(z_k_mas)\n",
    "    fun_k_menos = fun(z_k_menos)\n",
    "    \n",
    "    #Gradiente real e imaginaria\n",
    "    \n",
    "    grad = np.divide(fun_k_mas - fun_k_menos, 2*beta*delta)\n",
    "    grad_i = np.divide(fun_k_mas - fun_k_menos, 2*beta*delta_i)\n",
    "    \n",
    "    z_k = z_k - alpha*grad - 1j*alpha*grad_i\n",
    "    z_k = z_k/np.linalg.norm(z_k, axis=0)\n",
    "    \n",
    "    z_value = fun_teor(z_k)\n",
    "    return z_value, z_k"
   ]
  },
  {
   "cell_type": "code",
   "execution_count": 6,
   "metadata": {},
   "outputs": [],
   "source": [
    "\n",
    "def SPSA2(psi_est, nu_ite, fun_teor, fun,\n",
    "          s=1, t=1/6, a=3, A=1, b = 0.1 ):\n",
    "    \"\"\"\n",
    "    SPSA\n",
    "    IN\n",
    "        psi_est: dim x n_par matrix. dim is de dimension of each vector, and n_par\n",
    "                the number of guesses in parallel.\n",
    "        nu_ite: int. Number of iterations of CSPSA.\n",
    "        fun_teor: function. It is the known function, for example, the theoretical\n",
    "                 fidelity between the unknown state of the system and the guess.\n",
    "        fun: function. CSPSA uses this function for the optimization.\n",
    "        s, t, a, A, b: parametros CSPSA\n",
    "    OUT\n",
    "        valor_optimo: real. Optimal value of fun finded by CSPSA.\n",
    "    \"\"\"\n",
    "\n",
    "    n_par = int(psi_est.size/psi_est.shape[0])\n",
    "    valor_optimo = np.zeros((n_par, nu_ite))\n",
    "    valor_optimo[:,0] = fun_teor(psi_est)\n",
    "\n",
    "    for k in range(0,nu_ite-1):\n",
    "        valor_optimo[:,k+1], psi_est = (itSPSA2(psi_est/np.linalg.norm(psi_est, axis = 0),\n",
    "                                       k, s, t, a, A, b, fun, fun_teor ))\n",
    "\n",
    "\n",
    "    return valor_optimo"
   ]
  },
  {
   "cell_type": "code",
   "execution_count": 7,
   "metadata": {},
   "outputs": [],
   "source": [
    "def itSPSA2(z_k,  k, s, t, a, A, b, fun, fun_teor):\n",
    "    \"\"\"iteracion de CSPSA\n",
    "    IN\n",
    "        z_k: dim x n_rep. Cada columna es un estimador de dimension dim.\n",
    "        k: iteracion\n",
    "        s, t, a, A, b: parametros CSPSA\n",
    "        fun: funcion a optimizar\n",
    "    OUT\n",
    "        z_k: dim x n_rep. Estimador actualizado\n",
    "        z_value: real. valor de fun en el estimador z_k\n",
    "    \"\"\"\n",
    "    # convertimos el estado complejo en un vector real\n",
    "    z_k = estado2vec(z_k)\n",
    "    #\n",
    "    dim = z_k.shape[0]\n",
    "    rep = int(z_k.size/z_k.shape[0])\n",
    "    alpha = a/(k+1+A)**s\n",
    "    beta = b/(k+1)**t\n",
    "    delta = (-1)**(np.random.randint(1,5,(dim, rep)))\n",
    "    z_k_mas = z_k + beta*delta\n",
    "    z_k_menos = z_k - beta*delta\n",
    "    # volvemos al estado complejo al evaluar la funcion\n",
    "    fun_k_mas = fun(vec2estado(z_k_mas))\n",
    "    fun_k_menos = fun(vec2estado(z_k_menos))\n",
    "    grad = np.divide(fun_k_mas - fun_k_menos, 2*beta*delta.conj())\n",
    "    z_k = z_k - alpha*grad\n",
    "    z_value = fun_teor(vec2estado(z_k))\n",
    "    z_k = vec2estado(z_k)\n",
    "    return z_value, z_k"
   ]
  },
  {
   "cell_type": "code",
   "execution_count": 8,
   "metadata": {},
   "outputs": [],
   "source": [
    "def estado2vec(z_k):\n",
    "    \"\"\"iteracion de CSPSA\n",
    "    IN\n",
    "        z_k: dim x n_rep. Cada columna es un estimador de dimension dim.\n",
    "    OUT\n",
    "        z_k_vec: 2 dim x n_rep. Estimador actualizado\n",
    "    \"\"\"\n",
    "    dim = z_k.shape[0]\n",
    "    n_rep = z_k.shape[1]\n",
    "    z_k_vec = np.zeros((2*dim, n_rep))\n",
    "    z_k_vec[:dim, :] = np.real(z_k)\n",
    "    z_k_vec[dim:, :] = np.imag(z_k)\n",
    "    return z_k_vec\n",
    "\n",
    "def vec2estado(z_k_vec):\n",
    "    \"\"\"iteracion de CSPSA\n",
    "    IN\n",
    "        z_k_vec: 2 dim x n_rep. Estimador actualizado\n",
    "    OUT\n",
    "        z_k: dim x n_rep. Cada columna es un estimador de dimension dim.\n",
    "    \"\"\"\n",
    "    dim2 = z_k_vec.shape[0]\n",
    "    n_rep = z_k_vec.shape[1]\n",
    "    z_k = z_k_vec[:int(dim2/2), :] + z_k_vec[int(dim2/2):, :]*1j \n",
    "    return z_k/np.linalg.norm(z_k, axis=0)"
   ]
  },
  {
   "cell_type": "code",
   "execution_count": 9,
   "metadata": {},
   "outputs": [],
   "source": [
    "# Definir Estado\n",
    "\n",
    "def estado(dim, n_par):\n",
    "    psi = (np.random.normal(loc=0.0, scale=1.0,\n",
    "           size=(dim, n_par))\n",
    "           + np.random.normal(loc=0.0, scale=1.0,\n",
    "           size=(dim, n_par))*1j)\n",
    "    psi = psi/np.linalg.norm(psi, axis=0)\n",
    "    return psi"
   ]
  },
  {
   "cell_type": "code",
   "execution_count": 10,
   "metadata": {},
   "outputs": [],
   "source": [
    "# Definir Hamiltoniano\n",
    "\n",
    "def H_paul (A,B,C):\n",
    "    pauli_x = np.array((((0, 1), (1, 0))))\n",
    "    pauli_y = np.array((((0, -1j), (1j, 0))))\n",
    "    pauli_z = np.array((((1, 0), (0, -1))))\n",
    "    H_paul = A*pauli_x + B*pauli_y + C*pauli_z\n",
    "    return H_paul"
   ]
  },
  {
   "cell_type": "code",
   "execution_count": 11,
   "metadata": {},
   "outputs": [],
   "source": [
    "# Definir Valor de expectacion\n",
    "\n",
    "def exp_H (psi_est, H):\n",
    "    psi = np.matrix(psi_est)\n",
    "    psi = psi/np.linalg.norm(psi, axis=0)\n",
    "    psi_dagger = psi.getH()\n",
    "    H = np.matrix(H)\n",
    "    exp_H = psi_dagger*H*psi\n",
    "    return exp_H"
   ]
  },
  {
   "cell_type": "code",
   "execution_count": 12,
   "metadata": {},
   "outputs": [],
   "source": [
    "d = 2\n",
    "nu_par = 1\n",
    "NU_ITERACIONES = 300\n",
    "\n",
    "#A = np.sqrt(0.3)\n",
    "#B = np.sqrt(0.2)\n",
    "#C = np.sqrt(0.5)\n",
    "A = 1\n",
    "B = 3\n",
    "C = 5"
   ]
  },
  {
   "cell_type": "code",
   "execution_count": 13,
   "metadata": {},
   "outputs": [],
   "source": [
    "psi_est = estado(d,nu_par)\n"
   ]
  },
  {
   "cell_type": "code",
   "execution_count": 14,
   "metadata": {
    "scrolled": true
   },
   "outputs": [],
   "source": [
    "H = H_paul(A,B,C)\n"
   ]
  },
  {
   "cell_type": "code",
   "execution_count": 15,
   "metadata": {},
   "outputs": [],
   "source": [
    "fun = lambda x : exp_H(x, H)\n"
   ]
  },
  {
   "cell_type": "code",
   "execution_count": 16,
   "metadata": {},
   "outputs": [
    {
     "name": "stdout",
     "output_type": "stream",
     "text": [
      "-5.916079783099616\n"
     ]
    }
   ],
   "source": [
    "# Ground-state Teórico\n",
    "\n",
    "E = A**2 + B**2 + C**2\n",
    "\n",
    "const1 = np.sqrt(1/2) * np.sqrt((A**2+B**2)/(E-C*(np.sqrt(E))))\n",
    "const2 = (C-np.sqrt(E))/(A+1j*B)\n",
    "\n",
    "#psi_teo = const1*np.matrix([[const2], [1]])\n",
    "#fun(psi_teo)\n",
    "\n",
    "Ground_teo = -(np.sqrt(A**2 + B**2 + C**2))\n",
    "print(Ground_teo)"
   ]
  },
  {
   "cell_type": "code",
   "execution_count": 17,
   "metadata": {
    "scrolled": true
   },
   "outputs": [
    {
     "name": "stderr",
     "output_type": "stream",
     "text": [
      "/home/dmunoz/anaconda3/lib/python3.6/site-packages/ipykernel_launcher.py:19: ComplexWarning: Casting complex values to real discards the imaginary part\n",
      "/home/dmunoz/anaconda3/lib/python3.6/site-packages/ipykernel_launcher.py:23: ComplexWarning: Casting complex values to real discards the imaginary part\n"
     ]
    }
   ],
   "source": [
    "Result_CSPSA = CSPSA(psi_est, NU_ITERACIONES, fun, fun)"
   ]
  },
  {
   "cell_type": "code",
   "execution_count": 18,
   "metadata": {},
   "outputs": [
    {
     "name": "stderr",
     "output_type": "stream",
     "text": [
      "/home/dmunoz/anaconda3/lib/python3.6/site-packages/ipykernel_launcher.py:19: ComplexWarning: Casting complex values to real discards the imaginary part\n",
      "/home/dmunoz/anaconda3/lib/python3.6/site-packages/ipykernel_launcher.py:23: ComplexWarning: Casting complex values to real discards the imaginary part\n"
     ]
    }
   ],
   "source": [
    "Result_SPSA = SPSA(psi_est, NU_ITERACIONES, fun, fun)"
   ]
  },
  {
   "cell_type": "code",
   "execution_count": 19,
   "metadata": {},
   "outputs": [
    {
     "name": "stderr",
     "output_type": "stream",
     "text": [
      "/home/dmunoz/anaconda3/lib/python3.6/site-packages/ipykernel_launcher.py:19: ComplexWarning: Casting complex values to real discards the imaginary part\n",
      "/home/dmunoz/anaconda3/lib/python3.6/site-packages/ipykernel_launcher.py:23: ComplexWarning: Casting complex values to real discards the imaginary part\n"
     ]
    }
   ],
   "source": [
    "Result_SPSA2 = SPSA2(psi_est, NU_ITERACIONES, fun, fun)"
   ]
  },
  {
   "cell_type": "code",
   "execution_count": 20,
   "metadata": {
    "scrolled": true
   },
   "outputs": [],
   "source": [
    "error_CSPSA = abs(Result_CSPSA - Ground_teo)\n",
    "error_SPSA = abs(Result_SPSA - Ground_teo)\n",
    "error_SPSA2 = abs(Result_SPSA2 - Ground_teo)"
   ]
  },
  {
   "cell_type": "code",
   "execution_count": 21,
   "metadata": {},
   "outputs": [
    {
     "data": {
      "text/plain": [
       "[<matplotlib.lines.Line2D at 0x7f8408195f28>]"
      ]
     },
     "execution_count": 21,
     "metadata": {},
     "output_type": "execute_result"
    },
    {
     "data": {
      "image/png": "[encoded data removed]",
      "text/plain": [
       "<Figure size 432x288 with 1 Axes>"
      ]
     },
     "metadata": {
      "needs_background": "light"
     },
     "output_type": "display_data"
    }
   ],
   "source": [
    "#plt.plot(np.array(error_CSPSA[:]).T)\n",
    "plt.loglog(np.array(error_CSPSA[:]).T)\n",
    "\n",
    "#plt.plot(np.array(Result_CSPSA[:]).T)\n",
    "#plt.loglog(np.array(Result_CSPSA[:]).T)"
   ]
  },
  {
   "cell_type": "code",
   "execution_count": 22,
   "metadata": {},
   "outputs": [
    {
     "data": {
      "text/plain": [
       "[<matplotlib.lines.Line2D at 0x7f83fa789ac8>]"
      ]
     },
     "execution_count": 22,
     "metadata": {},
     "output_type": "execute_result"
    },
    {
     "data": {
      "image/png": "[encoded data removed]",
      "text/plain": [
       "<Figure size 432x288 with 1 Axes>"
      ]
     },
     "metadata": {
      "needs_background": "light"
     },
     "output_type": "display_data"
    }
   ],
   "source": [
    "#plt.plot(np.array(error_SPSA[:]).T)\n",
    "plt.loglog(np.array(error_SPSA[:]).T)\n",
    "\n",
    "#plt.plot(np.array(Result_SPSA[:]).T)\n",
    "#plt.loglog(np.array(Result_SPSA[:]).T)"
   ]
  },
  {
   "cell_type": "code",
   "execution_count": 29,
   "metadata": {},
   "outputs": [
    {
     "data": {
      "text/plain": [
       "[<matplotlib.lines.Line2D at 0x7f83fa34fa58>]"
      ]
     },
     "execution_count": 29,
     "metadata": {},
     "output_type": "execute_result"
    },
    {
     "data": {
      "image/png": "[encoded data removed]",
      "text/plain": [
       "<Figure size 432x288 with 1 Axes>"
      ]
     },
     "metadata": {
      "needs_background": "light"
     },
     "output_type": "display_data"
    }
   ],
   "source": [
    "#plt.plot(np.array(error_SPSA2[:]).T)\n",
    "plt.loglog(np.array(error_SPSA2[:]).T)\n",
    "\n",
    "#plt.plot(np.array(Result_SPSA2[:]).T)\n",
    "#plt.loglog(np.array(Result_SPSA2[:]).T)"
   ]
  },
  {
   "cell_type": "code",
   "execution_count": 32,
   "metadata": {},
   "outputs": [
    {
     "data": {
      "text/plain": [
       "<matplotlib.legend.Legend at 0x7f83fa4cc278>"
      ]
     },
     "execution_count": 32,
     "metadata": {},
     "output_type": "execute_result"
    },
    {
     "data": {
      "image/png": "[encoded data removed]",
      "text/plain": [
       "<Figure size 432x288 with 1 Axes>"
      ]
     },
     "metadata": {
      "needs_background": "light"
     },
     "output_type": "display_data"
    }
   ],
   "source": [
    "plt.plot(np.array(Result_SPSA[:]).T, label='SPSA')\n",
    "plt.plot(np.array(Result_CSPSA[:]).T,label='CSPSA')\n",
    "plt.plot(np.array(Result_SPSA2[:]).T,label='SPSA2')\n",
    "plt.xlim(0,100)\n",
    "plt.legend()"
   ]
  },
  {
   "cell_type": "code",
   "execution_count": 25,
   "metadata": {},
   "outputs": [
    {
     "name": "stdout",
     "output_type": "stream",
     "text": [
      "[[-1.76899622 -1.17680515 -3.48076756  0.92603628  2.67452614 -3.21868489\n",
      "  -1.84806725 -3.46464352 -3.52988951 -3.92948644  1.95818389 -3.42374452\n",
      "  -3.69638585  1.14904502  0.32030954  0.31992957  0.33544956  0.28238906\n",
      "  -4.8500286   3.86737861  1.53454503 -1.87169076 -1.31387533 -2.02002623\n",
      "  -2.80322393  0.69799721 -3.75636787 -3.75613694 -5.15698309 -4.1976928\n",
      "  -4.94482822 -4.40934372  1.57698831 -1.13677628 -4.75536613 -4.80642729\n",
      "   0.8981863  -5.84332233 -5.85581911 -5.87082721 -5.67589216 -4.77184047\n",
      "  -1.11306802 -4.17507689 -2.69780106 -2.90950855 -2.08340697 -3.59244066\n",
      "  -3.35574703 -0.8895933  -3.90897873 -5.30272276 -5.40162937 -5.40400085\n",
      "  -5.40159181 -5.54947309 -4.34662097 -4.07120885 -4.87233647 -4.60564198\n",
      "  -4.11394758 -2.40529657 -4.43125178 -4.43879405 -5.21226571 -4.89264121\n",
      "  -5.54985893 -5.67551701 -5.81559653 -5.82591037 -5.82771722 -5.91408903\n",
      "  -5.91552631 -5.91284921 -5.91301047 -5.91349733 -5.91438707 -5.91403738\n",
      "  -5.91299858 -5.91402572 -5.90452541 -5.91346387 -5.91492082 -5.91345873\n",
      "  -5.91411963 -5.91568471 -5.91551315 -5.91574461 -5.91586892 -5.91586743\n",
      "  -5.91606814 -5.91607344 -5.91538342 -5.91498333 -5.91575785 -5.9159614\n",
      "  -5.9160333  -5.91603879 -5.91606066 -5.9160546  -5.91546035 -5.9154322\n",
      "  -5.9154709  -5.91572315 -5.9156452  -5.91567106 -5.91571448 -5.91572288\n",
      "  -5.91571715 -5.91437819 -5.91438449 -5.91525294 -5.91532086 -5.91547919\n",
      "  -5.91566956 -5.91566912 -5.91568392 -5.91597411 -5.91596179 -5.91604283\n",
      "  -5.91569193 -5.91601576 -5.91604437 -5.91598969 -5.91601816 -5.9159677\n",
      "  -5.91598625 -5.91594059 -5.9160609  -5.91601379 -5.91601971 -5.91598398\n",
      "  -5.91598243 -5.91585265 -5.91598756 -5.91600977 -5.915591   -5.91539557\n",
      "  -5.91550498 -5.91602347 -5.91602972 -5.91591803 -5.91601594 -5.91598302\n",
      "  -5.91602265 -5.91605653 -5.91606043 -5.91598688 -5.91596576 -5.91587116\n",
      "  -5.91594409 -5.91592297 -5.91589214 -5.91596227 -5.9159665  -5.91582853\n",
      "  -5.91582723 -5.9160471  -5.91582745 -5.91605781 -5.91606647 -5.91605036\n",
      "  -5.91597109 -5.91594446 -5.91592951 -5.91590012 -5.91589202 -5.91586493\n",
      "  -5.91584589 -5.91605351 -5.91586804 -5.916017   -5.91596136 -5.91596802\n",
      "  -5.91595135 -5.91588975 -5.91604143 -5.91603451 -5.91606222 -5.91606342\n",
      "  -5.91606316 -5.91606262 -5.91596228 -5.91597726 -5.91587902 -5.91605416\n",
      "  -5.91606875 -5.91593094 -5.91595255 -5.91586756 -5.91599041 -5.91603415\n",
      "  -5.91605743 -5.91598885 -5.91591386 -5.91591248 -5.91605839 -5.91597403\n",
      "  -5.91598815 -5.91596132 -5.91594426 -5.91607608 -5.91596638 -5.91591443\n",
      "  -5.91604601 -5.91605376 -5.91600546 -5.91603473 -5.9160739  -5.91607384\n",
      "  -5.91607304 -5.91607368 -5.91603515 -5.91602834 -5.91602781 -5.91602198\n",
      "  -5.91597339 -5.91597182 -5.91588193 -5.91598902 -5.91606631 -5.91606868\n",
      "  -5.91606839 -5.91606835 -5.91602944 -5.91606335 -5.91605473 -5.91601578\n",
      "  -5.9160018  -5.91603051 -5.91604998 -5.91600987 -5.91593995 -5.91597832\n",
      "  -5.91591504 -5.91599464 -5.91595613 -5.91601792 -5.91605198 -5.91601632\n",
      "  -5.91599275 -5.9160754  -5.91607764 -5.91607523 -5.91606898 -5.91606949\n",
      "  -5.91603123 -5.91607709 -5.91603684 -5.9160583  -5.91607042 -5.91606685\n",
      "  -5.91607567 -5.916013   -5.91606148 -5.91600567 -5.91596143 -5.91603427\n",
      "  -5.9160023  -5.91604107 -5.91607107 -5.91607137 -5.91607773 -5.91606815\n",
      "  -5.91602869 -5.91601678 -5.91602461 -5.91601218 -5.91607627 -5.9160459\n",
      "  -5.9160401  -5.91603998 -5.91603907 -5.91605392 -5.91601324 -5.91598847\n",
      "  -5.91597713 -5.91601763 -5.91598917 -5.91597973 -5.91599233 -5.91606174\n",
      "  -5.91607226 -5.91606602 -5.91606541 -5.91607482 -5.91604545 -5.9160782\n",
      "  -5.91607757 -5.91603927 -5.91600302 -5.91602346 -5.91602428 -5.91600742\n",
      "  -5.91605756 -5.91603463 -5.91606467 -5.91606695 -5.91604257 -5.91605039]]\n"
     ]
    }
   ],
   "source": [
    "np.savetxt('prueba.txt', Result_SPSA, delimiter=',')\n",
    "print(Result_SPSA)"
   ]
  },
  {
   "cell_type": "code",
   "execution_count": 26,
   "metadata": {},
   "outputs": [
    {
     "name": "stdout",
     "output_type": "stream",
     "text": [
      "[[-1.76899622 -3.18292854 -1.28191331 -1.69053415 -3.60130403  1.86066418\n",
      "   0.71779058 -1.93766139 -5.21338215 -0.23143496  0.88308986  2.36865299\n",
      "  -5.36665369 -3.21396273 -2.95267091 -3.44738951  0.54801969 -3.83974054\n",
      "  -0.93854713 -3.74876057 -3.1621514  -5.15867726 -2.93561897 -4.52581214\n",
      "  -3.80940915 -4.59613876 -5.84248323 -5.85204222 -5.52393706 -5.16009913\n",
      "  -5.15738423 -4.43915198 -4.53620661 -4.54591311 -4.67775591 -5.04161591\n",
      "  -5.05651259 -5.30081182 -4.37386452 -5.45045122 -5.56194015 -5.60173958\n",
      "  -5.60840668 -5.60752587 -5.87559099 -5.88953324 -5.88840507 -5.8928527\n",
      "  -5.90723004 -5.90731088 -5.91593424 -5.91598253 -5.91597385 -5.91604657\n",
      "  -5.91598201 -5.91600124 -5.91600158 -5.91599482 -5.91607228 -5.91607499\n",
      "  -5.91604408 -5.9160457  -5.91607122 -5.91607787 -5.91607044 -5.91605005\n",
      "  -5.91600697 -5.91604145 -5.91601452 -5.91601812 -5.91596219 -5.91595149\n",
      "  -5.91604934 -5.91604356 -5.91604256 -5.9160636  -5.91604324 -5.91604102\n",
      "  -5.91604068 -5.91605339 -5.91604994 -5.91606848 -5.91606133 -5.9160591\n",
      "  -5.91601271 -5.91604147 -5.91599626 -5.91596391 -5.9160371  -5.91604819\n",
      "  -5.91607853 -5.91607757 -5.91607802 -5.91607704 -5.91607542 -5.91605951\n",
      "  -5.91607609 -5.91606562 -5.91605338 -5.91605297 -5.91605029 -5.91605567\n",
      "  -5.9160559  -5.91603486 -5.91604408 -5.91605752 -5.91607766 -5.91607644\n",
      "  -5.91607069 -5.91607507 -5.91607722 -5.91607762 -5.91606629 -5.91606913\n",
      "  -5.91605973 -5.91606286 -5.91606758 -5.91606725 -5.91604601 -5.91604799\n",
      "  -5.9160444  -5.91603945 -5.91602799 -5.91602331 -5.91603724 -5.91606988\n",
      "  -5.91606526 -5.91607456 -5.91607374 -5.91605832 -5.91606914 -5.91606939\n",
      "  -5.91607008 -5.91606755 -5.91606188 -5.91607334 -5.9160781  -5.91607209\n",
      "  -5.91607161 -5.91607549 -5.91605874 -5.91605776 -5.91607257 -5.91607527\n",
      "  -5.91607867 -5.9160797  -5.91607581 -5.91607233 -5.91606874 -5.91606859\n",
      "  -5.91606876 -5.91606766 -5.91606293 -5.91606265 -5.91607255 -5.91607028\n",
      "  -5.91607619 -5.91607576 -5.91607605 -5.91607409 -5.91607662 -5.91607856\n",
      "  -5.91607485 -5.91607114 -5.91606785 -5.9160729  -5.91606953 -5.91606679\n",
      "  -5.91607546 -5.91607124 -5.91607389 -5.91606986 -5.91606782 -5.91606956\n",
      "  -5.91607924 -5.9160703  -5.91607555 -5.91607308 -5.91607539 -5.91607821\n",
      "  -5.91607638 -5.91607835 -5.91607867 -5.91607644 -5.9160745  -5.91606997\n",
      "  -5.91607477 -5.91607633 -5.9160793  -5.9160789  -5.91607968 -5.91607857\n",
      "  -5.91607709 -5.91607862 -5.91607924 -5.91607779 -5.91607948 -5.91607742\n",
      "  -5.91607539 -5.91607401 -5.91607132 -5.9160687  -5.9160719  -5.91606912\n",
      "  -5.91607107 -5.91606882 -5.91606739 -5.91607931 -5.91607915 -5.91607738\n",
      "  -5.91607698 -5.91607672 -5.91607395 -5.91607139 -5.91606703 -5.91607043\n",
      "  -5.91606524 -5.91606147 -5.9160698  -5.91606771 -5.91607038 -5.91606865\n",
      "  -5.9160643  -5.9160703  -5.91606877 -5.91607092 -5.9160668  -5.91606489\n",
      "  -5.91606313 -5.91606512 -5.91607141 -5.91607385 -5.91607557 -5.91607415\n",
      "  -5.91607194 -5.91607256 -5.91606906 -5.9160668  -5.91607351 -5.91607135\n",
      "  -5.91607388 -5.91607189 -5.91607156 -5.91607671 -5.91607284 -5.9160734\n",
      "  -5.91607209 -5.91607009 -5.91607531 -5.91607327 -5.91607508 -5.91607747\n",
      "  -5.91607837 -5.91607647 -5.91607672 -5.91607474 -5.91607696 -5.91607566\n",
      "  -5.9160796  -5.91607903 -5.91607859 -5.91607877 -5.91607713 -5.91607703\n",
      "  -5.91607554 -5.91607374 -5.9160719  -5.91607033 -5.91606938 -5.91606765\n",
      "  -5.9160682  -5.91606932 -5.91606871 -5.91606866 -5.91606666 -5.91606926\n",
      "  -5.91607701 -5.91607533 -5.91607633 -5.91607464 -5.91607195 -5.91607118\n",
      "  -5.91606813 -5.91607015 -5.91607341 -5.91607331 -5.91607315 -5.91606969\n",
      "  -5.91607147 -5.91607191 -5.9160711  -5.91606955 -5.91606834 -5.91606684\n",
      "  -5.91606742 -5.91606592 -5.91607158 -5.91607365 -5.91607089 -5.91607341]]\n"
     ]
    }
   ],
   "source": [
    "np.savetxt('prueba.txt', Result_CSPSA, delimiter=',')\n",
    "print(Result_CSPSA)"
   ]
  },
  {
   "cell_type": "code",
   "execution_count": 27,
   "metadata": {},
   "outputs": [
    {
     "name": "stdout",
     "output_type": "stream",
     "text": [
      "[[0.60820185+0.23990939j]\n",
      " [0.72590057-0.21354707j]]\n"
     ]
    },
    {
     "data": {
      "text/plain": [
       "matrix([[-1.76899622+0.j]])"
      ]
     },
     "execution_count": 27,
     "metadata": {},
     "output_type": "execute_result"
    }
   ],
   "source": [
    "print(psi_est)\n",
    "fun(psi_est)"
   ]
  },
  {
   "cell_type": "code",
   "execution_count": null,
   "metadata": {},
   "outputs": [],
   "source": []
  }
 ],
 "metadata": {
  "kernelspec": {
   "display_name": "Python 3",
   "language": "python",
   "name": "python3"
  },
  "language_info": {
   "codemirror_mode": {
    "name": "ipython",
    "version": 3
   },
   "file_extension": ".py",
   "mimetype": "text/x-python",
   "name": "python",
   "nbconvert_exporter": "python",
   "pygments_lexer": "ipython3",
   "version": "3.6.10"
  }
 },
 "nbformat": 4,
 "nbformat_minor": 4
}
