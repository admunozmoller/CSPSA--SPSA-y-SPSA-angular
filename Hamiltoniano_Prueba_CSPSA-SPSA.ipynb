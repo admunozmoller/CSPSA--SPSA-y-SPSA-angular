{
 "cells": [
  {
   "cell_type": "code",
   "execution_count": 1,
   "metadata": {},
   "outputs": [],
   "source": [
    "import numpy as np\n",
    "import matplotlib.pyplot as plt\n",
    "%matplotlib inline"
   ]
  },
  {
   "cell_type": "code",
   "execution_count": 2,
   "metadata": {},
   "outputs": [],
   "source": [
    "def CSPSA(psi_est, nu_ite, fun_teor, fun,\n",
    "          s=1, t=1/6, a=3, A=1, b = 0.1 ):\n",
    "    \"\"\"\n",
    "    CSPSA\n",
    "    IN\n",
    "        psi_est: dim x n_par matrix. dim is de dimension of each vector, and n_par\n",
    "                the number of guesses in parallel.\n",
    "        nu_ite: int. Number of iterations of CSPSA.\n",
    "        fun_teor: function. It is the known function, for example, the theoretical\n",
    "                 fidelity between the unknown state of the system and the guess.\n",
    "        fun: function. CSPSA uses this function for the optimization.\n",
    "        s, t, a, A, b: parametros CSPSA\n",
    "    OUT\n",
    "        valor_optimo: real. Optimal value of fun finded by CSPSA.\n",
    "    \"\"\"\n",
    "\n",
    "    n_par = int(psi_est.size/psi_est.shape[0])\n",
    "    valor_optimo = np.zeros((n_par, nu_ite))\n",
    "    valor_optimo[:,0] = fun_teor(psi_est)\n",
    "\n",
    "    for k in range(0,nu_ite-1):\n",
    "        valor_optimo[:,k+1], psi_est = (itCSPSA(psi_est/np.linalg.norm(psi_est, axis = 0),\n",
    "                                       k, s, t, a, A, b, fun, fun_teor ))\n",
    "\n",
    "\n",
    "    return valor_optimo"
   ]
  },
  {
   "cell_type": "code",
   "execution_count": 3,
   "metadata": {},
   "outputs": [],
   "source": [
    "def itCSPSA(z_k,  k, s, t, a, A, b, fun, fun_teor):\n",
    "    \"\"\"iteracion de CSPSA\n",
    "    IN\n",
    "        z_k: dim x n_rep. Cada columna es un estimador de dimension dim.\n",
    "        k: iteracion\n",
    "        s, t, a, A, b: parametros CSPSA\n",
    "        fun: funcion a optimizar\n",
    "    OUT\n",
    "        z_k: dim x n_rep. Estimador actualizado\n",
    "        z_value: real. valor de fun en el estimador z_k\n",
    "    \"\"\"\n",
    "    dim = z_k.shape[0]\n",
    "    rep = int(z_k.size/z_k.shape[0])\n",
    "    alpha = a/(k+1+A)**s\n",
    "    beta = b/(k+1)**t\n",
    "    delta = (1j)**(np.random.randint(1,5,(dim, rep))).reshape(2,rep)\n",
    "    z_k_mas = z_k + beta*delta\n",
    "    z_k_menos = z_k - beta*delta\n",
    "    fun_k_mas = fun(z_k_mas)\n",
    "    fun_k_menos = fun(z_k_menos)\n",
    "    grad = np.divide(fun_k_mas - fun_k_menos, 2*beta*delta.conj())\n",
    "    z_k = z_k - alpha*grad\n",
    "    z_value = fun_teor(z_k)\n",
    "    return z_value, z_k"
   ]
  },
  {
   "cell_type": "code",
   "execution_count": 4,
   "metadata": {},
   "outputs": [],
   "source": [
    "def SPSA(psi_est, nu_ite, fun_teor, fun,\n",
    "          s=1, t=1/6, a=3, A=1, b = 0.1 ):\n",
    "    \"\"\"\n",
    "    SPSA\n",
    "    IN\n",
    "        psi_est: dim x n_par matrix. dim is de dimension of each vector, and n_par\n",
    "                the number of guesses in parallel.\n",
    "        nu_ite: int. Number of iterations of SPSA.\n",
    "        fun_teor: function. It is the known function, for example, the theoretical\n",
    "                 fidelity between the unknown state of the system and the guess.\n",
    "        fun: function. SPSA uses this function for the optimization.\n",
    "        s, t, a, A, b: parametros SPSA\n",
    "    OUT\n",
    "        valor_optimo: real. Optimal value of fun finded by SPSA.\n",
    "    \"\"\"\n",
    "\n",
    "    n_par = int(psi_est.size/psi_est.shape[0])\n",
    "    valor_optimo = np.zeros((n_par, nu_ite))\n",
    "    valor_optimo[:,0] = fun_teor(psi_est)\n",
    "\n",
    "    for k in range(0,nu_ite-1):\n",
    "        valor_optimo[:,k+1], psi_est = (itSPSA(psi_est/np.linalg.norm(psi_est, axis = 0),\n",
    "                                       k, s, t, a, A, b, fun, fun_teor ))\n",
    "\n",
    "\n",
    "    return valor_optimo"
   ]
  },
  {
   "cell_type": "code",
   "execution_count": 5,
   "metadata": {},
   "outputs": [],
   "source": [
    "def itSPSA(z_k,  k, s, t, a, A, b, fun, fun_teor):\n",
    "    \"\"\"iteracion de SPSA\n",
    "    IN\n",
    "        z_k: dim x n_rep. Cada columna es un estimador de dimension dim.\n",
    "        k: iteracion\n",
    "        s, t, a, A, b: parametros SPSA\n",
    "        fun: funcion a optimizar\n",
    "    OUT\n",
    "        z_k: dim x n_rep. Estimador actualizado\n",
    "        z_value: real. valor de fun en el estimador z_k\n",
    "    \"\"\"\n",
    "    dim = z_k.shape[0]\n",
    "    rep = int(z_k.size/z_k.shape[0])\n",
    "    alpha = a/(k+1+A)**s\n",
    "    beta = b/(k+1)**t\n",
    "    \n",
    "    #Cambiamos un delta complejo por uno real (+1,-1)\n",
    "    \n",
    "    delta = (-1)**(np.random.randint(1,5,(dim, rep))).reshape(2,rep)\n",
    "    delta_i = (-1)**(np.random.randint(1,5,(dim, rep))).reshape(2,rep)\n",
    "    \n",
    "    #Definimos parte real e imaginaria\n",
    "    \n",
    "    z_k_mas_r = np.real(z_k) + beta*delta\n",
    "    z_k_menos_r = np.real(z_k) - beta*delta\n",
    "    \n",
    "    z_k_mas_i = np.imag(z_k) + beta*delta_i\n",
    "    z_k_menos_i = np.imag(z_k) - beta*delta_i\n",
    "    \n",
    "\n",
    "    #Nuevo estado, normalizado\n",
    "    \n",
    "    z_k_mas = z_k_mas_r +1j*z_k_mas_i\n",
    "    z_k_menos = z_k_menos_r+1j*z_k_menos_i\n",
    "    \n",
    "    z_k_mas = z_k_mas/np.linalg.norm(z_k_mas, axis=0)\n",
    "    z_k_menos = z_k_menos/np.linalg.norm(z_k_menos, axis=0)\n",
    "    \n",
    "    fun_k_mas = fun(z_k_mas)\n",
    "    fun_k_menos = fun(z_k_menos)\n",
    "    \n",
    "    #Gradiente real e imaginaria\n",
    "    \n",
    "    grad = np.divide(fun_k_mas - fun_k_menos, 2*beta*delta)\n",
    "    grad_i = np.divide(fun_k_mas - fun_k_menos, 2*beta*delta_i)\n",
    "    \n",
    "    z_k = z_k - alpha*grad - 1j*alpha*grad_i\n",
    "    z_k = z_k/np.linalg.norm(z_k, axis=0)\n",
    "    \n",
    "    z_value = fun_teor(z_k)\n",
    "    return z_value, z_k"
   ]
  },
  {
   "cell_type": "code",
   "execution_count": 6,
   "metadata": {},
   "outputs": [],
   "source": [
    "# Definir Estado\n",
    "\n",
    "def estado(dim, n_par):\n",
    "    psi = (np.random.normal(loc=0.0, scale=1.0,\n",
    "           size=(dim, n_par))\n",
    "           + np.random.normal(loc=0.0, scale=1.0,\n",
    "           size=(dim, n_par))*1j)\n",
    "    psi = psi/np.linalg.norm(psi, axis=0)\n",
    "    return psi"
   ]
  },
  {
   "cell_type": "code",
   "execution_count": 7,
   "metadata": {},
   "outputs": [],
   "source": [
    "# Definir Hamiltoniano\n",
    "\n",
    "def H_paul (A,B,C):\n",
    "    pauli_x = np.array((((0, 1), (1, 0))))\n",
    "    pauli_y = np.array((((0, -1j), (1j, 0))))\n",
    "    pauli_z = np.array((((1, 0), (0, -1))))\n",
    "    H_paul = A*pauli_x + B*pauli_y + C*pauli_z\n",
    "    return H_paul"
   ]
  },
  {
   "cell_type": "code",
   "execution_count": 8,
   "metadata": {},
   "outputs": [],
   "source": [
    "# Definir Valor de expectacion\n",
    "\n",
    "def exp_H (psi_est, H):\n",
    "    psi = np.matrix(psi_est)\n",
    "    psi = psi/np.linalg.norm(psi, axis=0)\n",
    "    psi_dagger = psi.getH()\n",
    "    H = np.matrix(H)\n",
    "    exp_H = psi_dagger*H*psi\n",
    "    return exp_H"
   ]
  },
  {
   "cell_type": "code",
   "execution_count": 9,
   "metadata": {},
   "outputs": [],
   "source": [
    "d = 2\n",
    "nu_par = 1\n",
    "NU_ITERACIONES = 300\n",
    "\n",
    "#A = np.sqrt(0.3)\n",
    "#B = np.sqrt(0.2)\n",
    "#C = np.sqrt(0.5)\n",
    "A = 1\n",
    "B = 3\n",
    "C = 5"
   ]
  },
  {
   "cell_type": "code",
   "execution_count": 10,
   "metadata": {},
   "outputs": [],
   "source": [
    "psi_est = estado(d,nu_par)\n"
   ]
  },
  {
   "cell_type": "code",
   "execution_count": 11,
   "metadata": {
    "scrolled": true
   },
   "outputs": [],
   "source": [
    "H = H_paul(A,B,C)\n"
   ]
  },
  {
   "cell_type": "code",
   "execution_count": 12,
   "metadata": {},
   "outputs": [],
   "source": [
    "fun = lambda x : exp_H(x, H)\n"
   ]
  },
  {
   "cell_type": "code",
   "execution_count": 13,
   "metadata": {},
   "outputs": [
    {
     "name": "stdout",
     "output_type": "stream",
     "text": [
      "-5.916079783099616\n"
     ]
    }
   ],
   "source": [
    "# Ground-state Teórico\n",
    "\n",
    "E = A**2 + B**2 + C**2\n",
    "\n",
    "const1 = np.sqrt(1/2) * np.sqrt((A**2+B**2)/(E-C*(np.sqrt(E))))\n",
    "const2 = (C-np.sqrt(E))/(A+1j*B)\n",
    "\n",
    "#psi_teo = const1*np.matrix([[const2], [1]])\n",
    "#fun(psi_teo)\n",
    "\n",
    "Ground_teo = -(np.sqrt(A**2 + B**2 + C**2))\n",
    "print(Ground_teo)"
   ]
  },
  {
   "cell_type": "code",
   "execution_count": 14,
   "metadata": {
    "scrolled": true
   },
   "outputs": [
    {
     "name": "stderr",
     "output_type": "stream",
     "text": [
      "/home/dmunoz/anaconda3/lib/python3.6/site-packages/ipykernel_launcher.py:19: ComplexWarning: Casting complex values to real discards the imaginary part\n",
      "/home/dmunoz/anaconda3/lib/python3.6/site-packages/ipykernel_launcher.py:23: ComplexWarning: Casting complex values to real discards the imaginary part\n"
     ]
    }
   ],
   "source": [
    "Result_CSPSA = CSPSA(psi_est, NU_ITERACIONES, fun, fun)"
   ]
  },
  {
   "cell_type": "code",
   "execution_count": 15,
   "metadata": {},
   "outputs": [
    {
     "name": "stderr",
     "output_type": "stream",
     "text": [
      "/home/dmunoz/anaconda3/lib/python3.6/site-packages/ipykernel_launcher.py:19: ComplexWarning: Casting complex values to real discards the imaginary part\n",
      "/home/dmunoz/anaconda3/lib/python3.6/site-packages/ipykernel_launcher.py:23: ComplexWarning: Casting complex values to real discards the imaginary part\n"
     ]
    }
   ],
   "source": [
    "Result_SPSA = SPSA(psi_est, NU_ITERACIONES, fun, fun)"
   ]
  },
  {
   "cell_type": "code",
   "execution_count": 16,
   "metadata": {
    "scrolled": true
   },
   "outputs": [],
   "source": [
    "error_CSPSA = abs(Result_CSPSA - Ground_teo)\n",
    "error_SPSA = abs(Result_SPSA - Ground_teo)"
   ]
  },
  {
   "cell_type": "code",
   "execution_count": 17,
   "metadata": {},
   "outputs": [
    {
     "data": {
      "text/plain": [
       "[<matplotlib.lines.Line2D at 0x7f84882e0b00>]"
      ]
     },
     "execution_count": 17,
     "metadata": {},
     "output_type": "execute_result"
    },
    {
     "data": {
      "image/png": "[encoded data removed]",
      "text/plain": [
       "<Figure size 432x288 with 1 Axes>"
      ]
     },
     "metadata": {
      "needs_background": "light"
     },
     "output_type": "display_data"
    }
   ],
   "source": [
    "#plt.plot(np.array(error_CSPSA[:]).T)\n",
    "plt.loglog(np.array(error_CSPSA[:]).T)\n",
    "\n",
    "#plt.plot(np.array(Result_CSPSA[:]).T)\n",
    "#plt.loglog(np.array(Result_CSPSA[:]).T)"
   ]
  },
  {
   "cell_type": "code",
   "execution_count": 18,
   "metadata": {},
   "outputs": [
    {
     "data": {
      "text/plain": [
       "[<matplotlib.lines.Line2D at 0x7f848796d4e0>]"
      ]
     },
     "execution_count": 18,
     "metadata": {},
     "output_type": "execute_result"
    },
    {
     "data": {
      "image/png": "[encoded data removed]",
      "text/plain": [
       "<Figure size 432x288 with 1 Axes>"
      ]
     },
     "metadata": {
      "needs_background": "light"
     },
     "output_type": "display_data"
    }
   ],
   "source": [
    "#plt.plot(np.array(error_SPSA[:]).T)\n",
    "plt.loglog(np.array(error_SPSA[:]).T)\n",
    "\n",
    "#plt.plot(np.array(Result_SPSA[:]).T)\n",
    "#plt.loglog(np.array(Result_SPSA[:]).T)"
   ]
  },
  {
   "cell_type": "code",
   "execution_count": 27,
   "metadata": {},
   "outputs": [
    {
     "data": {
      "text/plain": [
       "<matplotlib.legend.Legend at 0x7f84940ebfd0>"
      ]
     },
     "execution_count": 27,
     "metadata": {},
     "output_type": "execute_result"
    },
    {
     "data": {
      "image/png": "[encoded data removed]",
      "text/plain": [
       "<Figure size 432x288 with 1 Axes>"
      ]
     },
     "metadata": {
      "needs_background": "light"
     },
     "output_type": "display_data"
    }
   ],
   "source": [
    "plt.plot(np.array(Result_SPSA[:]).T, label='SPSA')\n",
    "plt.plot(np.array(Result_CSPSA[:]).T,label='CSPSA')\n",
    "plt.xlim(0,100)\n",
    "#plt.ylim(-7,-4)\n",
    "plt.legend()"
   ]
  },
  {
   "cell_type": "code",
   "execution_count": 20,
   "metadata": {},
   "outputs": [
    {
     "name": "stdout",
     "output_type": "stream",
     "text": [
      "[[-0.93576593  2.84065221 -1.55391745  1.79925874  3.57747568  3.21488448\n",
      "  -1.6809172   0.24021759 -1.21388583 -4.54977234  1.08050151 -0.53839212\n",
      "   1.56561349  5.55593736  3.90954106 -3.90321802  1.15825767 -0.74702677\n",
      "   1.58319574  0.4464379   0.52779012  0.67769881 -4.1686115  -3.38130065\n",
      "  -3.35268396 -1.76783941 -1.04184584 -3.27975027 -4.59067384 -0.50321856\n",
      "   5.75764765  3.60720092 -2.40458261  2.25932997  0.76395409  0.5341652\n",
      "  -1.36823126 -4.52881795 -1.72870044 -3.05121644  3.69633574 -4.73368126\n",
      "  -2.1567762  -3.12141522 -2.08723561 -5.05583523 -4.96983493 -5.66230211\n",
      "  -5.53208158 -3.66642543 -0.54251607 -5.59722933 -4.81390194 -5.79843019\n",
      "  -5.89853008 -5.90371938 -5.86761524 -5.8643547  -5.87340075 -5.86805976\n",
      "  -5.86697145 -5.91424201 -5.91572102 -5.91548031 -5.91437665 -5.90871528\n",
      "  -5.90715959 -5.90858877 -5.90519983 -5.89098267 -5.85598347 -5.82258231\n",
      "  -5.87360179 -5.87727547 -5.88448863 -5.90874043 -5.90591057 -5.91002703\n",
      "  -5.90207317 -5.90285427 -5.89772451 -5.88939308 -5.88509457 -5.89529824\n",
      "  -5.91124503 -5.90847004 -5.9085695  -5.90848857 -5.90957449 -5.91133278\n",
      "  -5.91493188 -5.91439281 -5.91052051 -5.91060477 -5.91324965 -5.91541968\n",
      "  -5.91570878 -5.9157353  -5.91573871 -5.91567838 -5.91578697 -5.91571858\n",
      "  -5.91568777 -5.91584479 -5.91572043 -5.9157487  -5.91601699 -5.9158519\n",
      "  -5.91585869 -5.91585843 -5.91552355 -5.91575743 -5.91544013 -5.91590449\n",
      "  -5.91574711 -5.91477857 -5.91538878 -5.91543007 -5.91544974 -5.91603414\n",
      "  -5.9159365  -5.91588243 -5.91570575 -5.91580055 -5.91588761 -5.91583212\n",
      "  -5.91583132 -5.91606859 -5.91593754 -5.91578038 -5.91576077 -5.91583939\n",
      "  -5.91576741 -5.91576581 -5.91601282 -5.91604365 -5.91593195 -5.91559183\n",
      "  -5.91561273 -5.91601552 -5.91601016 -5.91599749 -5.91569577 -5.9157713\n",
      "  -5.91575615 -5.91587838 -5.91602267 -5.91599937 -5.91600419 -5.91572069\n",
      "  -5.9160468  -5.91594216 -5.9158912  -5.91603305 -5.9158124  -5.91580933\n",
      "  -5.91582619 -5.9158318  -5.91596049 -5.91601046 -5.91606711 -5.91596711\n",
      "  -5.91596323 -5.91601812 -5.91595703 -5.91600315 -5.91593018 -5.9159015\n",
      "  -5.91589266 -5.91589032 -5.91583992 -5.91592563 -5.91595475 -5.91598567\n",
      "  -5.9160027  -5.91604398 -5.91600893 -5.91599234 -5.91601754 -5.91601998\n",
      "  -5.91600877 -5.91600861 -5.91590753 -5.91584203 -5.91604038 -5.91604202\n",
      "  -5.91598725 -5.91604303 -5.91596117 -5.91596137 -5.91591648 -5.91594136\n",
      "  -5.9159595  -5.91596052 -5.91590497 -5.91590488 -5.91605635 -5.91605248\n",
      "  -5.91602338 -5.91607461 -5.91605817 -5.91604138 -5.91602793 -5.91601814\n",
      "  -5.91601136 -5.91602359 -5.91597931 -5.9160511  -5.91603612 -5.91598517\n",
      "  -5.91598898 -5.91598842 -5.9158982  -5.91589766 -5.91598034 -5.91598097\n",
      "  -5.91604093 -5.91600531 -5.91599125 -5.91597768 -5.91603704 -5.91605709\n",
      "  -5.91603771 -5.91599322 -5.91598726 -5.91607283 -5.91607166 -5.91607455\n",
      "  -5.91607898 -5.91603867 -5.91607057 -5.91603036 -5.91596059 -5.9159509\n",
      "  -5.91599795 -5.91605085 -5.91598884 -5.91603237 -5.91606443 -5.91602769\n",
      "  -5.91607094 -5.91607874 -5.91607927 -5.91607168 -5.91602227 -5.91606937\n",
      "  -5.91606345 -5.91604426 -5.91601716 -5.91605371 -5.91605605 -5.91605618\n",
      "  -5.91606895 -5.9160644  -5.91604664 -5.91605004 -5.91606898 -5.91607161\n",
      "  -5.91606089 -5.91605005 -5.91605267 -5.91604298 -5.91602456 -5.9160153\n",
      "  -5.91602285 -5.91603053 -5.91606381 -5.91606224 -5.91606189 -5.91605186\n",
      "  -5.91605264 -5.916057   -5.91603012 -5.91600137 -5.9160349  -5.91605921\n",
      "  -5.91607333 -5.91607594 -5.91604047 -5.91607126 -5.91602977 -5.91605797\n",
      "  -5.91605856 -5.91605664 -5.9160618  -5.91605899 -5.91601958 -5.91602865\n",
      "  -5.91601136 -5.91600836 -5.91600362 -5.91600205 -5.91598665 -5.91605056\n",
      "  -5.91607793 -5.91607843 -5.91606881 -5.91604401 -5.91604765 -5.91605029]]\n"
     ]
    }
   ],
   "source": [
    "np.savetxt('prueba.txt', Result_SPSA, delimiter=',')\n",
    "print(Result_SPSA)"
   ]
  },
  {
   "cell_type": "code",
   "execution_count": 21,
   "metadata": {},
   "outputs": [
    {
     "name": "stdout",
     "output_type": "stream",
     "text": [
      "[[-0.93576593  2.67963686 -1.16310787 -3.47486973  0.64929944 -3.41498424\n",
      "  -3.65771546  0.52922277 -1.79569617  1.90565348  0.21890563 -2.89191457\n",
      "  -5.39865202 -4.32054226 -3.23498928 -2.26082594 -5.79319983 -5.58890875\n",
      "  -4.01650907 -4.1238347  -0.08624428 -5.32367211 -5.32374809 -5.32357125\n",
      "  -5.72670218 -5.72715627 -5.27765894 -5.14316581 -5.08153552 -5.10482141\n",
      "  -4.7793089  -5.20698176 -4.75098535 -4.73931975 -5.27229448 -5.27410448\n",
      "  -5.23963173 -5.81916143 -5.81868497 -5.85314006 -5.80418076 -5.76044527\n",
      "  -5.69691697 -5.73425061 -5.80095759 -5.90271763 -5.900034   -5.90995209\n",
      "  -5.91077304 -5.91478817 -5.91525279 -5.91576739 -5.91584719 -5.91585101\n",
      "  -5.91607027 -5.91594573 -5.91604027 -5.91602501 -5.91605856 -5.91601475\n",
      "  -5.91603826 -5.91602526 -5.9160353  -5.91591223 -5.91597679 -5.91600267\n",
      "  -5.91595113 -5.91590211 -5.91597765 -5.9158813  -5.91592762 -5.91588898\n",
      "  -5.91590971 -5.91605463 -5.91601388 -5.9160777  -5.91605342 -5.91605815\n",
      "  -5.91600727 -5.91600816 -5.91601127 -5.91600508 -5.91602235 -5.91602997\n",
      "  -5.91603362 -5.91605545 -5.91606931 -5.9160218  -5.91597317 -5.91607437\n",
      "  -5.9160704  -5.91606639 -5.91607538 -5.91607775 -5.91606607 -5.9160297\n",
      "  -5.91607404 -5.91607543 -5.91606571 -5.91607655 -5.91606708 -5.91606196\n",
      "  -5.91607192 -5.91604729 -5.91607654 -5.91607921 -5.91606888 -5.91606878\n",
      "  -5.91604253 -5.91607111 -5.91605206 -5.91606    -5.91603998 -5.91607089\n",
      "  -5.91607489 -5.91606468 -5.91606281 -5.91605387 -5.9160692  -5.91604803\n",
      "  -5.91606231 -5.91606214 -5.91607112 -5.91606273 -5.91605491 -5.9160706\n",
      "  -5.91606756 -5.91606448 -5.91606636 -5.91607505 -5.91606817 -5.91605035\n",
      "  -5.91605019 -5.91605877 -5.91606664 -5.9160542  -5.91606211 -5.91606639\n",
      "  -5.91607085 -5.91606005 -5.91604538 -5.91606278 -5.91605796 -5.91605232\n",
      "  -5.91605058 -5.91607084 -5.91607565 -5.91607782 -5.91607763 -5.91607743\n",
      "  -5.9160714  -5.9160688  -5.91606685 -5.9160755  -5.9160794  -5.9160786\n",
      "  -5.91607936 -5.91607787 -5.91607431 -5.91607226 -5.91607428 -5.91607969\n",
      "  -5.91607609 -5.91607842 -5.91607285 -5.91606055 -5.91605214 -5.91606877\n",
      "  -5.91607406 -5.91607644 -5.91607623 -5.91607969 -5.91607976 -5.91607963\n",
      "  -5.91607879 -5.91607617 -5.91607353 -5.9160714  -5.91606879 -5.91607563\n",
      "  -5.91607327 -5.91607071 -5.91607789 -5.91607826 -5.91607364 -5.91607688\n",
      "  -5.91607314 -5.91607096 -5.91607877 -5.91607777 -5.91607519 -5.91607131\n",
      "  -5.91607533 -5.91607505 -5.9160748  -5.91606802 -5.91607255 -5.91607887\n",
      "  -5.91607116 -5.91607105 -5.91607211 -5.91606383 -5.91605756 -5.91606973\n",
      "  -5.9160714  -5.91607114 -5.91607008 -5.91606542 -5.91607434 -5.91607763\n",
      "  -5.9160785  -5.91607561 -5.91607584 -5.91607665 -5.91607705 -5.91607687\n",
      "  -5.91607925 -5.91607927 -5.91607884 -5.91607619 -5.91607113 -5.91606821\n",
      "  -5.91606567 -5.91606799 -5.91607379 -5.91607095 -5.91607309 -5.91607627\n",
      "  -5.91607493 -5.9160701  -5.91607033 -5.91606934 -5.91606949 -5.91607612\n",
      "  -5.91607436 -5.91606942 -5.91606564 -5.91606365 -5.9160633  -5.91606313\n",
      "  -5.91607443 -5.91607252 -5.91607085 -5.91606966 -5.91606701 -5.91606642\n",
      "  -5.91606398 -5.91606137 -5.91606221 -5.91607369 -5.91607255 -5.9160702\n",
      "  -5.91606931 -5.91606771 -5.91606548 -5.91607279 -5.91607543 -5.9160768\n",
      "  -5.91607274 -5.91607561 -5.91607712 -5.9160731  -5.9160768  -5.91607466\n",
      "  -5.91607379 -5.91607322 -5.91606934 -5.91607055 -5.91606822 -5.91606639\n",
      "  -5.91607227 -5.91607034 -5.91607487 -5.91607637 -5.91607799 -5.91607494\n",
      "  -5.91607693 -5.91607495 -5.91607154 -5.91607256 -5.91607513 -5.91607319\n",
      "  -5.91607507 -5.91607163 -5.91606854 -5.91606675 -5.91607197 -5.916073\n",
      "  -5.91607153 -5.91607482 -5.91607766 -5.9160783  -5.91607869 -5.91607872\n",
      "  -5.9160764  -5.9160732  -5.91606911 -5.91607025 -5.91607092 -5.91607133]]\n"
     ]
    }
   ],
   "source": [
    "np.savetxt('prueba.txt', Result_CSPSA, delimiter=',')\n",
    "print(Result_CSPSA)"
   ]
  },
  {
   "cell_type": "code",
   "execution_count": 22,
   "metadata": {},
   "outputs": [
    {
     "name": "stdout",
     "output_type": "stream",
     "text": [
      "[[-0.55688333+0.60137344j]\n",
      " [ 0.36014124+0.44556619j]]\n"
     ]
    },
    {
     "data": {
      "text/plain": [
       "matrix([[-0.93576593+0.j]])"
      ]
     },
     "execution_count": 22,
     "metadata": {},
     "output_type": "execute_result"
    }
   ],
   "source": [
    "print(psi_est)\n",
    "fun(psi_est)"
   ]
  }
 ],
 "metadata": {
  "kernelspec": {
   "display_name": "Python 3",
   "language": "python",
   "name": "python3"
  },
  "language_info": {
   "codemirror_mode": {
    "name": "ipython",
    "version": 3
   },
   "file_extension": ".py",
   "mimetype": "text/x-python",
   "name": "python",
   "nbconvert_exporter": "python",
   "pygments_lexer": "ipython3",
   "version": "3.6.10"
  }
 },
 "nbformat": 4,
 "nbformat_minor": 4
}
