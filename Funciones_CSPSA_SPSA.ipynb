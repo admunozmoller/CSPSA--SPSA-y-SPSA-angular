{
 "cells": [
  {
   "cell_type": "code",
   "execution_count": 1,
   "metadata": {
    "ExecuteTime": {
     "end_time": "2020-09-06T22:08:57.559507Z",
     "start_time": "2020-09-06T22:08:56.967286Z"
    }
   },
   "outputs": [],
   "source": [
    "import numpy as np\n",
    "import matplotlib.pyplot as plt\n",
    "%matplotlib inline"
   ]
  },
  {
   "cell_type": "code",
   "execution_count": 2,
   "metadata": {
    "ExecuteTime": {
     "end_time": "2020-09-06T22:08:57.570740Z",
     "start_time": "2020-09-06T22:08:57.562068Z"
    }
   },
   "outputs": [],
   "source": [
    "# Definir Estado\n",
    "\n",
    "# dim = dimension del estado\n",
    "# n_par = numero de vectores en paralelo\n",
    "\n",
    "def estado(dim, n_par):\n",
    "    psi = (np.random.normal(loc=0.0, scale=1.0,\n",
    "           size=(dim, n_par))\n",
    "           + np.random.normal(loc=0.0, scale=1.0,\n",
    "           size=(dim, n_par))*1j)\n",
    "    psi = psi/np.linalg.norm(psi, axis=0)\n",
    "    return psi"
   ]
  },
  {
   "cell_type": "code",
   "execution_count": 3,
   "metadata": {
    "ExecuteTime": {
     "end_time": "2020-09-06T22:08:58.118226Z",
     "start_time": "2020-09-06T22:08:58.107786Z"
    }
   },
   "outputs": [],
   "source": [
    "# Definir Hamiltoniano de Matrices de Pauli\n",
    "\n",
    "def H_paul (A,B,C):\n",
    "    pauli_x = np.array((((0, 1), (1, 0))))\n",
    "    pauli_y = np.array((((0, -1j), (1j, 0))))\n",
    "    pauli_z = np.array((((1, 0), (0, -1))))\n",
    "    H_paul = A*pauli_x + B*pauli_y + C*pauli_z\n",
    "    return H_paul"
   ]
  },
  {
   "cell_type": "code",
   "execution_count": 2,
   "metadata": {
    "ExecuteTime": {
     "end_time": "2020-09-07T21:15:12.801785Z",
     "start_time": "2020-09-07T21:15:12.791541Z"
    }
   },
   "outputs": [],
   "source": [
    "# Definir Valor de expectacion\n",
    "\n",
    "def exp_H (psi_est, H):\n",
    "    psi = psi_est\n",
    "    psi = psi/np.linalg.norm(psi, axis=0)\n",
    "    psi_dagger = psi.conj().T\n",
    "    H_psi = np.dot(H,psi)\n",
    "    exp_H = np.dot(psi_dagger, H_psi)\n",
    "    \n",
    "    # calculamos valor absoluto, para eliminar parte imaginaria producto de errores\n",
    "    exp_H = np.real(exp_H)\n",
    "    exp_H = np.float64(exp_H)\n",
    "    \n",
    "    return exp_H"
   ]
  },
  {
   "cell_type": "code",
   "execution_count": 7,
   "metadata": {
    "ExecuteTime": {
     "end_time": "2020-09-06T22:52:53.292974Z",
     "start_time": "2020-09-06T22:52:53.279308Z"
    }
   },
   "outputs": [],
   "source": [
    "# Calculo de probabilidades\n",
    "\n",
    "def prob (autoestado, psi_est):\n",
    "    psi = psi_est\n",
    "    psi = psi/np.linalg.norm(psi, axis=0)\n",
    "    \n",
    "    autoestado = autoestado\n",
    "    autoestado = autoestado/np.linalg.norm(autoestado, axis=0) \n",
    "    \n",
    "    auto_dagg = autoestado.conj().T\n",
    "    prob = abs(np.dot(auto_dagg, psi))**2\n",
    "    prob = np.float64(prob)\n",
    "    \n",
    "    return prob"
   ]
  },
  {
   "cell_type": "code",
   "execution_count": 13,
   "metadata": {
    "ExecuteTime": {
     "end_time": "2020-08-25T16:03:44.517112Z",
     "start_time": "2020-08-25T16:03:44.431143Z"
    }
   },
   "outputs": [],
   "source": [
    "# Valor de expectacion, pero usando el Hamiltoniano diagonalizado\n",
    "\n",
    "def diag_expH(psi_est, val_p1, val_p2, vec_p1, vec_p2):\n",
    "    prob1 = prob(vec_p1, psi_est)\n",
    "    prob2 = prob(vec_p2, psi_est)\n",
    "    exp_H = val_p1 * prob1 + val_p2 * prob2\n",
    "    \n",
    "    return exp_H"
   ]
  },
  {
   "cell_type": "code",
   "execution_count": 14,
   "metadata": {
    "ExecuteTime": {
     "end_time": "2020-08-25T16:03:44.610439Z",
     "start_time": "2020-08-25T16:03:44.532363Z"
    }
   },
   "outputs": [],
   "source": [
    "# Valor de expectacion, pero usando el Hamiltoniano diagonalizado, y usando N samples\n",
    "\n",
    "def sim_expH(psi_est, val_p1, val_p2, vec_p1, vec_p2, N):\n",
    "    \n",
    "    prob1 = prob(vec_p1, psi_est)\n",
    "    #prob2 = prob(vec_p2, psi_est)\n",
    "    \n",
    "    binomial = np.random.binomial(n=N, p=prob1)\n",
    "    p1 = binomial/N\n",
    "    p2 = 1.0-p1\n",
    "    \n",
    "    exp_H = val_p1 * p1 + val_p2 * p2\n",
    "    \n",
    "    return exp_H"
   ]
  },
  {
   "cell_type": "code",
   "execution_count": null,
   "metadata": {},
   "outputs": [],
   "source": [
    "# Estado dim=2 en representacion de Bloch\n",
    "\n",
    "def est_bloch(psi_est):\n",
    "    z1 = psi_est[0]\n",
    "    r1 = np.absolute(z1)\n",
    "    phi1 = np.angle(z1)\n",
    "\n",
    "    z2 = psi_est[1]\n",
    "    r2 = np.absolute(z2)\n",
    "    phi2 = np.angle(z2)\n",
    "\n",
    "    R = np.divide(r2,r1)\n",
    "\n",
    "    phase = phi2-phi1\n",
    "    theta = np.arctan(R)\n",
    "\n",
    "    a1 = np.cos(theta)\n",
    "    a2 = np.sin(theta)*(np.cos(phase)+1j*np.sin(phase))\n",
    "\n",
    "    psi_bloch = np.array([a1,a2])\n",
    "    psi_bloch = psi_bloch/np.linalg.norm(psi_bloch, axis=0)\n",
    "    return psi_bloch, phase, theta"
   ]
  }
 ],
 "metadata": {
  "kernelspec": {
   "display_name": "Python 3",
   "language": "python",
   "name": "python3"
  },
  "language_info": {
   "codemirror_mode": {
    "name": "ipython",
    "version": 3
   },
   "file_extension": ".py",
   "mimetype": "text/x-python",
   "name": "python",
   "nbconvert_exporter": "python",
   "pygments_lexer": "ipython3",
   "version": "3.6.10"
  }
 },
 "nbformat": 4,
 "nbformat_minor": 4
}
