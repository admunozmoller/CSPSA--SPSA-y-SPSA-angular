{
 "cells": [
  {
   "cell_type": "code",
   "execution_count": 1,
   "metadata": {
    "ExecuteTime": {
     "end_time": "2020-08-11T03:35:37.020300Z",
     "start_time": "2020-08-11T03:35:36.261167Z"
    }
   },
   "outputs": [],
   "source": [
    "import numpy as np\n",
    "import matplotlib.pyplot as plt\n",
    "import time\n",
    "import multiprocessing \n",
    "%run Funciones_CSPSA_SPSA.ipynb\n",
    "%matplotlib inline"
   ]
  },
  {
   "cell_type": "code",
   "execution_count": 2,
   "metadata": {
    "ExecuteTime": {
     "end_time": "2020-08-11T03:35:37.029326Z",
     "start_time": "2020-08-11T03:35:37.022887Z"
    }
   },
   "outputs": [],
   "source": [
    "# Ganancias estandar\n",
    "\n",
    "#s = 0.602\n",
    "#t = 0.101\n",
    "#A = 0\n",
    "#a = 3\n",
    "#b = 0.01\n",
    "\n",
    "\n",
    "# Ganancias asintoticas\n",
    "\n",
    "s = 1\n",
    "t = 0.166\n",
    "A1 = 5\n",
    "a = 1\n",
    "b = 0.01\n",
    "\n",
    "\n"
   ]
  },
  {
   "cell_type": "code",
   "execution_count": 3,
   "metadata": {
    "ExecuteTime": {
     "end_time": "2020-08-11T03:35:37.103605Z",
     "start_time": "2020-08-11T03:35:37.040950Z"
    }
   },
   "outputs": [],
   "source": [
    "d = 2\n",
    "nu_par = 1\n",
    "NU_IT = 300\n",
    "\n",
    "#A = np.sqrt(0.3)\n",
    "#B = np.sqrt(0.2)\n",
    "#C = np.sqrt(0.5)\n",
    "A = 1\n",
    "B = 3\n",
    "C = 5"
   ]
  },
  {
   "cell_type": "code",
   "execution_count": 4,
   "metadata": {
    "ExecuteTime": {
     "end_time": "2020-08-11T03:35:37.172037Z",
     "start_time": "2020-08-11T03:35:37.107242Z"
    }
   },
   "outputs": [],
   "source": [
    "psi_est = estado(d,nu_par)"
   ]
  },
  {
   "cell_type": "code",
   "execution_count": 5,
   "metadata": {
    "ExecuteTime": {
     "end_time": "2020-08-11T03:35:38.152912Z",
     "start_time": "2020-08-11T03:35:37.175456Z"
    }
   },
   "outputs": [],
   "source": [
    "H = H_paul(A,B,C)"
   ]
  },
  {
   "cell_type": "code",
   "execution_count": 6,
   "metadata": {
    "ExecuteTime": {
     "end_time": "2020-08-11T03:35:38.220466Z",
     "start_time": "2020-08-11T03:35:38.159335Z"
    }
   },
   "outputs": [],
   "source": [
    "fun = lambda x : exp_H(x, H)"
   ]
  },
  {
   "cell_type": "code",
   "execution_count": 7,
   "metadata": {
    "ExecuteTime": {
     "end_time": "2020-08-11T03:35:38.609840Z",
     "start_time": "2020-08-11T03:35:38.223011Z"
    }
   },
   "outputs": [],
   "source": [
    "# Autovalores Teórico\n",
    "\n",
    "E = A**2 + B**2 + C**2\n",
    "\n",
    "Emas = np.sqrt(E)\n",
    "\n",
    "Emen = -np.sqrt(E)\n",
    "\n",
    "# Autovectores\n",
    "\n",
    "#c1mas = np.sqrt(1/2) * np.sqrt((A**2+B**2)/(E+C*(np.sqrt(E))))\n",
    "c2mas = (C+np.sqrt(E))/(A+1j*B)\n",
    "\n",
    "#c1men = np.sqrt(1/2) * np.sqrt((A**2+B**2)/(E-C*(np.sqrt(E))))\n",
    "c2men = (C-np.sqrt(E))/(A+1j*B)\n",
    "\n",
    "Pma = np.matrix([[c2mas], [1]])\n",
    "Pme = np.matrix([[c2men], [1]])\n",
    "\n",
    "Pmas = Pma/np.linalg.norm(Pma, axis=0)\n",
    "Pmen = Pme/np.linalg.norm(Pme, axis=0)\n",
    "\n",
    "Pmas_dag = Pmas.getH()\n",
    "Pmen_dag = Pmen.getH()\n"
   ]
  },
  {
   "cell_type": "code",
   "execution_count": 8,
   "metadata": {
    "ExecuteTime": {
     "end_time": "2020-08-11T03:35:38.675272Z",
     "start_time": "2020-08-11T03:35:38.621275Z"
    }
   },
   "outputs": [],
   "source": [
    "fun2 = lambda x : diag_expH(x, Emas, Emen, Pmas, Pmen)"
   ]
  },
  {
   "cell_type": "code",
   "execution_count": 9,
   "metadata": {
    "ExecuteTime": {
     "end_time": "2020-08-11T03:35:38.742876Z",
     "start_time": "2020-08-11T03:35:38.683926Z"
    }
   },
   "outputs": [],
   "source": [
    "# Optimizacion ganancias\n",
    "\n",
    "#a_CSPSA = ganancia_a_CSPSA(psi_est,25,fun,t,b)\n",
    "#a_SPSA = ganancia_a_SPSA(psi_est,25,fun,t,b)\n",
    "#a_SPSA_ang = ganancia_a_SPSA_ang(psi_est,25,fun,t,b)"
   ]
  },
  {
   "cell_type": "code",
   "execution_count": 10,
   "metadata": {
    "ExecuteTime": {
     "end_time": "2020-08-11T03:35:38.813570Z",
     "start_time": "2020-08-11T03:35:38.745352Z"
    }
   },
   "outputs": [
    {
     "name": "stdout",
     "output_type": "stream",
     "text": [
      "-5.916079783099616\n"
     ]
    }
   ],
   "source": [
    "# Ground-state Teórico\n",
    "\n",
    "Ground_teo = -(np.sqrt(A**2 + B**2 + C**2))\n",
    "print(Ground_teo)"
   ]
  },
  {
   "cell_type": "code",
   "execution_count": 11,
   "metadata": {
    "ExecuteTime": {
     "end_time": "2020-08-11T03:35:39.497375Z",
     "start_time": "2020-08-11T03:35:38.816936Z"
    }
   },
   "outputs": [],
   "source": [
    "Result_CSPSA = CSPSA(psi_est, NU_IT, fun, fun, s, t, a, A1, b)\n",
    "Result2_CSPSA = CSPSA(psi_est, NU_IT, fun2, fun2, s, t, a, A1, b)"
   ]
  },
  {
   "cell_type": "code",
   "execution_count": 12,
   "metadata": {
    "ExecuteTime": {
     "end_time": "2020-08-11T03:35:39.505460Z",
     "start_time": "2020-08-11T03:35:39.500364Z"
    }
   },
   "outputs": [],
   "source": [
    "error_CSPSA = abs(Result_CSPSA - Ground_teo)\n",
    "error2_CSPSA = abs(Result2_CSPSA - Ground_teo)"
   ]
  },
  {
   "cell_type": "code",
   "execution_count": 13,
   "metadata": {
    "ExecuteTime": {
     "end_time": "2020-08-11T03:35:41.573173Z",
     "start_time": "2020-08-11T03:35:39.509044Z"
    }
   },
   "outputs": [
    {
     "data": {
      "text/plain": [
       "<matplotlib.legend.Legend at 0x7f9125bbf9b0>"
      ]
     },
     "execution_count": 13,
     "metadata": {},
     "output_type": "execute_result"
    },
    {
     "data": {
      "image/png": "[encoded data removed]",
      "text/plain": [
       "<Figure size 432x288 with 1 Axes>"
      ]
     },
     "metadata": {
      "needs_background": "light"
     },
     "output_type": "display_data"
    }
   ],
   "source": [
    "plt.loglog(np.array(error_CSPSA[:]).T, label='CSPSA')\n",
    "plt.loglog(np.array(error2_CSPSA[:]).T, label='CSPSA2')\n",
    "plt.legend()"
   ]
  },
  {
   "cell_type": "code",
   "execution_count": 14,
   "metadata": {
    "ExecuteTime": {
     "end_time": "2020-08-11T03:35:41.581811Z",
     "start_time": "2020-08-11T03:35:41.575934Z"
    }
   },
   "outputs": [],
   "source": [
    "#Result1_CSPSA = CSPSA(psi_est, NU_IT, fun, fun, s, t, a, A, b)\n",
    "#Result1_SPSA = SPSA(psi_est, NU_IT, fun, fun, s, t, a, A, b)\n",
    "#Result1_SPSA_ang = SPSA_ang(psi_est, NU_IT, fun, fun, s, t, a, A, b)"
   ]
  },
  {
   "cell_type": "code",
   "execution_count": 15,
   "metadata": {
    "ExecuteTime": {
     "end_time": "2020-08-11T03:35:41.684509Z",
     "start_time": "2020-08-11T03:35:41.588666Z"
    }
   },
   "outputs": [],
   "source": [
    "#Result1_CSPSA2 = CSPSA2(psi_est, NU_IT, fun, fun, s, t, A, b)\n",
    "#Result1_SPSA2 = SPSA2(psi_est, NU_IT, fun, fun, s, t, A, b)\n",
    "#Result1_SPSA_ang2 = SPSA_ang2(psi_est, NU_IT, fun, fun, s, t, A, b)"
   ]
  },
  {
   "cell_type": "code",
   "execution_count": 16,
   "metadata": {
    "ExecuteTime": {
     "end_time": "2020-08-11T03:35:41.751963Z",
     "start_time": "2020-08-11T03:35:41.687525Z"
    }
   },
   "outputs": [],
   "source": [
    "#error1_CSPSA = abs(Result1_CSPSA - Ground_teo)\n",
    "#error1_SPSA = abs(Result1_SPSA - Ground_teo)\n",
    "#error1_SPSA_ang = abs(Result1_SPSA_ang - Ground_teo)"
   ]
  },
  {
   "cell_type": "code",
   "execution_count": 17,
   "metadata": {
    "ExecuteTime": {
     "end_time": "2020-08-11T03:35:42.118510Z",
     "start_time": "2020-08-11T03:35:41.755603Z"
    }
   },
   "outputs": [],
   "source": [
    "#error1_CSPSA2 = abs(Result1_CSPSA2 - Ground_teo)\n",
    "#error1_SPSA2 = abs(Result1_SPSA2 - Ground_teo)\n",
    "#error1_SPSA_ang2 = abs(Result1_SPSA_ang2 - Ground_teo)"
   ]
  },
  {
   "cell_type": "code",
   "execution_count": 18,
   "metadata": {
    "ExecuteTime": {
     "end_time": "2020-08-11T03:35:42.185603Z",
     "start_time": "2020-08-11T03:35:42.121561Z"
    }
   },
   "outputs": [],
   "source": [
    "#plt.loglog(np.array(error1_CSPSA[:]).T, label='CSPSA')\n",
    "#plt.loglog(np.array(error1_CSPSA2[:]).T, label='CSPSA2')\n",
    "#plt.legend()"
   ]
  },
  {
   "cell_type": "code",
   "execution_count": 19,
   "metadata": {
    "ExecuteTime": {
     "end_time": "2020-08-11T03:35:42.254154Z",
     "start_time": "2020-08-11T03:35:42.188699Z"
    }
   },
   "outputs": [],
   "source": [
    "#plt.loglog(np.array(error1_SPSA[:]).T, label='SPSA')\n",
    "#plt.loglog(np.array(error1_SPSA2[:]).T, label='SPSA2')\n",
    "#plt.legend()"
   ]
  },
  {
   "cell_type": "code",
   "execution_count": 20,
   "metadata": {
    "ExecuteTime": {
     "end_time": "2020-08-11T03:35:42.322778Z",
     "start_time": "2020-08-11T03:35:42.257202Z"
    }
   },
   "outputs": [],
   "source": [
    "#plt.loglog(np.array(error1_SPSA_ang[:]).T, label='SPSA_ang')\n",
    "#plt.loglog(np.array(error1_SPSA_ang2[:]).T, label='SPSA_ang2')\n",
    "#plt.legend()"
   ]
  },
  {
   "cell_type": "code",
   "execution_count": 21,
   "metadata": {
    "ExecuteTime": {
     "end_time": "2020-08-11T03:35:42.391794Z",
     "start_time": "2020-08-11T03:35:42.327973Z"
    }
   },
   "outputs": [],
   "source": [
    "#plt.plot(np.array(Result1_CSPSA[:]).T, label='CSPSA')\n",
    "#plt.plot(np.array(Result1_CSPSA2[:]).T, label='CSPSA2')\n",
    "#plt.legend()"
   ]
  },
  {
   "cell_type": "code",
   "execution_count": 22,
   "metadata": {
    "ExecuteTime": {
     "end_time": "2020-08-11T03:35:42.493940Z",
     "start_time": "2020-08-11T03:35:42.399149Z"
    }
   },
   "outputs": [],
   "source": [
    "#plt.plot(np.array(Result1_SPSA[:]).T, label='SPSA')\n",
    "#plt.plot(np.array(Result1_SPSA2[:]).T, label='SPSA2')\n",
    "#plt.legend()"
   ]
  },
  {
   "cell_type": "code",
   "execution_count": 23,
   "metadata": {
    "ExecuteTime": {
     "end_time": "2020-08-11T03:35:42.561965Z",
     "start_time": "2020-08-11T03:35:42.505227Z"
    }
   },
   "outputs": [],
   "source": [
    "#plt.plot(np.array(Result1_SPSA_ang[:]).T, label='SPSA_ang')\n",
    "#plt.plot(np.array(Result1_SPSA_ang2[:]).T, label='SPSA_ang2')\n",
    "#plt.legend()"
   ]
  },
  {
   "cell_type": "code",
   "execution_count": 24,
   "metadata": {
    "ExecuteTime": {
     "end_time": "2020-08-11T03:35:42.630236Z",
     "start_time": "2020-08-11T03:35:42.570678Z"
    }
   },
   "outputs": [],
   "source": [
    "#plt.loglog(np.array(error1_CSPSA[:]).T, label='CSPSA')\n",
    "#plt.loglog(np.array(error1_SPSA[:]).T, label='SPSA')\n",
    "#plt.loglog(np.array(error1_SPSA_ang[:]).T, label='SPSA_ang')\n",
    "#plt.legend()"
   ]
  },
  {
   "cell_type": "code",
   "execution_count": 25,
   "metadata": {
    "ExecuteTime": {
     "end_time": "2020-08-11T03:35:42.699155Z",
     "start_time": "2020-08-11T03:35:42.637829Z"
    }
   },
   "outputs": [],
   "source": [
    "#plt.loglog(np.array(error1_CSPSA2[:]).T, label='CSPSA2')\n",
    "#plt.loglog(np.array(error1_SPSA2[:]).T, label='SPSA2')\n",
    "#plt.loglog(np.array(error1_SPSA_ang2[:]).T, label='SPSA_ang2')\n",
    "#plt.legend()"
   ]
  },
  {
   "cell_type": "code",
   "execution_count": 26,
   "metadata": {
    "ExecuteTime": {
     "end_time": "2020-08-11T03:35:42.784504Z",
     "start_time": "2020-08-11T03:35:42.703306Z"
    }
   },
   "outputs": [],
   "source": [
    "#plt.plot(np.array(Result_SPSA_ang[:]).T, label='SPSA_ang')\n",
    "#plt.plot(np.array(Result_CSPSA[:]).T,label='CSPSA')\n",
    "#plt.xlim(0,100)\n",
    "#plt.ylim(-7,-4)\n",
    "#plt.legend()"
   ]
  },
  {
   "cell_type": "markdown",
   "metadata": {
    "ExecuteTime": {
     "end_time": "2020-08-04T15:29:29.513313Z",
     "start_time": "2020-08-04T15:29:29.424913Z"
    }
   },
   "source": [
    "# numero de realizaciones para promediar\n",
    "\n",
    "num = 5\n",
    "\n",
    "\n",
    "x = range(0,num)\n",
    "y = len(x)\n"
   ]
  },
  {
   "cell_type": "markdown",
   "metadata": {
    "ExecuteTime": {
     "end_time": "2020-08-04T15:29:29.587177Z",
     "start_time": "2020-08-04T15:29:29.522215Z"
    }
   },
   "source": [
    "def multiprocessing_func(i):\n",
    "    \n",
    "    Result_CSPSA_ar = np.empty((0,1,NU_IT), dtype=np.single)\n",
    "    Result_SPSA_ar = np.empty((0,1,NU_IT), dtype=np.single)\n",
    "    Result_SPSA_ang_ar = np.empty((0,1,NU_IT), dtype=np.single)\n",
    "\n",
    "    error_CSPSA_ar = np.empty((0,1,NU_IT), dtype=np.single)\n",
    "    error_SPSA_ar = np.empty((0,1,NU_IT), dtype=np.single)\n",
    "    error_SPSA_ang_ar = np.empty((0,1,NU_IT), dtype=np.single)\n",
    "     \n",
    "    psi_est = estado(d,nu_par)\n",
    "    Result_CSPSA = CSPSA2(psi_est, NU_IT, fun, fun, s, t, A, b)\n",
    "    Result_SPSA = SPSA2(psi_est, NU_IT, fun, fun, s, t, A, b)\n",
    "    Result_SPSA_ang = SPSA_ang2(psi_est, NU_IT, fun, fun, s, t, A, b)\n",
    "    \n",
    "    error_CSPSA = abs(Result_CSPSA - Ground_teo)\n",
    "    error_SPSA = abs(Result_SPSA - Ground_teo)\n",
    "    error_SPSA_ang = abs(Result_SPSA_ang - Ground_teo)\n",
    "    \n",
    "    Result_CSPSA_ar = np.insert(Result_CSPSA_ar, 0, Result_CSPSA, axis=0)\n",
    "    Result_SPSA_ar = np.insert(Result_SPSA_ar, 0, Result_SPSA, axis=0)\n",
    "    Result_SPSA_ang_ar = np.insert(Result_SPSA_ang_ar, 0, Result_SPSA_ang, axis=0)\n",
    "    \n",
    "    error_CSPSA_ar = np.insert(error_CSPSA_ar, 0, error_CSPSA, axis=0)\n",
    "    error_SPSA_ar = np.insert(error_SPSA_ar, 0, error_SPSA, axis=0)\n",
    "    error_SPSA_ang_ar = np.insert(error_SPSA_ang_ar, 0, error_SPSA_ang, axis=0)\n",
    "    \n",
    "    return Result_CSPSA_ar, Result_SPSA_ar, Result_SPSA_ang_ar, error_CSPSA_ar, error_SPSA_ar, error_SPSA_ang_ar"
   ]
  },
  {
   "cell_type": "markdown",
   "metadata": {
    "ExecuteTime": {
     "end_time": "2020-08-04T15:29:36.268353Z",
     "start_time": "2020-08-04T15:29:29.603535Z"
    }
   },
   "source": [
    "if __name__ == '__main__':\n",
    "    \n",
    "    pool = multiprocessing.Pool(2)\n",
    "    p = pool.map(multiprocessing_func, x, 2)\n",
    "    pool.close()\n",
    "    pool.join()\n",
    "    "
   ]
  },
  {
   "cell_type": "markdown",
   "metadata": {
    "ExecuteTime": {
     "end_time": "2020-08-04T15:29:36.294304Z",
     "start_time": "2020-08-04T15:29:36.280028Z"
    }
   },
   "source": [
    "Results = np.array(p)"
   ]
  },
  {
   "cell_type": "markdown",
   "metadata": {
    "ExecuteTime": {
     "end_time": "2020-08-04T15:29:36.402708Z",
     "start_time": "2020-08-04T15:29:36.303373Z"
    }
   },
   "source": [
    "Result_CSPSA_ar = Results[:,0,:,:,:]\n",
    "Result_SPSA_ar = Results[:,1,:,:,:]\n",
    "Result_SPSA_ang_ar = Results[:,2,:,:,:]\n",
    "\n",
    "error_CSPSA_ar = Results[:,3,:,:,:]\n",
    "error_SPSA_ar = Results[:,4,:,:,:]\n",
    "error_SPSA_ang_ar = Results[:,5,:,:,:]"
   ]
  },
  {
   "cell_type": "markdown",
   "metadata": {
    "ExecuteTime": {
     "end_time": "2020-08-04T15:29:36.469320Z",
     "start_time": "2020-08-04T15:29:36.415872Z"
    }
   },
   "source": [
    "Result_CSPSA_pro = np.sum(Result_CSPSA_ar, axis=0)/y\n",
    "Result_SPSA_pro = np.sum(Result_SPSA_ar, axis=0)/y\n",
    "Result_SPSA_ang_pro = np.sum(Result_SPSA_ang_ar, axis=0)/y\n",
    "error_CSPSA_pro = np.sum(error_CSPSA_ar, axis=0)/y\n",
    "error_SPSA_pro = np.sum(error_SPSA_ar, axis=0)/y\n",
    "error_SPSA_ang_pro = np.sum(error_SPSA_ang_ar, axis=0)/y\n"
   ]
  },
  {
   "cell_type": "markdown",
   "metadata": {
    "ExecuteTime": {
     "end_time": "2020-08-04T15:29:36.570691Z",
     "start_time": "2020-08-04T15:29:36.474681Z"
    }
   },
   "source": [
    "Result_CSPSA = Result_CSPSA_pro[0,0,:]\n",
    "Result_SPSA = Result_SPSA_pro[0,0,:]\n",
    "Result_SPSA_ang = Result_SPSA_ang_pro[0,0,:]\n",
    "error_CSPSA = error_CSPSA_pro[0,0,:]\n",
    "error_SPSA = error_SPSA_pro[0,0,:]\n",
    "error_SPSA_ang = error_SPSA_ang_pro[0,0,:]"
   ]
  },
  {
   "cell_type": "markdown",
   "metadata": {
    "ExecuteTime": {
     "end_time": "2020-08-04T15:29:36.672443Z",
     "start_time": "2020-08-04T15:29:36.575202Z"
    }
   },
   "source": [
    "#plt.loglog(np.array(error_CSPSA_pro[:]).T)"
   ]
  },
  {
   "cell_type": "markdown",
   "metadata": {
    "ExecuteTime": {
     "end_time": "2020-08-04T15:29:36.738408Z",
     "start_time": "2020-08-04T15:29:36.677283Z"
    }
   },
   "source": [
    "#plt.loglog(np.array(error_SPSA_pro[:]).T)"
   ]
  },
  {
   "cell_type": "markdown",
   "metadata": {
    "ExecuteTime": {
     "end_time": "2020-08-04T15:29:36.807122Z",
     "start_time": "2020-08-04T15:29:36.742311Z"
    }
   },
   "source": [
    "#plt.loglog(np.array(error_SPSA_ang_pro[:]).T)"
   ]
  },
  {
   "cell_type": "markdown",
   "metadata": {
    "ExecuteTime": {
     "end_time": "2020-08-04T15:29:38.182597Z",
     "start_time": "2020-08-04T15:29:36.810613Z"
    }
   },
   "source": [
    "plt.loglog(np.array(error_CSPSA[:]).T, label='CSPSA')\n",
    "plt.loglog(np.array(error_SPSA[:]).T, label='SPSA')\n",
    "plt.loglog(np.array(error_SPSA_ang[:]).T, label='SPSA_ang')\n",
    "plt.legend()"
   ]
  },
  {
   "cell_type": "markdown",
   "metadata": {
    "ExecuteTime": {
     "end_time": "2020-08-04T15:29:38.788633Z",
     "start_time": "2020-08-04T15:29:38.191321Z"
    }
   },
   "source": [
    "plt.plot(np.array(Result_CSPSA[:]).T,label='CSPSA')\n",
    "plt.plot(np.array(Result_SPSA[:]).T, label='SPSA')\n",
    "plt.plot(np.array(Result_SPSA_ang[:]).T, label='SPSA_ang')\n",
    "\n",
    "plt.xlim(0,100)\n",
    "#plt.ylim(-6.5,-4)\n",
    "plt.legend()"
   ]
  },
  {
   "cell_type": "markdown",
   "metadata": {
    "ExecuteTime": {
     "end_time": "2020-08-04T15:29:38.813853Z",
     "start_time": "2020-08-04T15:29:38.802896Z"
    },
    "scrolled": true
   },
   "source": [
    "#np.savetxt('prueba.txt', Result_SPSA, delimiter=',')\n",
    "#print(Result_SPSA)"
   ]
  },
  {
   "cell_type": "markdown",
   "metadata": {
    "ExecuteTime": {
     "end_time": "2020-08-04T15:29:39.283790Z",
     "start_time": "2020-08-04T15:29:38.819075Z"
    }
   },
   "source": [
    "#np.savetxt('prueba.txt', Result_CSPSA, delimiter=',')\n",
    "#print(Result_CSPSA)"
   ]
  },
  {
   "cell_type": "markdown",
   "metadata": {
    "ExecuteTime": {
     "end_time": "2020-08-04T15:29:39.363315Z",
     "start_time": "2020-08-04T15:29:39.289033Z"
    }
   },
   "source": [
    "#np.savetxt('prueba.txt', Result_SPSA_ang, delimiter=',')\n",
    "#print(Result_SPSA_ang)"
   ]
  }
 ],
 "metadata": {
  "kernelspec": {
   "display_name": "Python 3",
   "language": "python",
   "name": "python3"
  },
  "language_info": {
   "codemirror_mode": {
    "name": "ipython",
    "version": 3
   },
   "file_extension": ".py",
   "mimetype": "text/x-python",
   "name": "python",
   "nbconvert_exporter": "python",
   "pygments_lexer": "ipython3",
   "version": "3.6.10"
  }
 },
 "nbformat": 4,
 "nbformat_minor": 4
}
