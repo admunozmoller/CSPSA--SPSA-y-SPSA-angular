{
 "cells": [
  {
   "cell_type": "code",
   "execution_count": 2,
   "metadata": {
    "ExecuteTime": {
     "end_time": "2020-08-22T05:54:35.829460Z",
     "start_time": "2020-08-22T05:54:31.882825Z"
    }
   },
   "outputs": [],
   "source": [
    "import numpy as np\n",
    "import matplotlib.pyplot as plt\n",
    "import time\n",
    "import multiprocessing \n",
    "%run Funciones_CSPSA_SPSA.ipynb\n",
    "%matplotlib inline"
   ]
  },
  {
   "cell_type": "code",
   "execution_count": 3,
   "metadata": {
    "ExecuteTime": {
     "end_time": "2020-08-22T05:54:35.847430Z",
     "start_time": "2020-08-22T05:54:35.832257Z"
    }
   },
   "outputs": [],
   "source": [
    "d = 2\n",
    "nu_par = 1\n",
    "NU_ITERACIONES = 300\n",
    "\n",
    "A = np.sqrt(0.3)\n",
    "B = np.sqrt(0.2)\n",
    "C = np.sqrt(0.5)\n",
    "#A = 1\n",
    "#B = 3\n",
    "#C = 5"
   ]
  },
  {
   "cell_type": "code",
   "execution_count": 4,
   "metadata": {
    "ExecuteTime": {
     "end_time": "2020-08-22T05:54:35.972923Z",
     "start_time": "2020-08-22T05:54:35.860471Z"
    }
   },
   "outputs": [],
   "source": [
    "psi_est = estado(d,nu_par)\n"
   ]
  },
  {
   "cell_type": "code",
   "execution_count": 5,
   "metadata": {
    "ExecuteTime": {
     "end_time": "2020-08-22T05:54:36.155201Z",
     "start_time": "2020-08-22T05:54:35.977321Z"
    },
    "scrolled": true
   },
   "outputs": [],
   "source": [
    "H = H_paul(A,B,C)\n"
   ]
  },
  {
   "cell_type": "code",
   "execution_count": 6,
   "metadata": {
    "ExecuteTime": {
     "end_time": "2020-08-22T05:54:36.283114Z",
     "start_time": "2020-08-22T05:54:36.172676Z"
    }
   },
   "outputs": [],
   "source": [
    "fun = lambda x : exp_H(x, H)"
   ]
  },
  {
   "cell_type": "code",
   "execution_count": 7,
   "metadata": {
    "ExecuteTime": {
     "end_time": "2020-08-22T05:54:36.545952Z",
     "start_time": "2020-08-22T05:54:36.287412Z"
    }
   },
   "outputs": [],
   "source": [
    "# Autovalores Teórico\n",
    "\n",
    "E = A**2 + B**2 + C**2\n",
    "\n",
    "Emas = np.sqrt(E)\n",
    "\n",
    "Emen = -np.sqrt(E)\n",
    "\n",
    "# Autovectores\n",
    "\n",
    "#c1mas = np.sqrt(1/2) * np.sqrt((A**2+B**2)/(E+C*(np.sqrt(E))))\n",
    "c2mas = (C+np.sqrt(E))/(A+1j*B)\n",
    "\n",
    "#c1men = np.sqrt(1/2) * np.sqrt((A**2+B**2)/(E-C*(np.sqrt(E))))\n",
    "c2men = (C-np.sqrt(E))/(A+1j*B)\n",
    "\n",
    "Pma = np.matrix([[c2mas], [1]])\n",
    "Pme = np.matrix([[c2men], [1]])\n",
    "\n",
    "Pmas = Pma/np.linalg.norm(Pma, axis=0)\n",
    "Pmen = Pme/np.linalg.norm(Pme, axis=0)\n",
    "\n",
    "Pmas_dag = Pmas.getH()\n",
    "Pmen_dag = Pmen.getH()\n",
    "\n",
    "# Haniltonian diagonalizado\n",
    "\n",
    "diag_H = Emas*Pmas*Pmas_dag + Emen*Pmen*Pmen_dag"
   ]
  },
  {
   "cell_type": "code",
   "execution_count": 9,
   "metadata": {
    "ExecuteTime": {
     "end_time": "2020-08-22T05:54:36.856779Z",
     "start_time": "2020-08-22T05:54:36.750794Z"
    }
   },
   "outputs": [],
   "source": [
    "fun2 = lambda x : diag_expH(x, Emas, Emen, Pmas, Pmen)"
   ]
  },
  {
   "cell_type": "code",
   "execution_count": 10,
   "metadata": {
    "ExecuteTime": {
     "end_time": "2020-08-22T05:54:36.992559Z",
     "start_time": "2020-08-22T05:54:36.859307Z"
    }
   },
   "outputs": [
    {
     "data": {
      "text/plain": [
       "matrix([[-0.71477187]])"
      ]
     },
     "execution_count": 10,
     "metadata": {},
     "output_type": "execute_result"
    }
   ],
   "source": [
    "fun(psi_est)"
   ]
  },
  {
   "cell_type": "code",
   "execution_count": 11,
   "metadata": {
    "ExecuteTime": {
     "end_time": "2020-08-22T05:54:37.068507Z",
     "start_time": "2020-08-22T05:54:37.004863Z"
    }
   },
   "outputs": [
    {
     "data": {
      "text/plain": [
       "matrix([[-0.71477187]])"
      ]
     },
     "execution_count": 11,
     "metadata": {},
     "output_type": "execute_result"
    }
   ],
   "source": [
    "fun2(psi_est)"
   ]
  },
  {
   "cell_type": "code",
   "execution_count": 71,
   "metadata": {
    "ExecuteTime": {
     "end_time": "2020-08-22T06:21:44.126417Z",
     "start_time": "2020-08-22T06:21:44.109923Z"
    }
   },
   "outputs": [
    {
     "data": {
      "text/plain": [
       "0.14261406681398991"
      ]
     },
     "execution_count": 71,
     "metadata": {},
     "output_type": "execute_result"
    }
   ],
   "source": [
    "prob_mas = prob(Pmas, psi_est)\n",
    "prob_mas = float(prob_mas)\n",
    "prob_mas"
   ]
  },
  {
   "cell_type": "code",
   "execution_count": 72,
   "metadata": {
    "ExecuteTime": {
     "end_time": "2020-08-22T06:21:44.648358Z",
     "start_time": "2020-08-22T06:21:44.393884Z"
    }
   },
   "outputs": [
    {
     "data": {
      "text/plain": [
       "0.8573859331860102"
      ]
     },
     "execution_count": 72,
     "metadata": {},
     "output_type": "execute_result"
    }
   ],
   "source": [
    "prob_men = prob(Pmen, psi_est)\n",
    "prob_men = float(prob_men)\n",
    "prob_men"
   ]
  },
  {
   "cell_type": "code",
   "execution_count": 73,
   "metadata": {
    "ExecuteTime": {
     "end_time": "2020-08-22T06:21:44.780137Z",
     "start_time": "2020-08-22T06:21:44.768653Z"
    }
   },
   "outputs": [],
   "source": [
    "# Numero de samples\n",
    "N = 100\n"
   ]
  },
  {
   "cell_type": "code",
   "execution_count": 74,
   "metadata": {
    "ExecuteTime": {
     "end_time": "2020-08-22T06:21:45.223035Z",
     "start_time": "2020-08-22T06:21:45.211664Z"
    }
   },
   "outputs": [],
   "source": [
    "binomial = np.random.binomial(n=N, p=prob_men)\n",
    "p1 = binomial/N"
   ]
  },
  {
   "cell_type": "code",
   "execution_count": 75,
   "metadata": {
    "ExecuteTime": {
     "end_time": "2020-08-22T06:21:47.872244Z",
     "start_time": "2020-08-22T06:21:47.857806Z"
    }
   },
   "outputs": [
    {
     "data": {
      "text/plain": [
       "81"
      ]
     },
     "execution_count": 75,
     "metadata": {},
     "output_type": "execute_result"
    }
   ],
   "source": [
    "binomial"
   ]
  },
  {
   "cell_type": "code",
   "execution_count": 50,
   "metadata": {
    "ExecuteTime": {
     "end_time": "2020-08-22T06:10:35.818253Z",
     "start_time": "2020-08-22T06:10:35.761609Z"
    }
   },
   "outputs": [
    {
     "ename": "SyntaxError",
     "evalue": "can't use starred expression here (<ipython-input-50-dc3823021b9f>, line 4)",
     "output_type": "error",
     "traceback": [
      "\u001b[0;36m  File \u001b[0;32m\"<ipython-input-50-dc3823021b9f>\"\u001b[0;36m, line \u001b[0;32m4\u001b[0m\n\u001b[0;31mSyntaxError\u001b[0m\u001b[0;31m:\u001b[0m can't use starred expression here\n"
     ]
    }
   ],
   "source": [
    "*Np2"
   ]
  },
  {
   "cell_type": "code",
   "execution_count": null,
   "metadata": {},
   "outputs": [],
   "source": []
  }
 ],
 "metadata": {
  "kernelspec": {
   "display_name": "Python 3",
   "language": "python",
   "name": "python3"
  },
  "language_info": {
   "codemirror_mode": {
    "name": "ipython",
    "version": 3
   },
   "file_extension": ".py",
   "mimetype": "text/x-python",
   "name": "python",
   "nbconvert_exporter": "python",
   "pygments_lexer": "ipython3",
   "version": "3.6.10"
  }
 },
 "nbformat": 4,
 "nbformat_minor": 4
}
