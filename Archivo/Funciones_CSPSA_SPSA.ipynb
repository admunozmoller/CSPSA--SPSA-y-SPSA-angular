{
 "cells": [
  {
   "cell_type": "code",
   "execution_count": 1,
   "metadata": {
    "ExecuteTime": {
     "end_time": "2020-08-25T16:03:42.413249Z",
     "start_time": "2020-08-25T16:03:41.320084Z"
    }
   },
   "outputs": [],
   "source": [
    "import numpy as np\n",
    "import matplotlib.pyplot as plt\n",
    "%matplotlib inline"
   ]
  },
  {
   "cell_type": "code",
   "execution_count": 1,
   "metadata": {
    "ExecuteTime": {
     "end_time": "2020-09-07T01:36:28.590816Z",
     "start_time": "2020-09-07T01:36:28.572930Z"
    }
   },
   "outputs": [],
   "source": [
    "def CSPSA(psi_est, nu_ite, fun_teor, fun, s, t, a, A, b):\n",
    "    \"\"\"\n",
    "    CSPSA\n",
    "    IN\n",
    "        psi_est: dim x n_par matrix. dim is de dimension of each vector, and n_par\n",
    "                the number of guesses in parallel.\n",
    "        nu_ite: int. Number of iterations of CSPSA.\n",
    "        fun_teor: function. It is the known function, for example, the theoretical\n",
    "                 fidelity between the unknown state of the system and the guess.\n",
    "        fun: function. CSPSA uses this function for the optimization.\n",
    "        s, t, a, A, b: parametros CSPSA\n",
    "    OUT\n",
    "        valor_optimo: real. Optimal value of fun finded by CSPSA.\n",
    "    \"\"\"\n",
    "\n",
    "    n_par = int(psi_est.size/psi_est.shape[0])\n",
    "    valor_optimo = np.zeros((n_par, nu_ite))\n",
    "    valor_optimo[:,0] = fun_teor(psi_est)\n",
    "\n",
    "    for k in range(0,nu_ite-1):\n",
    "        valor_optimo[:,k+1], psi_est = (itCSPSA(psi_est/np.linalg.norm(psi_est, axis = 0),\n",
    "                                       k, s, t, a, A, b, fun, fun_teor ))\n",
    "\n",
    "    return valor_optimo, psi_est"
   ]
  },
  {
   "cell_type": "code",
   "execution_count": 2,
   "metadata": {
    "ExecuteTime": {
     "end_time": "2020-09-07T01:36:29.207493Z",
     "start_time": "2020-09-07T01:36:28.975307Z"
    }
   },
   "outputs": [],
   "source": [
    "def itCSPSA(z_k,  k, s, t, a, A, b, fun, fun_teor):\n",
    "    \"\"\"iteracion de CSPSA\n",
    "    IN\n",
    "        z_k: dim x n_rep. Cada columna es un estimador de dimension dim.\n",
    "        k: iteracion\n",
    "        s, t, a, A, b: parametros CSPSA\n",
    "        fun: funcion a optimizar\n",
    "    OUT\n",
    "        z_k: dim x n_rep. Estimador actualizado\n",
    "        z_value: real. valor de fun en el estimador z_k\n",
    "    \"\"\"\n",
    "    dim = z_k.shape[0]\n",
    "    rep = int(z_k.size/z_k.shape[0])\n",
    "    alpha = a/(k+1+A)**s\n",
    "    beta = b/(k+1)**t\n",
    "    delta = (1j)**(np.random.randint(1,5,(dim, rep))).reshape(2,rep)\n",
    "    z_k_mas = z_k + beta*delta\n",
    "    z_k_menos = z_k - beta*delta\n",
    "    fun_k_mas = fun(z_k_mas)\n",
    "    fun_k_menos = fun(z_k_menos)\n",
    "    grad = np.divide(fun_k_mas - fun_k_menos, 2*beta*delta.conj())\n",
    "    z_k = z_k - alpha*grad\n",
    "    z_value = fun_teor(z_k)\n",
    "    return z_value, z_k"
   ]
  },
  {
   "cell_type": "code",
   "execution_count": 3,
   "metadata": {
    "ExecuteTime": {
     "end_time": "2020-09-07T01:36:29.526174Z",
     "start_time": "2020-09-07T01:36:29.509487Z"
    }
   },
   "outputs": [],
   "source": [
    "def SPSA(psi_est, nu_ite, fun_teor, fun, s, t, a, A, b):\n",
    "    \"\"\"\n",
    "    SPSA\n",
    "    IN\n",
    "        psi_est: dim x n_par matrix. dim is de dimension of each vector, and n_par\n",
    "                the number of guesses in parallel.\n",
    "        nu_ite: int. Number of iterations of SPSA.\n",
    "        fun_teor: function. It is the known function, for example, the theoretical\n",
    "                 fidelity between the unknown state of the system and the guess.\n",
    "        fun: function. SPSA uses this function for the optimization.\n",
    "        s, t, a, A, b: parametros SPSA\n",
    "    OUT\n",
    "        valor_optimo: real. Optimal value of fun finded by SPSA.\n",
    "    \"\"\"\n",
    "\n",
    "    n_par = int(psi_est.size/psi_est.shape[0])\n",
    "    valor_optimo = np.zeros((n_par, nu_ite))\n",
    "    valor_optimo[:,0] = fun_teor(psi_est)\n",
    "\n",
    "    for k in range(0,nu_ite-1):\n",
    "        valor_optimo[:,k+1], psi_est = (itSPSA(psi_est/np.linalg.norm(psi_est, axis = 0),\n",
    "                                       k, s, t, a, A, b, fun, fun_teor ))\n",
    "\n",
    "\n",
    "    return valor_optimo"
   ]
  },
  {
   "cell_type": "code",
   "execution_count": 4,
   "metadata": {
    "ExecuteTime": {
     "end_time": "2020-09-07T01:36:30.069463Z",
     "start_time": "2020-09-07T01:36:30.049757Z"
    }
   },
   "outputs": [],
   "source": [
    "def itSPSA(z_k,  k, s, t, a, A, b, fun, fun_teor):\n",
    "    \"\"\"iteracion de SPSA\n",
    "    IN\n",
    "        z_k: dim x n_rep. Cada columna es un estimador de dimension dim.\n",
    "        k: iteracion\n",
    "        s, t, a, A, b: parametros SPSA\n",
    "        fun: funcion a optimizar\n",
    "    OUT\n",
    "        z_k: dim x n_rep. Estimador actualizado\n",
    "        z_value: real. valor de fun en el estimador z_k\n",
    "    \"\"\"\n",
    "    dim = z_k.shape[0]\n",
    "    rep = int(z_k.size/z_k.shape[0])\n",
    "    alpha = a/(k+1+A)**s\n",
    "    beta = b/(k+1)**t\n",
    "    \n",
    "    #Cambiamos un delta complejo por uno real (+1,-1)\n",
    "    \n",
    "    delta = (-1)**(np.random.randint(1,5,(dim, rep))).reshape(2,rep)\n",
    "    delta_i = (-1)**(np.random.randint(1,5,(dim, rep))).reshape(2,rep)\n",
    "    \n",
    "    #Definimos parte real e imaginaria\n",
    "    \n",
    "    z_k_mas_r = np.real(z_k) + beta*delta\n",
    "    z_k_menos_r = np.real(z_k) - beta*delta\n",
    "    \n",
    "    z_k_mas_i = np.imag(z_k) + beta*delta_i\n",
    "    z_k_menos_i = np.imag(z_k) - beta*delta_i\n",
    "    \n",
    "\n",
    "    #Nuevo estado, normalizado\n",
    "    \n",
    "    z_k_mas = z_k_mas_r +1j*z_k_mas_i\n",
    "    z_k_menos = z_k_menos_r+1j*z_k_menos_i\n",
    "    \n",
    "    z_k_mas = z_k_mas/np.linalg.norm(z_k_mas, axis=0)\n",
    "    z_k_menos = z_k_menos/np.linalg.norm(z_k_menos, axis=0)\n",
    "    \n",
    "    fun_k_mas = fun(z_k_mas)\n",
    "    fun_k_menos = fun(z_k_menos)\n",
    "    \n",
    "    #Gradiente real e imaginaria\n",
    "    \n",
    "    grad = np.divide(fun_k_mas - fun_k_menos, 2*beta*delta)\n",
    "    grad_i = np.divide(fun_k_mas - fun_k_menos, 2*beta*delta_i)\n",
    "    \n",
    "    z_k = z_k - alpha*grad - 1j*alpha*grad_i\n",
    "    z_k = z_k/np.linalg.norm(z_k, axis=0)\n",
    "    \n",
    "    z_value = fun_teor(z_k)\n",
    "    return z_value, z_k"
   ]
  },
  {
   "cell_type": "code",
   "execution_count": 6,
   "metadata": {
    "ExecuteTime": {
     "end_time": "2020-08-25T16:03:43.818857Z",
     "start_time": "2020-08-25T16:03:43.750749Z"
    }
   },
   "outputs": [],
   "source": [
    "def SPSA_ang(psi_est, nu_ite, fun_teor, fun, s, t, a, A, b):\n",
    "    \"\"\"\n",
    "    SPSA\n",
    "    IN\n",
    "        psi_est: dim x n_par matrix. dim is de dimension of each vector, and n_par\n",
    "                the number of guesses in parallel.\n",
    "        nu_ite: int. Number of iterations of SPSA.\n",
    "        fun_teor: function. It is the known function, for example, the theoretical\n",
    "                 fidelity between the unknown state of the system and the guess.\n",
    "        fun: function. SPSA uses this function for the optimization.\n",
    "        s, t, a, A, b: parametros SPSA\n",
    "    OUT\n",
    "        valor_optimo: real. Optimal value of fun finded by SPSA.\n",
    "    \"\"\"\n",
    "\n",
    "    n_par = int(psi_est.size/psi_est.shape[0])\n",
    "    valor_optimo = np.zeros((n_par, nu_ite))\n",
    "    valor_optimo[:,0] = fun_teor(psi_est)\n",
    "\n",
    "    for k in range(0,nu_ite-1):\n",
    "        valor_optimo[:,k+1], psi_est = (itSPSA_ang(psi_est/np.linalg.norm(psi_est, axis = 0),\n",
    "                                       k, s, t, a, A, b, fun, fun_teor ))\n",
    "\n",
    "\n",
    "    return valor_optimo"
   ]
  },
  {
   "cell_type": "code",
   "execution_count": 7,
   "metadata": {
    "ExecuteTime": {
     "end_time": "2020-08-25T16:03:43.958326Z",
     "start_time": "2020-08-25T16:03:43.855189Z"
    }
   },
   "outputs": [],
   "source": [
    "def itSPSA_ang(z_k, k, s, t, a, A, b, fun, fun_teor):\n",
    "    \"\"\"iteracion de SPSA\n",
    "    IN\n",
    "        z_k: dim x n_rep. Cada columna es un estimador de dimension dim.\n",
    "        k: iteracion\n",
    "        s, t, a, A, b: parametros SPSA\n",
    "        fun: funcion a optimizar\n",
    "    OUT\n",
    "        z_k: dim x n_rep. Estimador actualizado\n",
    "        z_value: real. valor de fun en el estimador z_k\n",
    "    \"\"\"\n",
    "    \n",
    "    alpha = a/(k+1+A)**s\n",
    "    beta = b/(k+1)**t\n",
    "    \n",
    "    # Definir deltas para cada variable\n",
    "    \n",
    "    delta_t = (-1)**(np.random.randint(1,5))\n",
    "    delta_p = (-1)**(np.random.randint(1,5))\n",
    "    \n",
    "    #obtener theta y phase\n",
    "    \n",
    "    z1 = z_k[0]\n",
    "    r1 = np.absolute(z1)\n",
    "    phi1 = np.angle(z1)\n",
    "\n",
    "    z2 = z_k[1]\n",
    "    r2 = np.absolute(z2)\n",
    "    phi2 = np.angle(z2)\n",
    "\n",
    "    R = np.divide(r2,r1)\n",
    "\n",
    "    phase = float(phi2-phi1)\n",
    "    theta = float(np.arctan(R))\n",
    "\n",
    "    #sumamos y restamos delta\n",
    "    \n",
    "    theta_mas = theta + beta*delta_t\n",
    "    theta_menos = theta - beta*delta_t\n",
    "    \n",
    "    phase_mas = phase + beta*delta_p\n",
    "    phase_menos = phase - beta*delta_p\n",
    "    \n",
    "    # formamos estados normalizados para cada par theta,phase\n",
    "    \n",
    "    a1_mas = np.cos(theta_mas)\n",
    "    a2_mas = np.sin(theta_mas)*(np.cos(phase_mas)+1j*np.sin(phase_mas))\n",
    "    \n",
    "    a1_menos = np.cos(theta_menos)\n",
    "    a2_menos = np.sin(theta_menos)*(np.cos(phase_menos)+1j*np.sin(phase_menos))\n",
    "\n",
    "    psi_bloch_mas = np.array([[a1_mas],[a2_mas]])\n",
    "    psi_bloch_menos = np.array([[a1_menos],[a2_menos]])\n",
    "    \n",
    "    psi_bloch_mas = psi_bloch_mas/np.linalg.norm(psi_bloch_mas, axis=0)\n",
    "    psi_bloch_menos = psi_bloch_menos/np.linalg.norm(psi_bloch_menos, axis=0)\n",
    "    \n",
    "    fun_k_mas = fun(psi_bloch_mas)\n",
    "    fun_k_menos = fun(psi_bloch_menos)\n",
    "    \n",
    "   \n",
    "    #Gradiente para ambas variables\n",
    "    \n",
    "    grad_t = np.divide(fun_k_mas - fun_k_menos, 2*beta*delta_t)\n",
    "    grad_p = np.divide(fun_k_mas - fun_k_menos, 2*beta*delta_p)\n",
    "    \n",
    "    theta = theta - alpha*float(grad_t)\n",
    "    phase = phase - alpha*float(grad_p)\n",
    "    \n",
    "    a1 = np.cos(theta)\n",
    "    a2 = np.sin(theta)*(np.cos(phase)+1j*np.sin(phase))\n",
    "\n",
    "    z_k = np.array([[a1],[a2]])\n",
    "    z_k = z_k/np.linalg.norm(z_k, axis=0)\n",
    "    \n",
    "    z_value = fun_teor(z_k)\n",
    "    return z_value, z_k"
   ]
  },
  {
   "cell_type": "code",
   "execution_count": 8,
   "metadata": {
    "ExecuteTime": {
     "end_time": "2020-08-25T16:03:44.065022Z",
     "start_time": "2020-08-25T16:03:43.972151Z"
    }
   },
   "outputs": [],
   "source": [
    "# Definir Estado\n",
    "\n",
    "def estado(dim, n_par):\n",
    "    psi = (np.random.normal(loc=0.0, scale=1.0,\n",
    "           size=(dim, n_par))\n",
    "           + np.random.normal(loc=0.0, scale=1.0,\n",
    "           size=(dim, n_par))*1j)\n",
    "    psi = psi/np.linalg.norm(psi, axis=0)\n",
    "    return psi"
   ]
  },
  {
   "cell_type": "code",
   "execution_count": 9,
   "metadata": {
    "ExecuteTime": {
     "end_time": "2020-08-25T16:03:44.126667Z",
     "start_time": "2020-08-25T16:03:44.093829Z"
    }
   },
   "outputs": [],
   "source": [
    "# Estado en representacion de Bloch\n",
    "\n",
    "def est_bloch(psi_est):\n",
    "    z1 = psi_est[0]\n",
    "    r1 = np.absolute(z1)\n",
    "    phi1 = np.angle(z1)\n",
    "\n",
    "    z2 = psi_est[1]\n",
    "    r2 = np.absolute(z2)\n",
    "    phi2 = np.angle(z2)\n",
    "\n",
    "    R = np.divide(r2,r1)\n",
    "\n",
    "    phase = phi2-phi1\n",
    "    theta = np.arctan(R)\n",
    "\n",
    "    a1 = np.cos(theta)\n",
    "    a2 = np.sin(theta)*(np.cos(phase)+1j*np.sin(phase))\n",
    "\n",
    "    psi_bloch = np.array([a1,a2])\n",
    "    psi_bloch = psi_bloch/np.linalg.norm(psi_bloch, axis=0)\n",
    "    return psi_bloch, phase, theta"
   ]
  },
  {
   "cell_type": "code",
   "execution_count": 10,
   "metadata": {
    "ExecuteTime": {
     "end_time": "2020-08-25T16:03:44.211389Z",
     "start_time": "2020-08-25T16:03:44.136554Z"
    }
   },
   "outputs": [],
   "source": [
    "# Definir Hamiltoniano\n",
    "\n",
    "def H_paul (A,B,C):\n",
    "    pauli_x = np.array((((0, 1), (1, 0))))\n",
    "    pauli_y = np.array((((0, -1j), (1j, 0))))\n",
    "    pauli_z = np.array((((1, 0), (0, -1))))\n",
    "    H_paul = A*pauli_x + B*pauli_y + C*pauli_z\n",
    "    return H_paul"
   ]
  },
  {
   "cell_type": "code",
   "execution_count": 11,
   "metadata": {
    "ExecuteTime": {
     "end_time": "2020-08-25T16:03:44.341575Z",
     "start_time": "2020-08-25T16:03:44.220217Z"
    }
   },
   "outputs": [],
   "source": [
    "# Definir Valor de expectacion\n",
    "\n",
    "def exp_H (psi_est, H):\n",
    "    psi = np.matrix(psi_est)\n",
    "    psi = psi/np.linalg.norm(psi, axis=0)\n",
    "    psi_dagger = psi.getH()\n",
    "    H = np.matrix(H)\n",
    "    exp_H = psi_dagger*H*psi\n",
    "    \n",
    "    # calculamos valor absoluto, para eliminar parte imaginaria producto de errores\n",
    "    exp_H = np.real(exp_H)\n",
    "    \n",
    "    return exp_H"
   ]
  },
  {
   "cell_type": "code",
   "execution_count": 12,
   "metadata": {
    "ExecuteTime": {
     "end_time": "2020-08-25T16:03:44.428415Z",
     "start_time": "2020-08-25T16:03:44.357082Z"
    }
   },
   "outputs": [],
   "source": [
    "# Calculo de probabilidades\n",
    "\n",
    "def prob (autoestado, psi_est):\n",
    "    psi = np.matrix(psi_est)\n",
    "    psi = psi/np.linalg.norm(psi, axis=0)\n",
    "    \n",
    "    autoestado = np.matrix(autoestado)\n",
    "    autoestado = autoestado/np.linalg.norm(autoestado, axis=0) \n",
    "    \n",
    "    auto_dagg = autoestado.getH()\n",
    "    \n",
    "    prob = abs(auto_dagg*psi)**2\n",
    "    \n",
    "    return prob"
   ]
  },
  {
   "cell_type": "code",
   "execution_count": 13,
   "metadata": {
    "ExecuteTime": {
     "end_time": "2020-08-25T16:03:44.517112Z",
     "start_time": "2020-08-25T16:03:44.431143Z"
    }
   },
   "outputs": [],
   "source": [
    "# Valor de expectacion, pero usando el Hamiltoniano diagonalizado\n",
    "\n",
    "def diag_expH(psi_est, val_p1, val_p2, vec_p1, vec_p2):\n",
    "    prob1 = prob(vec_p1, psi_est)\n",
    "    prob2 = prob(vec_p2, psi_est)\n",
    "    exp_H = val_p1 * prob1 + val_p2 * prob2\n",
    "    \n",
    "    return exp_H"
   ]
  },
  {
   "cell_type": "code",
   "execution_count": 14,
   "metadata": {
    "ExecuteTime": {
     "end_time": "2020-08-25T16:03:44.610439Z",
     "start_time": "2020-08-25T16:03:44.532363Z"
    }
   },
   "outputs": [],
   "source": [
    "# Valor de expectacion, pero usando el Hamiltoniano diagonalizado, y usando N samples\n",
    "\n",
    "def sim_expH(psi_est, val_p1, val_p2, vec_p1, vec_p2, N):\n",
    "    \n",
    "    prob1 = prob(vec_p1, psi_est)\n",
    "    prob1 = float(prob1)\n",
    "    \n",
    "    prob2 = prob(vec_p2, psi_est)\n",
    "    prob2 = float(prob2)\n",
    "    \n",
    "    binomial = np.random.binomial(n=N, p=prob1)\n",
    "    p1 = binomial/N\n",
    "    p2 = 1.0-p1\n",
    "    \n",
    "    exp_H = val_p1 * p1 + val_p2 * p2\n",
    "    \n",
    "    return exp_H"
   ]
  },
  {
   "cell_type": "markdown",
   "metadata": {},
   "source": [
    "# Proyectores al cuadrado\n",
    "\n",
    "def proy (autoestado, psi_est):\n",
    "    psi = np.matrix(psi_est)\n",
    "    psi = psi/np.linalg.norm(psi, axis=0)\n",
    "    \n",
    "    autoestado = np.matrix(autoestado)\n",
    "    autoestado = autoestado/np.linalg.norm(autoestado, axis=0) \n",
    "    \n",
    "    auto_dagg = autoestado.getH()\n",
    "    \n",
    "    proy = abs(auto_dagg*psi)**2\n",
    "    \n",
    "    return proy"
   ]
  },
  {
   "cell_type": "code",
   "execution_count": 15,
   "metadata": {
    "ExecuteTime": {
     "end_time": "2020-08-25T16:03:44.693283Z",
     "start_time": "2020-08-25T16:03:44.622597Z"
    }
   },
   "outputs": [],
   "source": [
    "def ganancia_a_CSPSA(z_k, l, fun, t, b):\n",
    "    \n",
    "    \n",
    "    dim = z_k.shape[0]\n",
    "    rep = int(z_k.size/z_k.shape[0])\n",
    "    beta = b/(1)**t\n",
    "    diff = np.empty((l,1,1), dtype=np.single)\n",
    "    \n",
    "    for i in range(0,l):\n",
    "    \n",
    "        delta = (1j)**(np.random.randint(1,5,(dim, rep))).reshape(2,rep)\n",
    "        z_k_mas = z_k + beta*delta\n",
    "        z_k_menos = z_k - beta*delta\n",
    "        \n",
    "        fun_k_mas = fun(z_k_mas)\n",
    "        fun_k_menos = fun(z_k_menos)\n",
    "        \n",
    "        diff[i] = abs(fun_k_mas-fun_k_menos)    \n",
    "        \n",
    "    prom = np.sum(diff, axis=0)/l\n",
    "    \n",
    "    a_arr = np.divide(2*np.pi*b, 5*prom)\n",
    "    a_CSPSA = float(a_arr[0])\n",
    "    \n",
    "    return a_CSPSA"
   ]
  },
  {
   "cell_type": "code",
   "execution_count": 16,
   "metadata": {
    "ExecuteTime": {
     "end_time": "2020-08-25T16:03:44.803704Z",
     "start_time": "2020-08-25T16:03:44.697894Z"
    }
   },
   "outputs": [],
   "source": [
    "def ganancia_a_SPSA(z_k, l, fun, t, b):\n",
    "    \n",
    "    \n",
    "    dim = z_k.shape[0]\n",
    "    rep = int(z_k.size/z_k.shape[0])\n",
    "    beta = b/(1)**t\n",
    "    diff = np.empty((l,1,1), dtype=np.single)\n",
    "    \n",
    "    for i in range(0,l):\n",
    "    \n",
    "        delta = (-1)**(np.random.randint(1,5,(dim, rep))).reshape(2,rep)\n",
    "        delta_i = (-1)**(np.random.randint(1,5,(dim, rep))).reshape(2,rep)\n",
    "    \n",
    "        #Definimos parte real e imaginaria\n",
    "    \n",
    "        z_k_mas_r = np.real(z_k) + beta*delta\n",
    "        z_k_menos_r = np.real(z_k) - beta*delta\n",
    "    \n",
    "        z_k_mas_i = np.imag(z_k) + beta*delta_i\n",
    "        z_k_menos_i = np.imag(z_k) - beta*delta_i\n",
    "    \n",
    "\n",
    "        #Nuevo estado, normalizado\n",
    "    \n",
    "        z_k_mas = z_k_mas_r +1j*z_k_mas_i\n",
    "        z_k_menos = z_k_menos_r+1j*z_k_menos_i\n",
    "    \n",
    "        z_k_mas = z_k_mas/np.linalg.norm(z_k_mas, axis=0)\n",
    "        z_k_menos = z_k_menos/np.linalg.norm(z_k_menos, axis=0)\n",
    "    \n",
    "        fun_k_mas = fun(z_k_mas)\n",
    "        fun_k_menos = fun(z_k_menos)\n",
    "        \n",
    "        diff[i] = abs(fun_k_mas-fun_k_menos)    \n",
    "        \n",
    "    prom = np.sum(diff, axis=0)/l\n",
    "    \n",
    "    a_arr = np.divide(2*np.pi*b, 5*prom)\n",
    "    a_SPSA = float(a_arr[0])\n",
    "    \n",
    "    return a_SPSA"
   ]
  },
  {
   "cell_type": "code",
   "execution_count": 17,
   "metadata": {
    "ExecuteTime": {
     "end_time": "2020-08-25T16:03:44.890198Z",
     "start_time": "2020-08-25T16:03:44.818936Z"
    }
   },
   "outputs": [],
   "source": [
    "def ganancia_a_SPSA_ang(z_k, l, fun, t, b):\n",
    "    \n",
    "    \n",
    "    dim = z_k.shape[0]\n",
    "    rep = int(z_k.size/z_k.shape[0])\n",
    "    beta = b/(1)**t\n",
    "    diff = np.empty((l,1,1), dtype=np.single)\n",
    "    \n",
    "    for i in range(0,l):\n",
    "    \n",
    "        # Definir deltas para cada variable\n",
    "    \n",
    "        delta_t = (-1)**(np.random.randint(1,5))\n",
    "        delta_p = (-1)**(np.random.randint(1,5))\n",
    "    \n",
    "        #obtener theta y phase\n",
    "    \n",
    "        z1 = z_k[0]\n",
    "        r1 = np.absolute(z1)\n",
    "        phi1 = np.angle(z1)\n",
    "\n",
    "        z2 = z_k[1]\n",
    "        r2 = np.absolute(z2)\n",
    "        phi2 = np.angle(z2)\n",
    "\n",
    "        R = np.divide(r2,r1)\n",
    "\n",
    "        phase = float(phi2-phi1)\n",
    "        theta = float(np.arctan(R))\n",
    "\n",
    "        #sumamos y restamos delta\n",
    "    \n",
    "        theta_mas = theta + beta*delta_t\n",
    "        theta_menos = theta - beta*delta_t\n",
    "    \n",
    "        phase_mas = phase + beta*delta_p\n",
    "        phase_menos = phase - beta*delta_p\n",
    "    \n",
    "        # formamos estados normalizados para cada par theta,phase\n",
    "    \n",
    "        a1_mas = np.cos(theta_mas)\n",
    "        a2_mas = np.sin(theta_mas)*(np.cos(phase_mas)+1j*np.sin(phase_mas))\n",
    "    \n",
    "        a1_menos = np.cos(theta_menos)\n",
    "        a2_menos = np.sin(theta_menos)*(np.cos(phase_menos)+1j*np.sin(phase_menos))\n",
    "\n",
    "        psi_bloch_mas = np.array([[a1_mas],[a2_mas]])\n",
    "        psi_bloch_menos = np.array([[a1_menos],[a2_menos]])\n",
    "    \n",
    "        psi_bloch_mas = psi_bloch_mas/np.linalg.norm(psi_bloch_mas, axis=0)\n",
    "        psi_bloch_menos = psi_bloch_menos/np.linalg.norm(psi_bloch_menos, axis=0)\n",
    "    \n",
    "        fun_k_mas = fun(psi_bloch_mas)\n",
    "        fun_k_menos = fun(psi_bloch_menos)\n",
    "        \n",
    "        diff[i] = abs(fun_k_mas-fun_k_menos)    \n",
    "        \n",
    "    prom = np.sum(diff, axis=0)/l\n",
    "    \n",
    "    a_arr = np.divide(2*np.pi*b, 5*prom)\n",
    "    a_SPSA_ang = float(a_arr[0])\n",
    "    \n",
    "    return a_SPSA_ang"
   ]
  },
  {
   "cell_type": "code",
   "execution_count": null,
   "metadata": {
    "ExecuteTime": {
     "start_time": "2020-08-25T16:03:43.175Z"
    }
   },
   "outputs": [],
   "source": [
    "def CSPSA2(psi_est, nu_ite, fun_teor, fun, s, t, A, b):\n",
    "    \"\"\"\n",
    "    CSPSA2\n",
    "    IN\n",
    "        psi_est: dim x n_par matrix. dim is de dimension of each vector, and n_par\n",
    "                the number of guesses in parallel.\n",
    "        nu_ite: int. Number of iterations of CSPSA.\n",
    "        fun_teor: function. It is the known function, for example, the theoretical\n",
    "                 fidelity between the unknown state of the system and the guess.\n",
    "        fun: function. CSPSA uses this function for the optimization.\n",
    "        s, t, a, A, b: parametros CSPSA\n",
    "    OUT\n",
    "        valor_optimo: real. Optimal value of fun finded by CSPSA.\n",
    "    \"\"\"\n",
    "\n",
    "    n_par = int(psi_est.size/psi_est.shape[0])\n",
    "    valor_optimo = np.zeros((n_par, nu_ite))\n",
    "    valor_optimo[:,0] = fun_teor(psi_est)\n",
    "    \n",
    "    a = ganancia_a_CSPSA(psi_est, 25, fun, t, b)\n",
    "\n",
    "    for k in range(0,nu_ite-1):\n",
    "        valor_optimo[:,k+1], psi_est = (itCSPSA(psi_est/np.linalg.norm(psi_est, axis = 0),\n",
    "                                       k, s, t, a, A, b, fun, fun_teor ))\n",
    "\n",
    "    return valor_optimo"
   ]
  },
  {
   "cell_type": "code",
   "execution_count": null,
   "metadata": {
    "ExecuteTime": {
     "start_time": "2020-08-25T16:03:43.199Z"
    }
   },
   "outputs": [],
   "source": [
    "def SPSA2(psi_est, nu_ite, fun_teor, fun, s, t, A, b):\n",
    "    \"\"\"\n",
    "    SPSA\n",
    "    IN\n",
    "        psi_est: dim x n_par matrix. dim is de dimension of each vector, and n_par\n",
    "                the number of guesses in parallel.\n",
    "        nu_ite: int. Number of iterations of SPSA.\n",
    "        fun_teor: function. It is the known function, for example, the theoretical\n",
    "                 fidelity between the unknown state of the system and the guess.\n",
    "        fun: function. SPSA uses this function for the optimization.\n",
    "        s, t, a, A, b: parametros SPSA\n",
    "    OUT\n",
    "        valor_optimo: real. Optimal value of fun finded by SPSA.\n",
    "    \"\"\"\n",
    "\n",
    "    n_par = int(psi_est.size/psi_est.shape[0])\n",
    "    valor_optimo = np.zeros((n_par, nu_ite))\n",
    "    valor_optimo[:,0] = fun_teor(psi_est)\n",
    "    \n",
    "    a = ganancia_a_SPSA(psi_est, 25, fun, t, b)\n",
    "\n",
    "    for k in range(0,nu_ite-1):\n",
    "        valor_optimo[:,k+1], psi_est = (itSPSA(psi_est/np.linalg.norm(psi_est, axis = 0),\n",
    "                                       k, s, t, a, A, b, fun, fun_teor ))\n",
    "\n",
    "\n",
    "    return valor_optimo"
   ]
  },
  {
   "cell_type": "code",
   "execution_count": null,
   "metadata": {
    "ExecuteTime": {
     "start_time": "2020-08-25T16:03:43.349Z"
    }
   },
   "outputs": [],
   "source": [
    "def SPSA_ang2(psi_est, nu_ite, fun_teor, fun, s, t, A, b):\n",
    "    \"\"\"\n",
    "    SPSA\n",
    "    IN\n",
    "        psi_est: dim x n_par matrix. dim is de dimension of each vector, and n_par\n",
    "                the number of guesses in parallel.\n",
    "        nu_ite: int. Number of iterations of SPSA.\n",
    "        fun_teor: function. It is the known function, for example, the theoretical\n",
    "                 fidelity between the unknown state of the system and the guess.\n",
    "        fun: function. SPSA uses this function for the optimization.\n",
    "        s, t, a, A, b: parametros SPSA\n",
    "    OUT\n",
    "        valor_optimo: real. Optimal value of fun finded by SPSA.\n",
    "    \"\"\"\n",
    "\n",
    "    n_par = int(psi_est.size/psi_est.shape[0])\n",
    "    valor_optimo = np.zeros((n_par, nu_ite))\n",
    "    valor_optimo[:,0] = fun_teor(psi_est)\n",
    "    \n",
    "    a = ganancia_a_SPSA_ang(psi_est, 25, fun, t, b)\n",
    "\n",
    "    for k in range(0,nu_ite-1):\n",
    "        valor_optimo[:,k+1], psi_est = (itSPSA_ang(psi_est/np.linalg.norm(psi_est, axis = 0),\n",
    "                                       k, s, t, a, A, b, fun, fun_teor ))\n",
    "\n",
    "\n",
    "    return valor_optimo"
   ]
  }
 ],
 "metadata": {
  "kernelspec": {
   "display_name": "Python 3",
   "language": "python",
   "name": "python3"
  },
  "language_info": {
   "codemirror_mode": {
    "name": "ipython",
    "version": 3
   },
   "file_extension": ".py",
   "mimetype": "text/x-python",
   "name": "python",
   "nbconvert_exporter": "python",
   "pygments_lexer": "ipython3",
   "version": "3.6.10"
  }
 },
 "nbformat": 4,
 "nbformat_minor": 4
}
