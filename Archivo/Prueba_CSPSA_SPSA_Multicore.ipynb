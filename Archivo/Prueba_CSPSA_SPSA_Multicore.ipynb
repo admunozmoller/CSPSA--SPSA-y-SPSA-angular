{
 "cells": [
  {
   "cell_type": "code",
   "execution_count": 32,
   "metadata": {
    "ExecuteTime": {
     "end_time": "2020-08-02T06:50:30.169473Z",
     "start_time": "2020-08-02T06:50:30.055801Z"
    }
   },
   "outputs": [],
   "source": [
    "import numpy as np\n",
    "import matplotlib.pyplot as plt\n",
    "import time\n",
    "import multiprocessing \n",
    "%run Funciones_CSPSA_SPSA.ipynb\n",
    "%matplotlib inline"
   ]
  },
  {
   "cell_type": "code",
   "execution_count": 33,
   "metadata": {
    "ExecuteTime": {
     "end_time": "2020-08-02T06:50:30.389878Z",
     "start_time": "2020-08-02T06:50:30.379815Z"
    }
   },
   "outputs": [],
   "source": [
    "# Ganancias estandar\n",
    "\n",
    "#s = 0.602\n",
    "#t = 0.101\n",
    "#A = 0\n",
    "#a = 3\n",
    "#b = 0.1\n",
    "\n",
    "\n",
    "# Ganancias asintoticas\n",
    "\n",
    "s = 1\n",
    "t = 0.166\n",
    "A = 0\n",
    "a = 3\n",
    "b = 0.1\n"
   ]
  },
  {
   "cell_type": "code",
   "execution_count": 34,
   "metadata": {
    "ExecuteTime": {
     "end_time": "2020-08-02T06:50:30.676226Z",
     "start_time": "2020-08-02T06:50:30.662679Z"
    }
   },
   "outputs": [],
   "source": [
    "d = 2\n",
    "nu_par = 1\n",
    "NU_IT = 500\n",
    "\n",
    "#A = np.sqrt(0.3)\n",
    "#B = np.sqrt(0.2)\n",
    "#C = np.sqrt(0.5)\n",
    "A = 1\n",
    "B = 3\n",
    "C = 5"
   ]
  },
  {
   "cell_type": "code",
   "execution_count": 35,
   "metadata": {
    "ExecuteTime": {
     "end_time": "2020-08-02T06:50:30.976085Z",
     "start_time": "2020-08-02T06:50:30.963631Z"
    }
   },
   "outputs": [],
   "source": [
    "psi_est = estado(d,nu_par)\n",
    "\n",
    "#psi_bloch = est_bloch(psi_est)[0]\n",
    "#phase = float(est_bloch(psi_est)[1])\n",
    "#theta = float(est_bloch(psi_est)[2])"
   ]
  },
  {
   "cell_type": "code",
   "execution_count": 36,
   "metadata": {
    "ExecuteTime": {
     "end_time": "2020-08-02T06:50:31.320102Z",
     "start_time": "2020-08-02T06:50:31.313447Z"
    }
   },
   "outputs": [],
   "source": [
    "H = H_paul(A,B,C)"
   ]
  },
  {
   "cell_type": "code",
   "execution_count": 37,
   "metadata": {
    "ExecuteTime": {
     "end_time": "2020-08-02T06:50:31.761746Z",
     "start_time": "2020-08-02T06:50:31.750586Z"
    }
   },
   "outputs": [],
   "source": [
    "fun = lambda x : exp_H(x, H)"
   ]
  },
  {
   "cell_type": "code",
   "execution_count": 38,
   "metadata": {
    "ExecuteTime": {
     "end_time": "2020-08-02T06:50:32.721287Z",
     "start_time": "2020-08-02T06:50:32.698085Z"
    }
   },
   "outputs": [
    {
     "name": "stdout",
     "output_type": "stream",
     "text": [
      "-5.916079783099616\n"
     ]
    }
   ],
   "source": [
    "# Ground-state Teórico\n",
    "\n",
    "E = A**2 + B**2 + C**2\n",
    "\n",
    "const1 = np.sqrt(1/2) * np.sqrt((A**2+B**2)/(E-C*(np.sqrt(E))))\n",
    "const2 = (C-np.sqrt(E))/(A+1j*B)\n",
    "\n",
    "#psi_teo = const1*np.matrix([[const2], [1]])\n",
    "#fun(psi_teo)\n",
    "\n",
    "Ground_teo = -(np.sqrt(A**2 + B**2 + C**2))\n",
    "print(Ground_teo)"
   ]
  },
  {
   "cell_type": "code",
   "execution_count": 39,
   "metadata": {
    "ExecuteTime": {
     "end_time": "2020-08-02T06:50:36.644167Z",
     "start_time": "2020-08-02T06:50:36.632268Z"
    }
   },
   "outputs": [],
   "source": [
    "#Result_CSPSA = CSPSA(psi_est, NU_IT, fun, fun, s, t, a, A, b)"
   ]
  },
  {
   "cell_type": "code",
   "execution_count": 40,
   "metadata": {
    "ExecuteTime": {
     "end_time": "2020-08-02T06:50:37.459307Z",
     "start_time": "2020-08-02T06:50:37.290319Z"
    }
   },
   "outputs": [],
   "source": [
    "#Result_SPSA = SPSA(psi_est, NU_IT, fun, fun, s, t, a, A, b)"
   ]
  },
  {
   "cell_type": "code",
   "execution_count": 41,
   "metadata": {
    "ExecuteTime": {
     "end_time": "2020-08-02T06:50:37.961326Z",
     "start_time": "2020-08-02T06:50:37.951174Z"
    }
   },
   "outputs": [],
   "source": [
    "#Result_SPSA_ang = SPSA_ang(psi_est, NU_IT, fun, fun, s, t, a, A, b)"
   ]
  },
  {
   "cell_type": "code",
   "execution_count": 42,
   "metadata": {
    "ExecuteTime": {
     "end_time": "2020-08-02T06:50:38.984106Z",
     "start_time": "2020-08-02T06:50:38.558948Z"
    }
   },
   "outputs": [],
   "source": [
    "#error_CSPSA = abs(Result_CSPSA - Ground_teo)\n",
    "#error_SPSA = abs(Result_SPSA - Ground_teo)\n",
    "#error_SPSA_ang = abs(Result_SPSA_ang - Ground_teo)"
   ]
  },
  {
   "cell_type": "code",
   "execution_count": 43,
   "metadata": {
    "ExecuteTime": {
     "end_time": "2020-08-02T06:50:39.088934Z",
     "start_time": "2020-08-02T06:50:38.990635Z"
    }
   },
   "outputs": [],
   "source": [
    "#plt.loglog(np.array(error_CSPSA[:]).T, label='CSPSA')\n",
    "#plt.loglog(np.array(error_SPSA[:]).T, label='SPSA')\n",
    "#plt.loglog(np.array(error_SPSA_ang[:]).T, label='SPSA_ang')\n",
    "#plt.legend()"
   ]
  },
  {
   "cell_type": "code",
   "execution_count": 44,
   "metadata": {
    "ExecuteTime": {
     "end_time": "2020-08-02T06:50:39.189764Z",
     "start_time": "2020-08-02T06:50:39.157627Z"
    }
   },
   "outputs": [],
   "source": [
    "#plt.plot(np.array(Result_CSPSA[:]).T)\n",
    "#plt.loglog(np.array(error_CSPSA[:]).T)"
   ]
  },
  {
   "cell_type": "code",
   "execution_count": 45,
   "metadata": {
    "ExecuteTime": {
     "end_time": "2020-08-02T06:50:39.683256Z",
     "start_time": "2020-08-02T06:50:39.675948Z"
    }
   },
   "outputs": [],
   "source": [
    "#plt.plot(np.array(Result_SPSA[:]).T)\n",
    "#plt.loglog(np.array(error_SPSA[:]).T)"
   ]
  },
  {
   "cell_type": "code",
   "execution_count": 46,
   "metadata": {
    "ExecuteTime": {
     "end_time": "2020-08-02T06:50:40.192779Z",
     "start_time": "2020-08-02T06:50:40.188215Z"
    }
   },
   "outputs": [],
   "source": [
    "#plt.plot(np.array(Result_SPSA_ang[:]).T)\n",
    "#plt.loglog(np.array(error_SPSA_ang[:]).T)"
   ]
  },
  {
   "cell_type": "code",
   "execution_count": 47,
   "metadata": {
    "ExecuteTime": {
     "end_time": "2020-08-02T06:50:41.044132Z",
     "start_time": "2020-08-02T06:50:41.033951Z"
    }
   },
   "outputs": [],
   "source": [
    "#plt.plot(np.array(Result_SPSA_ang[:]).T, label='SPSA_ang')\n",
    "#plt.plot(np.array(Result_CSPSA[:]).T,label='CSPSA')\n",
    "#plt.xlim(0,100)\n",
    "#plt.ylim(-7,-4)\n",
    "#plt.legend()"
   ]
  },
  {
   "cell_type": "code",
   "execution_count": 48,
   "metadata": {
    "ExecuteTime": {
     "end_time": "2020-08-02T06:50:42.210645Z",
     "start_time": "2020-08-02T06:50:41.393790Z"
    }
   },
   "outputs": [],
   "source": [
    "# numero de realizaciones para promediar\n",
    "\n",
    "num = 3\n",
    "\n",
    "\n",
    "x = range(0,num)\n",
    "y = len(x)\n"
   ]
  },
  {
   "cell_type": "code",
   "execution_count": 49,
   "metadata": {
    "ExecuteTime": {
     "end_time": "2020-08-02T06:50:42.416413Z",
     "start_time": "2020-08-02T06:50:42.378277Z"
    }
   },
   "outputs": [],
   "source": [
    "def multiprocessing_func(i):\n",
    "    \n",
    "    Result_CSPSA_ar = np.empty((0,1,NU_IT), dtype=np.single)\n",
    "    Result_SPSA_ar = np.empty((0,1,NU_IT), dtype=np.single)\n",
    "    Result_SPSA_ang_ar = np.empty((0,1,NU_IT), dtype=np.single)\n",
    "\n",
    "    error_CSPSA_ar = np.empty((0,1,NU_IT), dtype=np.single)\n",
    "    error_SPSA_ar = np.empty((0,1,NU_IT), dtype=np.single)\n",
    "    error_SPSA_ang_ar = np.empty((0,1,NU_IT), dtype=np.single)\n",
    "     \n",
    "    psi_est = estado(d,nu_par)\n",
    "    Result_CSPSA = CSPSA(psi_est, NU_IT, fun, fun, s, t, a, A, b)\n",
    "    Result_SPSA = SPSA(psi_est, NU_IT, fun, fun, s, t, a, A, b)\n",
    "    Result_SPSA_ang = SPSA_ang(psi_est, NU_IT, fun, fun, s, t, a, A, b)\n",
    "    \n",
    "    error_CSPSA = abs(Result_CSPSA - Ground_teo)\n",
    "    error_SPSA = abs(Result_SPSA - Ground_teo)\n",
    "    error_SPSA_ang = abs(Result_SPSA_ang - Ground_teo)\n",
    "    \n",
    "    Result_CSPSA_ar = np.insert(Result_CSPSA_ar, 0, Result_CSPSA, axis=0)\n",
    "    Result_SPSA_ar = np.insert(Result_SPSA_ar, 0, Result_SPSA, axis=0)\n",
    "    Result_SPSA_ang_ar = np.insert(Result_SPSA_ang_ar, 0, Result_SPSA_ang, axis=0)\n",
    "    \n",
    "    error_CSPSA_ar = np.insert(error_CSPSA_ar, 0, error_CSPSA, axis=0)\n",
    "    error_SPSA_ar = np.insert(error_SPSA_ar, 0, error_SPSA, axis=0)\n",
    "    error_SPSA_ang_ar = np.insert(error_SPSA_ang_ar, 0, error_SPSA_ang, axis=0)\n",
    "    \n",
    "    return Result_CSPSA_ar, Result_SPSA_ar, Result_SPSA_ang_ar, error_CSPSA_ar, error_SPSA_ar, error_SPSA_ang_ar"
   ]
  },
  {
   "cell_type": "code",
   "execution_count": 50,
   "metadata": {
    "ExecuteTime": {
     "end_time": "2020-08-02T06:50:49.985091Z",
     "start_time": "2020-08-02T06:50:46.287819Z"
    }
   },
   "outputs": [],
   "source": [
    "if __name__ == '__main__':\n",
    "    processes = []\n",
    "    for i in x:\n",
    "        p = multiprocessing.Process(target=multiprocessing_func, args=(i,))\n",
    "        processes.append(p)\n",
    "        p.start()\n",
    "        \n",
    "    for process in processes:\n",
    "        process.join()\n",
    "    "
   ]
  },
  {
   "cell_type": "code",
   "execution_count": 55,
   "metadata": {
    "ExecuteTime": {
     "end_time": "2020-08-02T06:51:15.169792Z",
     "start_time": "2020-08-02T06:51:15.150395Z"
    }
   },
   "outputs": [
    {
     "data": {
      "text/plain": [
       "(3,)"
      ]
     },
     "execution_count": 55,
     "metadata": {},
     "output_type": "execute_result"
    }
   ],
   "source": [
    "np.shape(processes)"
   ]
  },
  {
   "cell_type": "code",
   "execution_count": 21,
   "metadata": {
    "ExecuteTime": {
     "end_time": "2020-08-02T05:42:14.153252Z",
     "start_time": "2020-08-02T05:42:14.134361Z"
    }
   },
   "outputs": [],
   "source": [
    "Result_CSPSA_pro = np.sum(Result_CSPSA_ar, axis=0)/y\n",
    "Result_SPSA_pro = np.sum(Result_SPSA_ar, axis=0)/y\n",
    "Result_SPSA_ang_pro = np.sum(Result_SPSA_ang_ar, axis=0)/y\n",
    "\n",
    "error_CSPSA_pro = np.sum(error_CSPSA_ar, axis=0)/y\n",
    "error_SPSA_pro = np.sum(error_SPSA_ar, axis=0)/y\n",
    "error_SPSA_ang_pro = np.sum(error_SPSA_ang_ar, axis=0)/y\n"
   ]
  },
  {
   "cell_type": "code",
   "execution_count": 22,
   "metadata": {
    "ExecuteTime": {
     "end_time": "2020-08-02T05:42:14.367335Z",
     "start_time": "2020-08-02T05:42:14.156807Z"
    }
   },
   "outputs": [],
   "source": [
    "#plt.loglog(np.array(error_CSPSA_pro[:]).T)"
   ]
  },
  {
   "cell_type": "code",
   "execution_count": 23,
   "metadata": {
    "ExecuteTime": {
     "end_time": "2020-08-02T05:42:14.435022Z",
     "start_time": "2020-08-02T05:42:14.372435Z"
    }
   },
   "outputs": [],
   "source": [
    "#plt.loglog(np.array(error_SPSA_pro[:]).T)"
   ]
  },
  {
   "cell_type": "code",
   "execution_count": 24,
   "metadata": {
    "ExecuteTime": {
     "end_time": "2020-08-02T05:42:14.538406Z",
     "start_time": "2020-08-02T05:42:14.438634Z"
    }
   },
   "outputs": [],
   "source": [
    "#plt.loglog(np.array(error_SPSA_ang_pro[:]).T)"
   ]
  },
  {
   "cell_type": "code",
   "execution_count": 25,
   "metadata": {
    "ExecuteTime": {
     "end_time": "2020-08-02T05:42:16.226858Z",
     "start_time": "2020-08-02T05:42:14.549270Z"
    }
   },
   "outputs": [
    {
     "data": {
      "text/plain": [
       "<matplotlib.legend.Legend at 0x7f6462a54b70>"
      ]
     },
     "execution_count": 25,
     "metadata": {},
     "output_type": "execute_result"
    },
    {
     "name": "stderr",
     "output_type": "stream",
     "text": [
      "/home/dmunoz/anaconda3/lib/python3.6/site-packages/ipykernel/pylab/backend_inline.py:183: UserWarning: Data has no positive values, and therefore cannot be log-scaled.\n",
      "  for label in axis.get_ticklabels()])\n"
     ]
    },
    {
     "data": {
      "image/png": "[encoded data removed]",
      "text/plain": [
       "<Figure size 432x288 with 1 Axes>"
      ]
     },
     "metadata": {
      "needs_background": "light"
     },
     "output_type": "display_data"
    }
   ],
   "source": [
    "plt.loglog(np.array(error_CSPSA_pro[:]).T, label='CSPSA')\n",
    "plt.loglog(np.array(error_SPSA_pro[:]).T, label='SPSA')\n",
    "plt.loglog(np.array(error_SPSA_ang_pro[:]).T, label='SPSA_ang')\n",
    "plt.legend()"
   ]
  },
  {
   "cell_type": "code",
   "execution_count": 26,
   "metadata": {
    "ExecuteTime": {
     "end_time": "2020-08-02T05:42:16.811934Z",
     "start_time": "2020-08-02T05:42:16.232168Z"
    }
   },
   "outputs": [
    {
     "data": {
      "text/plain": [
       "<matplotlib.legend.Legend at 0x7f64629255c0>"
      ]
     },
     "execution_count": 26,
     "metadata": {},
     "output_type": "execute_result"
    },
    {
     "data": {
      "image/png": "[encoded data removed]",
      "text/plain": [
       "<Figure size 432x288 with 1 Axes>"
      ]
     },
     "metadata": {
      "needs_background": "light"
     },
     "output_type": "display_data"
    }
   ],
   "source": [
    "plt.plot(np.array(Result_CSPSA_pro[:]).T,label='CSPSA')\n",
    "plt.plot(np.array(Result_SPSA_pro[:]).T, label='SPSA')\n",
    "plt.plot(np.array(Result_SPSA_ang_pro[:]).T, label='SPSA_ang')\n",
    "\n",
    "#plt.xlim(0,90)\n",
    "#plt.ylim(-6.5,-4)\n",
    "plt.legend()"
   ]
  },
  {
   "cell_type": "code",
   "execution_count": 27,
   "metadata": {
    "ExecuteTime": {
     "end_time": "2020-08-02T05:42:16.843308Z",
     "start_time": "2020-08-02T05:42:16.827351Z"
    },
    "scrolled": true
   },
   "outputs": [],
   "source": [
    "#np.savetxt('prueba.txt', Result_SPSA, delimiter=',')\n",
    "#print(Result_SPSA)"
   ]
  },
  {
   "cell_type": "code",
   "execution_count": 28,
   "metadata": {
    "ExecuteTime": {
     "end_time": "2020-08-02T05:42:16.915043Z",
     "start_time": "2020-08-02T05:42:16.847125Z"
    }
   },
   "outputs": [],
   "source": [
    "#np.savetxt('prueba.txt', Result_CSPSA, delimiter=',')\n",
    "#print(Result_CSPSA)"
   ]
  },
  {
   "cell_type": "code",
   "execution_count": 29,
   "metadata": {
    "ExecuteTime": {
     "end_time": "2020-08-02T05:42:16.981612Z",
     "start_time": "2020-08-02T05:42:16.918518Z"
    }
   },
   "outputs": [],
   "source": [
    "#np.savetxt('prueba.txt', Result_SPSA_ang, delimiter=',')\n",
    "#print(Result_SPSA_ang)"
   ]
  }
 ],
 "metadata": {
  "kernelspec": {
   "display_name": "Python 3",
   "language": "python",
   "name": "python3"
  },
  "language_info": {
   "codemirror_mode": {
    "name": "ipython",
    "version": 3
   },
   "file_extension": ".py",
   "mimetype": "text/x-python",
   "name": "python",
   "nbconvert_exporter": "python",
   "pygments_lexer": "ipython3",
   "version": "3.6.10"
  }
 },
 "nbformat": 4,
 "nbformat_minor": 4
}
