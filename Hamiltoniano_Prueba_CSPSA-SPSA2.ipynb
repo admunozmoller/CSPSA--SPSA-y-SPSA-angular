{
 "cells": [
  {
   "cell_type": "code",
   "execution_count": 1,
   "metadata": {},
   "outputs": [],
   "source": [
    "import numpy as np\n",
    "import matplotlib.pyplot as plt\n",
    "%matplotlib inline"
   ]
  },
  {
   "cell_type": "code",
   "execution_count": 2,
   "metadata": {},
   "outputs": [],
   "source": [
    "def CSPSA(psi_est, nu_ite, fun_teor, fun,\n",
    "          s=1, t=1/6, a=3, A=1, b = 0.1 ):\n",
    "    \"\"\"\n",
    "    CSPSA\n",
    "    IN\n",
    "        psi_est: dim x n_par matrix. dim is de dimension of each vector, and n_par\n",
    "                the number of guesses in parallel.\n",
    "        nu_ite: int. Number of iterations of CSPSA.\n",
    "        fun_teor: function. It is the known function, for example, the theoretical\n",
    "                 fidelity between the unknown state of the system and the guess.\n",
    "        fun: function. CSPSA uses this function for the optimization.\n",
    "        s, t, a, A, b: parametros CSPSA\n",
    "    OUT\n",
    "        valor_optimo: real. Optimal value of fun finded by CSPSA.\n",
    "    \"\"\"\n",
    "\n",
    "    n_par = int(psi_est.size/psi_est.shape[0])\n",
    "    valor_optimo = np.zeros((n_par, nu_ite))\n",
    "    valor_optimo[:,0] = fun_teor(psi_est)\n",
    "\n",
    "    for k in range(0,nu_ite-1):\n",
    "        valor_optimo[:,k+1], psi_est = (itCSPSA(psi_est/np.linalg.norm(psi_est, axis = 0),\n",
    "                                       k, s, t, a, A, b, fun, fun_teor ))\n",
    "\n",
    "\n",
    "    return valor_optimo"
   ]
  },
  {
   "cell_type": "code",
   "execution_count": 3,
   "metadata": {},
   "outputs": [],
   "source": [
    "def itCSPSA(z_k,  k, s, t, a, A, b, fun, fun_teor):\n",
    "    \"\"\"iteracion de CSPSA\n",
    "    IN\n",
    "        z_k: dim x n_rep. Cada columna es un estimador de dimension dim.\n",
    "        k: iteracion\n",
    "        s, t, a, A, b: parametros CSPSA\n",
    "        fun: funcion a optimizar\n",
    "    OUT\n",
    "        z_k: dim x n_rep. Estimador actualizado\n",
    "        z_value: real. valor de fun en el estimador z_k\n",
    "    \"\"\"\n",
    "    dim = z_k.shape[0]\n",
    "    rep = int(z_k.size/z_k.shape[0])\n",
    "    alpha = a/(k+1+A)**s\n",
    "    beta = b/(k+1)**t\n",
    "    delta = (1j)**(np.random.randint(1,5,(dim, rep))).reshape(2,rep)\n",
    "    z_k_mas = z_k + beta*delta\n",
    "    z_k_menos = z_k - beta*delta\n",
    "    fun_k_mas = fun(z_k_mas)\n",
    "    fun_k_menos = fun(z_k_menos)\n",
    "    grad = np.divide(fun_k_mas - fun_k_menos, 2*beta*delta.conj())\n",
    "    z_k = z_k - alpha*grad\n",
    "    z_value = fun_teor(z_k)\n",
    "    return z_value, z_k"
   ]
  },
  {
   "cell_type": "code",
   "execution_count": 4,
   "metadata": {},
   "outputs": [],
   "source": [
    "def SPSA(psi_est, nu_ite, fun_teor, fun,\n",
    "          s=1, t=1/6, a=3, A=1, b = 0.1 ):\n",
    "    \"\"\"\n",
    "    SPSA\n",
    "    IN\n",
    "        psi_est: dim x n_par matrix. dim is de dimension of each vector, and n_par\n",
    "                the number of guesses in parallel.\n",
    "        nu_ite: int. Number of iterations of SPSA.\n",
    "        fun_teor: function. It is the known function, for example, the theoretical\n",
    "                 fidelity between the unknown state of the system and the guess.\n",
    "        fun: function. SPSA uses this function for the optimization.\n",
    "        s, t, a, A, b: parametros SPSA\n",
    "    OUT\n",
    "        valor_optimo: real. Optimal value of fun finded by SPSA.\n",
    "    \"\"\"\n",
    "\n",
    "    n_par = int(psi_est.size/psi_est.shape[0])\n",
    "    valor_optimo = np.zeros((n_par, nu_ite))\n",
    "    valor_optimo[:,0] = fun_teor(psi_est)\n",
    "\n",
    "    for k in range(0,nu_ite-1):\n",
    "        valor_optimo[:,k+1], psi_est = (itSPSA(psi_est/np.linalg.norm(psi_est, axis = 0),\n",
    "                                       k, s, t, a, A, b, fun, fun_teor ))\n",
    "\n",
    "\n",
    "    return valor_optimo"
   ]
  },
  {
   "cell_type": "code",
   "execution_count": 5,
   "metadata": {},
   "outputs": [],
   "source": [
    "def itSPSA(z_k,  k, s, t, a, A, b, fun, fun_teor):\n",
    "    \"\"\"iteracion de SPSA\n",
    "    IN\n",
    "        z_k: dim x n_rep. Cada columna es un estimador de dimension dim.\n",
    "        k: iteracion\n",
    "        s, t, a, A, b: parametros SPSA\n",
    "        fun: funcion a optimizar\n",
    "    OUT\n",
    "        z_k: dim x n_rep. Estimador actualizado\n",
    "        z_value: real. valor de fun en el estimador z_k\n",
    "    \"\"\"\n",
    "    dim = z_k.shape[0]\n",
    "    rep = int(z_k.size/z_k.shape[0])\n",
    "    alpha = a/(k+1+A)**s\n",
    "    beta = b/(k+1)**t\n",
    "    \n",
    "    #Cambiamos un delta complejo por uno real (+1,-1)\n",
    "    \n",
    "    delta = (-1)**(np.random.randint(1,5,(dim, rep))).reshape(2,rep)\n",
    "    delta_i = (-1)**(np.random.randint(1,5,(dim, rep))).reshape(2,rep)\n",
    "    \n",
    "    #Definimos parte real e imaginaria\n",
    "    \n",
    "    z_k_mas_r = np.real(z_k) + beta*delta\n",
    "    z_k_menos_r = np.real(z_k) - beta*delta\n",
    "    \n",
    "    z_k_mas_i = np.imag(z_k) + beta*delta_i\n",
    "    z_k_menos_i = np.imag(z_k) - beta*delta_i\n",
    "    \n",
    "\n",
    "    #Nuevo estado, normalizado\n",
    "    \n",
    "    z_k_mas = z_k_mas_r +1j*z_k_mas_i\n",
    "    z_k_menos = z_k_menos_r+1j*z_k_menos_i\n",
    "    \n",
    "    z_k_mas = z_k_mas/np.linalg.norm(z_k_mas, axis=0)\n",
    "    z_k_menos = z_k_menos/np.linalg.norm(z_k_menos, axis=0)\n",
    "    \n",
    "    fun_k_mas = fun(z_k_mas)\n",
    "    fun_k_menos = fun(z_k_menos)\n",
    "    \n",
    "    #Gradiente real e imaginaria\n",
    "    \n",
    "    grad = np.divide(fun_k_mas - fun_k_menos, 2*beta*delta)\n",
    "    grad_i = np.divide(fun_k_mas - fun_k_menos, 2*beta*delta_i)\n",
    "    \n",
    "    z_k = z_k - alpha*grad - 1j*alpha*grad_i\n",
    "    z_k = z_k/np.linalg.norm(z_k, axis=0)\n",
    "    \n",
    "    z_value = fun_teor(z_k)\n",
    "    return z_value, z_k"
   ]
  },
  {
   "cell_type": "code",
   "execution_count": 6,
   "metadata": {},
   "outputs": [],
   "source": [
    "\n",
    "def SPSA2(psi_est, nu_ite, fun_teor, fun,\n",
    "          s=1, t=1/6, a=3, A=1, b = 0.1 ):\n",
    "    \"\"\"\n",
    "    SPSA\n",
    "    IN\n",
    "        psi_est: dim x n_par matrix. dim is de dimension of each vector, and n_par\n",
    "                the number of guesses in parallel.\n",
    "        nu_ite: int. Number of iterations of CSPSA.\n",
    "        fun_teor: function. It is the known function, for example, the theoretical\n",
    "                 fidelity between the unknown state of the system and the guess.\n",
    "        fun: function. CSPSA uses this function for the optimization.\n",
    "        s, t, a, A, b: parametros CSPSA\n",
    "    OUT\n",
    "        valor_optimo: real. Optimal value of fun finded by CSPSA.\n",
    "    \"\"\"\n",
    "\n",
    "    n_par = int(psi_est.size/psi_est.shape[0])\n",
    "    valor_optimo = np.zeros((n_par, nu_ite))\n",
    "    valor_optimo[:,0] = fun_teor(psi_est)\n",
    "\n",
    "    for k in range(0,nu_ite-1):\n",
    "        valor_optimo[:,k+1], psi_est = (itSPSA2(psi_est/np.linalg.norm(psi_est, axis = 0),\n",
    "                                       k, s, t, a, A, b, fun, fun_teor ))\n",
    "\n",
    "\n",
    "    return valor_optimo"
   ]
  },
  {
   "cell_type": "code",
   "execution_count": 7,
   "metadata": {},
   "outputs": [],
   "source": [
    "def itSPSA2(z_k,  k, s, t, a, A, b, fun, fun_teor):\n",
    "    \"\"\"iteracion de CSPSA\n",
    "    IN\n",
    "        z_k: dim x n_rep. Cada columna es un estimador de dimension dim.\n",
    "        k: iteracion\n",
    "        s, t, a, A, b: parametros CSPSA\n",
    "        fun: funcion a optimizar\n",
    "    OUT\n",
    "        z_k: dim x n_rep. Estimador actualizado\n",
    "        z_value: real. valor de fun en el estimador z_k\n",
    "    \"\"\"\n",
    "    # convertimos el estado complejo en un vector real\n",
    "    z_k = estado2vec(z_k)\n",
    "    #\n",
    "    dim = z_k.shape[0]\n",
    "    rep = int(z_k.size/z_k.shape[0])\n",
    "    alpha = a/(k+1+A)**s\n",
    "    beta = b/(k+1)**t\n",
    "    delta = (-1)**(np.random.randint(1,5,(dim, rep)))\n",
    "    z_k_mas = z_k + beta*delta\n",
    "    z_k_menos = z_k - beta*delta\n",
    "    # volvemos al estado complejo al evaluar la funcion\n",
    "    fun_k_mas = fun(vec2estado(z_k_mas))\n",
    "    fun_k_menos = fun(vec2estado(z_k_menos))\n",
    "    grad = np.divide(fun_k_mas - fun_k_menos, 2*beta*delta.conj())\n",
    "    z_k = z_k - alpha*grad\n",
    "    z_value = fun_teor(vec2estado(z_k))\n",
    "    z_k = vec2estado(z_k)\n",
    "    return z_value, z_k"
   ]
  },
  {
   "cell_type": "code",
   "execution_count": 8,
   "metadata": {},
   "outputs": [],
   "source": [
    "def estado2vec(z_k):\n",
    "    \"\"\"iteracion de SPSA\n",
    "    IN\n",
    "        z_k: dim x n_rep. Cada columna es un estimador de dimension dim.\n",
    "    OUT\n",
    "        z_k_vec: 2 dim x n_rep. Estimador actualizado\n",
    "    \"\"\"\n",
    "    dim = z_k.shape[0]\n",
    "    n_rep = z_k.shape[1]\n",
    "    z_k_vec = np.zeros((2*dim, n_rep))\n",
    "    z_k_vec[:dim, :] = np.real(z_k)\n",
    "    z_k_vec[dim:, :] = np.imag(z_k)\n",
    "    return z_k_vec\n",
    "\n",
    "def vec2estado(z_k_vec):\n",
    "    \"\"\"iteracion de SPSA\n",
    "    IN\n",
    "        z_k_vec: 2 dim x n_rep. Estimador actualizado\n",
    "    OUT\n",
    "        z_k: dim x n_rep. Cada columna es un estimador de dimension dim.\n",
    "    \"\"\"\n",
    "    dim2 = z_k_vec.shape[0]\n",
    "    n_rep = z_k_vec.shape[1]\n",
    "    z_k = z_k_vec[:int(dim2/2), :] + z_k_vec[int(dim2/2):, :]*1j \n",
    "    return z_k/np.linalg.norm(z_k, axis=0)"
   ]
  },
  {
   "cell_type": "code",
   "execution_count": 9,
   "metadata": {},
   "outputs": [],
   "source": [
    "# Definir Estado\n",
    "\n",
    "def estado(dim, n_par):\n",
    "    psi = (np.random.normal(loc=0.0, scale=1.0,\n",
    "           size=(dim, n_par))\n",
    "           + np.random.normal(loc=0.0, scale=1.0,\n",
    "           size=(dim, n_par))*1j)\n",
    "    psi = psi/np.linalg.norm(psi, axis=0)\n",
    "    return psi"
   ]
  },
  {
   "cell_type": "code",
   "execution_count": 10,
   "metadata": {},
   "outputs": [],
   "source": [
    "# Definir Hamiltoniano\n",
    "\n",
    "def H_paul (A,B,C):\n",
    "    pauli_x = np.array((((0, 1), (1, 0))))\n",
    "    pauli_y = np.array((((0, -1j), (1j, 0))))\n",
    "    pauli_z = np.array((((1, 0), (0, -1))))\n",
    "    H_paul = A*pauli_x + B*pauli_y + C*pauli_z\n",
    "    return H_paul"
   ]
  },
  {
   "cell_type": "code",
   "execution_count": 11,
   "metadata": {},
   "outputs": [],
   "source": [
    "# Definir Valor de expectacion\n",
    "\n",
    "def exp_H (psi_est, H):\n",
    "    psi = np.matrix(psi_est)\n",
    "    psi = psi/np.linalg.norm(psi, axis=0)\n",
    "    psi_dagger = psi.getH()\n",
    "    H = np.matrix(H)\n",
    "    exp_H = psi_dagger*H*psi\n",
    "    return exp_H"
   ]
  },
  {
   "cell_type": "code",
   "execution_count": 12,
   "metadata": {},
   "outputs": [],
   "source": [
    "d = 2\n",
    "nu_par = 1\n",
    "NU_ITERACIONES = 300\n",
    "\n",
    "#A = np.sqrt(0.3)\n",
    "#B = np.sqrt(0.2)\n",
    "#C = np.sqrt(0.5)\n",
    "A = 1\n",
    "B = 3\n",
    "C = 5"
   ]
  },
  {
   "cell_type": "code",
   "execution_count": 13,
   "metadata": {},
   "outputs": [],
   "source": [
    "psi_est = estado(d,nu_par)\n"
   ]
  },
  {
   "cell_type": "code",
   "execution_count": 14,
   "metadata": {
    "scrolled": true
   },
   "outputs": [],
   "source": [
    "H = H_paul(A,B,C)\n"
   ]
  },
  {
   "cell_type": "code",
   "execution_count": 15,
   "metadata": {},
   "outputs": [],
   "source": [
    "fun = lambda x : exp_H(x, H)\n"
   ]
  },
  {
   "cell_type": "code",
   "execution_count": 16,
   "metadata": {},
   "outputs": [
    {
     "name": "stdout",
     "output_type": "stream",
     "text": [
      "-5.916079783099616\n"
     ]
    }
   ],
   "source": [
    "# Ground-state Teórico\n",
    "\n",
    "E = A**2 + B**2 + C**2\n",
    "\n",
    "const1 = np.sqrt(1/2) * np.sqrt((A**2+B**2)/(E-C*(np.sqrt(E))))\n",
    "const2 = (C-np.sqrt(E))/(A+1j*B)\n",
    "\n",
    "#psi_teo = const1*np.matrix([[const2], [1]])\n",
    "#fun(psi_teo)\n",
    "\n",
    "Ground_teo = -(np.sqrt(A**2 + B**2 + C**2))\n",
    "print(Ground_teo)"
   ]
  },
  {
   "cell_type": "code",
   "execution_count": 17,
   "metadata": {
    "scrolled": true
   },
   "outputs": [
    {
     "name": "stderr",
     "output_type": "stream",
     "text": [
      "/home/dmunoz/anaconda3/lib/python3.6/site-packages/ipykernel_launcher.py:19: ComplexWarning: Casting complex values to real discards the imaginary part\n",
      "/home/dmunoz/anaconda3/lib/python3.6/site-packages/ipykernel_launcher.py:23: ComplexWarning: Casting complex values to real discards the imaginary part\n"
     ]
    }
   ],
   "source": [
    "Result_CSPSA = CSPSA(psi_est, NU_ITERACIONES, fun, fun)"
   ]
  },
  {
   "cell_type": "code",
   "execution_count": 18,
   "metadata": {},
   "outputs": [
    {
     "name": "stderr",
     "output_type": "stream",
     "text": [
      "/home/dmunoz/anaconda3/lib/python3.6/site-packages/ipykernel_launcher.py:19: ComplexWarning: Casting complex values to real discards the imaginary part\n",
      "/home/dmunoz/anaconda3/lib/python3.6/site-packages/ipykernel_launcher.py:23: ComplexWarning: Casting complex values to real discards the imaginary part\n"
     ]
    }
   ],
   "source": [
    "Result_SPSA = SPSA(psi_est, NU_ITERACIONES, fun, fun)"
   ]
  },
  {
   "cell_type": "code",
   "execution_count": 19,
   "metadata": {},
   "outputs": [
    {
     "name": "stderr",
     "output_type": "stream",
     "text": [
      "/home/dmunoz/anaconda3/lib/python3.6/site-packages/ipykernel_launcher.py:19: ComplexWarning: Casting complex values to real discards the imaginary part\n",
      "/home/dmunoz/anaconda3/lib/python3.6/site-packages/ipykernel_launcher.py:23: ComplexWarning: Casting complex values to real discards the imaginary part\n"
     ]
    }
   ],
   "source": [
    "Result_SPSA2 = SPSA2(psi_est, NU_ITERACIONES, fun, fun)"
   ]
  },
  {
   "cell_type": "code",
   "execution_count": 20,
   "metadata": {
    "scrolled": true
   },
   "outputs": [],
   "source": [
    "error_CSPSA = abs(Result_CSPSA - Ground_teo)\n",
    "error_SPSA = abs(Result_SPSA - Ground_teo)\n",
    "error_SPSA2 = abs(Result_SPSA2 - Ground_teo)"
   ]
  },
  {
   "cell_type": "code",
   "execution_count": 21,
   "metadata": {},
   "outputs": [
    {
     "data": {
      "text/plain": [
       "[<matplotlib.lines.Line2D at 0x7fa8fe0ccf60>]"
      ]
     },
     "execution_count": 21,
     "metadata": {},
     "output_type": "execute_result"
    },
    {
     "data": {
      "image/png": "[encoded data removed]",
      "text/plain": [
       "<Figure size 432x288 with 1 Axes>"
      ]
     },
     "metadata": {
      "needs_background": "light"
     },
     "output_type": "display_data"
    }
   ],
   "source": [
    "#plt.plot(np.array(error_CSPSA[:]).T)\n",
    "plt.loglog(np.array(error_CSPSA[:]).T)\n",
    "\n",
    "#plt.plot(np.array(Result_CSPSA[:]).T)\n",
    "#plt.loglog(np.array(Result_CSPSA[:]).T)"
   ]
  },
  {
   "cell_type": "code",
   "execution_count": 22,
   "metadata": {},
   "outputs": [
    {
     "data": {
      "text/plain": [
       "[<matplotlib.lines.Line2D at 0x7fa8fd749320>]"
      ]
     },
     "execution_count": 22,
     "metadata": {},
     "output_type": "execute_result"
    },
    {
     "data": {
      "image/png": "[encoded data removed]",
      "text/plain": [
       "<Figure size 432x288 with 1 Axes>"
      ]
     },
     "metadata": {
      "needs_background": "light"
     },
     "output_type": "display_data"
    }
   ],
   "source": [
    "#plt.plot(np.array(error_SPSA[:]).T)\n",
    "plt.loglog(np.array(error_SPSA[:]).T)\n",
    "\n",
    "#plt.plot(np.array(Result_SPSA[:]).T)\n",
    "#plt.loglog(np.array(Result_SPSA[:]).T)"
   ]
  },
  {
   "cell_type": "code",
   "execution_count": 23,
   "metadata": {},
   "outputs": [
    {
     "data": {
      "text/plain": [
       "[<matplotlib.lines.Line2D at 0x7fa8fd731780>]"
      ]
     },
     "execution_count": 23,
     "metadata": {},
     "output_type": "execute_result"
    },
    {
     "data": {
      "image/png": "[encoded data removed]",
      "text/plain": [
       "<Figure size 432x288 with 1 Axes>"
      ]
     },
     "metadata": {
      "needs_background": "light"
     },
     "output_type": "display_data"
    }
   ],
   "source": [
    "#plt.plot(np.array(error_SPSA2[:]).T)\n",
    "plt.loglog(np.array(error_SPSA2[:]).T)\n",
    "\n",
    "#plt.plot(np.array(Result_SPSA2[:]).T)\n",
    "#plt.loglog(np.array(Result_SPSA2[:]).T)"
   ]
  },
  {
   "cell_type": "code",
   "execution_count": 28,
   "metadata": {},
   "outputs": [
    {
     "data": {
      "text/plain": [
       "<matplotlib.legend.Legend at 0x7fa8fd396978>"
      ]
     },
     "execution_count": 28,
     "metadata": {},
     "output_type": "execute_result"
    },
    {
     "data": {
      "image/png": "[encoded data removed]",
      "text/plain": [
       "<Figure size 432x288 with 1 Axes>"
      ]
     },
     "metadata": {
      "needs_background": "light"
     },
     "output_type": "display_data"
    }
   ],
   "source": [
    "plt.plot(np.array(Result_SPSA[:]).T, label='SPSA')\n",
    "plt.plot(np.array(Result_CSPSA[:]).T,label='CSPSA')\n",
    "plt.plot(np.array(Result_SPSA2[:]).T,label='SPSA2')\n",
    "plt.xlim(0,100)\n",
    "plt.legend()"
   ]
  },
  {
   "cell_type": "code",
   "execution_count": 25,
   "metadata": {},
   "outputs": [
    {
     "name": "stdout",
     "output_type": "stream",
     "text": [
      "[[-5.13665744  3.63569364 -2.1780195   2.67292112 -1.13047282  2.71688027\n",
      "   0.73217499 -1.68244863  0.14796194 -5.59682871 -3.14141526 -2.90028355\n",
      "  -3.02380889 -4.01308354  0.62913344  1.10981598  4.29196442  1.42215889\n",
      "  -3.80432777 -1.15835013 -1.11707198 -4.03651042 -4.40380386  0.4439807\n",
      "   0.72354329 -2.96871507 -3.03535517 -5.39544511  0.48246201 -3.36544662\n",
      "  -2.63759777 -5.31319429 -4.2208901  -3.97529379 -4.67523618 -3.2454035\n",
      "  -3.62390553 -3.97613402 -4.01441696 -5.49424532 -5.69000925 -4.88134519\n",
      "  -4.8332776  -5.61523738 -4.00593027 -3.03380098 -2.62124129 -2.70564256\n",
      "  -3.00115291 -3.64382615  0.69590881 -1.80971607 -1.96729971 -1.65448179\n",
      "  -5.24005393 -5.33425737 -5.90737009 -5.91452047 -5.91455482 -5.91317938\n",
      "  -5.90063189 -5.91546859 -5.91400879 -5.91573366 -5.91572783 -5.9158074\n",
      "  -5.91498814 -5.90751392 -5.90803375 -5.90731855 -5.88180874 -5.91513632\n",
      "  -5.91599685 -5.91603586 -5.91560019 -5.91532464 -5.91535742 -5.91256293\n",
      "  -5.9131707  -5.91117073 -5.91103916 -5.91094933 -5.90357935 -5.90361349\n",
      "  -5.89839925 -5.90736754 -5.90814377 -5.90814362 -5.90998848 -5.91603947\n",
      "  -5.91605064 -5.91559851 -5.9148226  -5.91546223 -5.91605094 -5.91596986\n",
      "  -5.91598637 -5.91599621 -5.91606105 -5.91605208 -5.91596051 -5.91584839\n",
      "  -5.91577023 -5.91570986 -5.91568562 -5.91465536 -5.91471861 -5.9147407\n",
      "  -5.91587986 -5.91587862 -5.91600565 -5.91603741 -5.91543513 -5.91607343\n",
      "  -5.91591679 -5.91544924 -5.91545517 -5.91514173 -5.91506513 -5.91541969\n",
      "  -5.91605311 -5.91605132 -5.91603719 -5.9159776  -5.91598024 -5.9159608\n",
      "  -5.91590598 -5.91552617 -5.91558682 -5.9155876  -5.91554027 -5.91606312\n",
      "  -5.91601986 -5.91590492 -5.91588772 -5.91603011 -5.91605319 -5.91603875\n",
      "  -5.91599379 -5.91606138 -5.91582423 -5.91564036 -5.91591394 -5.9159928\n",
      "  -5.91600036 -5.91600579 -5.91582105 -5.91587793 -5.91581091 -5.91584287\n",
      "  -5.91596536 -5.91603743 -5.91603437 -5.91601769 -5.91596345 -5.9159502\n",
      "  -5.91603212 -5.91604356 -5.91604832 -5.91601378 -5.91598473 -5.91601087\n",
      "  -5.91598785 -5.91606313 -5.91601493 -5.91598428 -5.91593489 -5.91592197\n",
      "  -5.91589548 -5.9158656  -5.91591076 -5.91593134 -5.91584237 -5.91589028\n",
      "  -5.91591229 -5.91582946 -5.91605845 -5.91602393 -5.9160235  -5.91602347\n",
      "  -5.91600047 -5.91600323 -5.91597898 -5.91597921 -5.9160285  -5.91606466\n",
      "  -5.91604514 -5.9160124  -5.91605292 -5.91605133 -5.91604269 -5.91602218\n",
      "  -5.91602087 -5.9160024  -5.91601526 -5.91597983 -5.91592144 -5.91594412\n",
      "  -5.91603504 -5.91601397 -5.91602988 -5.9160315  -5.91605272 -5.91602352\n",
      "  -5.91594416 -5.91596907 -5.91606722 -5.91607567 -5.91605655 -5.91604266\n",
      "  -5.91600002 -5.91607148 -5.91604691 -5.91603899 -5.91597296 -5.91605045\n",
      "  -5.91602596 -5.91596477 -5.91596238 -5.91600778 -5.91600442 -5.9160237\n",
      "  -5.91603526 -5.91604491 -5.91605072 -5.9160684  -5.91605262 -5.91598694\n",
      "  -5.91607968 -5.91607903 -5.91607506 -5.91605958 -5.91604521 -5.9160336\n",
      "  -5.9160567  -5.91604246 -5.91603029 -5.91597211 -5.91598355 -5.91605901\n",
      "  -5.91606255 -5.91607483 -5.9160787  -5.9160626  -5.91605706 -5.91600815\n",
      "  -5.9160599  -5.91605625 -5.91605474 -5.91601242 -5.91604202 -5.91602748\n",
      "  -5.91601764 -5.91606089 -5.91601622 -5.91601882 -5.9160566  -5.9160121\n",
      "  -5.91602005 -5.91605984 -5.91605562 -5.91605482 -5.91605471 -5.91604579\n",
      "  -5.91601279 -5.91607254 -5.91607167 -5.91607495 -5.91607709 -5.91603687\n",
      "  -5.91603749 -5.91603772 -5.91605727 -5.91604746 -5.91604977 -5.91603036\n",
      "  -5.91599288 -5.91597568 -5.91602171 -5.91598245 -5.91598806 -5.91598124\n",
      "  -5.9159381  -5.9160074  -5.91597784 -5.91602343 -5.91606698 -5.91606667\n",
      "  -5.91602847 -5.91604784 -5.91607406 -5.91607507 -5.91604128 -5.91601286\n",
      "  -5.91603261 -5.91603296 -5.91602438 -5.91606952 -5.91605408 -5.91606593]]\n"
     ]
    }
   ],
   "source": [
    "np.savetxt('prueba.txt', Result_SPSA, delimiter=',')\n",
    "print(Result_SPSA)"
   ]
  },
  {
   "cell_type": "code",
   "execution_count": 26,
   "metadata": {},
   "outputs": [
    {
     "name": "stdout",
     "output_type": "stream",
     "text": [
      "[[-5.13665744  2.51662283 -3.20608867  2.29506401 -3.74239607 -1.14478879\n",
      "   0.6596274  -3.98354071  1.11599154  1.12633307 -1.33071997 -2.73440822\n",
      "  -4.12202466 -0.64298247 -1.22301881  1.01351291  0.049638   -3.89510676\n",
      "  -3.05468813 -4.10959642 -4.1057269  -3.18875692 -1.0429864  -5.58051241\n",
      "  -3.23214404 -4.21695176 -3.82420707 -3.97185928 -3.9145895  -4.15878153\n",
      "  -4.52943666 -4.50880216 -3.07031292 -4.81522313 -5.39951397 -4.74132105\n",
      "  -4.82465629 -4.83018981 -3.46692229 -3.87644911 -3.89118057 -4.84465462\n",
      "  -5.49750791 -5.25971228 -5.27640319 -5.12403152 -5.56711175 -5.7170996\n",
      "  -5.80726084 -5.78049435 -5.88522983 -5.90407899 -5.90413612 -5.90792565\n",
      "  -5.90628049 -5.91051626 -5.91145045 -5.91224751 -5.91180805 -5.91418091\n",
      "  -5.91423274 -5.91583987 -5.91586821 -5.91588065 -5.91602106 -5.91600211\n",
      "  -5.91595643 -5.916015   -5.91600001 -5.91601026 -5.91603989 -5.91604395\n",
      "  -5.91606901 -5.91607101 -5.91595918 -5.91604277 -5.9160029  -5.91606127\n",
      "  -5.91605464 -5.91598883 -5.91597277 -5.91600837 -5.91605855 -5.91607446\n",
      "  -5.91606554 -5.91606519 -5.91599716 -5.91595667 -5.91603906 -5.9160067\n",
      "  -5.91603328 -5.91605929 -5.91605004 -5.91607259 -5.91604157 -5.91607928\n",
      "  -5.91607907 -5.91607897 -5.91607935 -5.9160492  -5.91606973 -5.91602641\n",
      "  -5.91605801 -5.91607327 -5.91605531 -5.91605809 -5.91604085 -5.9160669\n",
      "  -5.91607068 -5.91603911 -5.91607301 -5.91607851 -5.91607435 -5.91607424\n",
      "  -5.91605864 -5.91602805 -5.91604868 -5.91605056 -5.91605068 -5.91604432\n",
      "  -5.91603007 -5.91603611 -5.9160206  -5.91605853 -5.91604196 -5.91606348\n",
      "  -5.91606436 -5.91605032 -5.91604691 -5.91604109 -5.91601913 -5.91604575\n",
      "  -5.91605283 -5.91607801 -5.9160782  -5.91607943 -5.91607854 -5.91607836\n",
      "  -5.9160753  -5.91606497 -5.91605219 -5.91607116 -5.91605841 -5.91604713\n",
      "  -5.91606024 -5.91606121 -5.9160751  -5.91607603 -5.91607608 -5.91606889\n",
      "  -5.91605921 -5.91604447 -5.91604327 -5.91603518 -5.91603758 -5.91604562\n",
      "  -5.91603404 -5.91602933 -5.91606072 -5.91606074 -5.91607748 -5.91607504\n",
      "  -5.91607503 -5.9160698  -5.91607226 -5.91607775 -5.91607897 -5.91607916\n",
      "  -5.91607726 -5.91607779 -5.91607502 -5.91607252 -5.91607315 -5.91607326\n",
      "  -5.91607888 -5.91607916 -5.91606912 -5.91605952 -5.91607425 -5.91607628\n",
      "  -5.91606753 -5.91606835 -5.91607748 -5.91607912 -5.91607949 -5.91607879\n",
      "  -5.91607681 -5.91607737 -5.91607451 -5.91606697 -5.91606858 -5.9160613\n",
      "  -5.91605409 -5.91604902 -5.91605577 -5.91606002 -5.91607095 -5.91607536\n",
      "  -5.91607694 -5.91607802 -5.91607023 -5.9160631  -5.916068   -5.91607457\n",
      "  -5.91606581 -5.9160635  -5.91605785 -5.91605567 -5.9160708  -5.91606266\n",
      "  -5.91606306 -5.91607592 -5.91607814 -5.91607672 -5.91607226 -5.9160773\n",
      "  -5.91607724 -5.916077   -5.91607275 -5.91607964 -5.91607919 -5.91607849\n",
      "  -5.91607458 -5.9160754  -5.91606988 -5.9160653  -5.91606117 -5.91605773\n",
      "  -5.91605965 -5.91605694 -5.91605483 -5.91605573 -5.91604883 -5.91605194\n",
      "  -5.91606046 -5.91605787 -5.91605944 -5.91605944 -5.91606983 -5.91606612\n",
      "  -5.91606613 -5.91606465 -5.91606171 -5.91605942 -5.91606734 -5.91606727\n",
      "  -5.91606499 -5.91606553 -5.91606102 -5.91605638 -5.91605906 -5.91605759\n",
      "  -5.91605675 -5.91605867 -5.91605999 -5.91606089 -5.91605967 -5.91606028\n",
      "  -5.91606028 -5.91605747 -5.91605398 -5.91606528 -5.91607236 -5.91606902\n",
      "  -5.91606559 -5.91607448 -5.91607707 -5.91607704 -5.91607542 -5.91607842\n",
      "  -5.91607845 -5.91607844 -5.91607849 -5.9160793  -5.91607929 -5.91607913\n",
      "  -5.91607744 -5.91607569 -5.91607199 -5.91607383 -5.91607637 -5.91607271\n",
      "  -5.91606798 -5.91607243 -5.9160744  -5.91607449 -5.91607494 -5.91607193\n",
      "  -5.91607286 -5.91607299 -5.91607814 -5.9160789  -5.91607934 -5.91607977\n",
      "  -5.91607974 -5.91607806 -5.91607822 -5.91607568 -5.91607142 -5.91606761]]\n"
     ]
    }
   ],
   "source": [
    "np.savetxt('prueba.txt', Result_CSPSA, delimiter=',')\n",
    "print(Result_CSPSA)"
   ]
  },
  {
   "cell_type": "code",
   "execution_count": 27,
   "metadata": {},
   "outputs": [
    {
     "name": "stdout",
     "output_type": "stream",
     "text": [
      "[[ 0.28742022-0.33797781j]\n",
      " [-0.51264359-0.7350899j ]]\n"
     ]
    },
    {
     "data": {
      "text/plain": [
       "matrix([[-5.13665744+8.8817842e-16j]])"
      ]
     },
     "execution_count": 27,
     "metadata": {},
     "output_type": "execute_result"
    }
   ],
   "source": [
    "print(psi_est)\n",
    "fun(psi_est)"
   ]
  },
  {
   "cell_type": "code",
   "execution_count": null,
   "metadata": {},
   "outputs": [],
   "source": []
  }
 ],
 "metadata": {
  "kernelspec": {
   "display_name": "Python 3",
   "language": "python",
   "name": "python3"
  },
  "language_info": {
   "codemirror_mode": {
    "name": "ipython",
    "version": 3
   },
   "file_extension": ".py",
   "mimetype": "text/x-python",
   "name": "python",
   "nbconvert_exporter": "python",
   "pygments_lexer": "ipython3",
   "version": "3.6.10"
  }
 },
 "nbformat": 4,
 "nbformat_minor": 4
}
